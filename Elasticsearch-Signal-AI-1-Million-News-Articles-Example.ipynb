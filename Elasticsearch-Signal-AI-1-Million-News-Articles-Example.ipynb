{
 "cells": [
  {
   "metadata": {},
   "cell_type": "markdown",
   "source": "# GitHub Repository: [Elasticsearch-Signal-AI-1-Million-News-Articles-Example](https://github.com/abullard1/Elasticsearch-Signal-AI-1-Million-News-Articles-Example)",
   "id": "35b99d0dab9e1693"
  },
  {
   "metadata": {},
   "cell_type": "markdown",
   "source": [
    "#### **<u>Helpful Resources</u>**\n",
    "#### [Elasticsearch Regular Documentation](https://www.elastic.co/guide/en/elasticsearch/reference/current/index.html)\n",
    "#### [Elasticsearch Python Library Documentation](https://elasticsearch-py.readthedocs.io/en/v8.14.0/)"
   ],
   "id": "50a36007db9f15f3"
  },
  {
   "metadata": {
    "ExecuteTime": {
     "end_time": "2024-06-24T17:36:08.032337Z",
     "start_time": "2024-06-24T17:36:07.352770Z"
    }
   },
   "cell_type": "code",
   "source": [
    "# Imports\n",
    "import requests\n",
    "import json\n",
    "\n",
    "from elasticsearch import Elasticsearch\n",
    "from elasticsearch import helpers\n",
    "from elasticsearch.helpers import bulk\n",
    "from elasticsearch.client import IngestClient\n",
    "\n",
    "from tqdm import tqdm"
   ],
   "id": "637c2e36c24715fa",
   "outputs": [
    {
     "name": "stderr",
     "output_type": "stream",
     "text": [
      "C:\\Users\\samue\\AppData\\Local\\Temp\\ipykernel_16664\\3167700920.py:8: DeprecationWarning: Importing from the 'elasticsearch.client' module is deprecated. Instead use 'elasticsearch' module for importing the client.\n",
      "  from elasticsearch.client import IngestClient\n"
     ]
    }
   ],
   "execution_count": 1
  },
  {
   "metadata": {
    "ExecuteTime": {
     "end_time": "2024-06-24T17:36:08.042568Z",
     "start_time": "2024-06-24T17:36:08.032337Z"
    }
   },
   "cell_type": "code",
   "source": [
    "# Command to reset elasticsearch password: docker exec -it es01 /usr/share/elasticsearch/bin/elasticsearch-reset-password -u elastic\n",
    "# Elasticsearch configuration\n",
    "config = {\n",
    "    \"ELASTICSEARCH_URL\": \"http://localhost:9200/\",\n",
    "    \"KIBANA_URL\": \"http://localhost:5601/\",\n",
    "    \"FILE_PATH\": \"data/Signal-1M.jsonl\",\n",
    "    \"DOC_INDEX_AMOUNT\": 1000000\n",
    "}"
   ],
   "id": "496a3b6425dd8c45",
   "outputs": [],
   "execution_count": 2
  },
  {
   "metadata": {
    "ExecuteTime": {
     "end_time": "2024-06-24T17:36:08.092538Z",
     "start_time": "2024-06-24T17:36:08.045480Z"
    }
   },
   "cell_type": "code",
   "source": [
    "# Connecting to Elasticsearch instance and checking the connection\n",
    "es = Elasticsearch(\n",
    "    [config[\"ELASTICSEARCH_URL\"]],\n",
    "    request_timeout=60,\n",
    "    verify_certs=True)\n",
    "\n",
    "if es.ping():\n",
    "    print(\"Connected to Elasticsearch.\")\n",
    "else:\n",
    "    print(\"Failed to connect to Elasticsearch.\")\n",
    "    "
   ],
   "id": "e5ccc1a95662a84c",
   "outputs": [
    {
     "name": "stdout",
     "output_type": "stream",
     "text": [
      "Connected to Elasticsearch.\n"
     ]
    }
   ],
   "execution_count": 3
  },
  {
   "metadata": {
    "ExecuteTime": {
     "end_time": "2024-06-24T17:36:08.123788Z",
     "start_time": "2024-06-24T17:36:08.092538Z"
    }
   },
   "cell_type": "code",
   "source": [
    "# Checking the cluster health to verify the connection (Tested with 4 elasticsearch nodes)\n",
    "cluster_health = es.cluster.health()\n",
    "print(cluster_health)"
   ],
   "id": "6522f0544b9af247",
   "outputs": [
    {
     "name": "stdout",
     "output_type": "stream",
     "text": [
      "{'cluster_name': 'es-docker-cluster', 'status': 'green', 'timed_out': False, 'number_of_nodes': 4, 'number_of_data_nodes': 4, 'active_primary_shards': 36, 'active_shards': 72, 'relocating_shards': 0, 'initializing_shards': 0, 'unassigned_shards': 0, 'delayed_unassigned_shards': 0, 'number_of_pending_tasks': 0, 'number_of_in_flight_fetch': 0, 'task_max_waiting_in_queue_millis': 0, 'active_shards_percent_as_number': 100.0}\n"
     ]
    }
   ],
   "execution_count": 4
  },
  {
   "metadata": {
    "ExecuteTime": {
     "end_time": "2024-06-24T17:36:08.377183Z",
     "start_time": "2024-06-24T17:36:08.153809Z"
    }
   },
   "cell_type": "code",
   "source": [
    "# Connecting to Kibana to verify the connection\n",
    "try:\n",
    "    response = requests.get(config[\"KIBANA_URL\"])\n",
    "    if response.status_code == 200:\n",
    "        print(\"Connected to Kibana.\")\n",
    "    else:\n",
    "        print(f\"Failed to connect to Kibana. Status code: {response.status_code}\")\n",
    "except requests.exceptions.RequestException as e:\n",
    "    print(f\"Error connecting to Kibana: {e}\")"
   ],
   "id": "f1dc03a52e23d060",
   "outputs": [
    {
     "name": "stdout",
     "output_type": "stream",
     "text": [
      "Connected to Kibana.\n"
     ]
    }
   ],
   "execution_count": 5
  },
  {
   "metadata": {
    "ExecuteTime": {
     "end_time": "2024-06-24T17:36:08.396275Z",
     "start_time": "2024-06-24T17:36:08.381456Z"
    }
   },
   "cell_type": "code",
   "source": [
    "# Function to create an index with the specified mappings\n",
    "def create_index(index_name, mappings):\n",
    "    try:\n",
    "        es.indices.create(index=index_name, body=mappings)\n",
    "        print(f\"Index {index_name} created successfully.\")\n",
    "    except Exception as e:\n",
    "        print(f\"Failed to create index {index_name}. Error: {str(e)}\")\n"
   ],
   "id": "1a701a58d9bcb6db",
   "outputs": [],
   "execution_count": 6
  },
  {
   "metadata": {
    "ExecuteTime": {
     "end_time": "2024-06-24T17:36:08.411794Z",
     "start_time": "2024-06-24T17:36:08.398286Z"
    }
   },
   "cell_type": "code",
   "source": [
    "# Example of the Signal AI 1 Million News Articles Dataset Data\n",
    "# {\n",
    "#     \"id\": \"a080f99a-07d9-47d1-8244-26a540017b7a\",\n",
    "#     \"content\": \"KUALA LUMPUR, Sept 15 (MySinchew) -- The Kuala Lumpur City Hall today issued ...\",\n",
    "#     \"title\": \"Pay up or face legal action: DBKL\",\n",
    "#     \"media-type\": \"News\",\n",
    "#     \"source\": \"My Sinchew\",\n",
    "#     \"published\": \"2015-09-15T10:17:53Z\"\n",
    "# }"
   ],
   "id": "2d9b78ef51aab55c",
   "outputs": [],
   "execution_count": 7
  },
  {
   "metadata": {
    "ExecuteTime": {
     "end_time": "2024-06-24T17:36:08.433135Z",
     "start_time": "2024-06-24T17:36:08.411794Z"
    }
   },
   "cell_type": "code",
   "source": [
    "# Mappings corresponding to the fields in the Signal AI 1 Million News Articles Dataset Data\n",
    "mappings = {\n",
    "    \"mappings\": {\n",
    "        \"properties\": {\n",
    "            \"id\": {\"type\": \"keyword\"},\n",
    "            \"content\": {\"type\": \"text\"},\n",
    "            \"title\": {\"type\": \"text\"},\n",
    "            \"media-type\": {\"type\": \"keyword\"},\n",
    "            \"source\": {\"type\": \"keyword\"},\n",
    "            \"published\": {\"type\": \"date\"}\n",
    "        }\n",
    "    }\n",
    "}"
   ],
   "id": "b15314b1bc45a3e5",
   "outputs": [],
   "execution_count": 8
  },
  {
   "metadata": {
    "ExecuteTime": {
     "end_time": "2024-06-24T17:36:08.450396Z",
     "start_time": "2024-06-24T17:36:08.434368Z"
    }
   },
   "cell_type": "code",
   "source": [
    "# Deletes a specified index if it exists\n",
    "def delete_index(index_name):\n",
    "    try:\n",
    "        response = es.indices.delete(index=index_name)\n",
    "        print(f\"Index {index_name} deleted successfully: {response}\")\n",
    "    except Exception as e:\n",
    "        print(f\"Failed to delete index {index_name}. Error: {str(e)}\")"
   ],
   "id": "5d554d298bbbdf49",
   "outputs": [],
   "execution_count": 9
  },
  {
   "metadata": {
    "ExecuteTime": {
     "end_time": "2024-06-24T17:36:09.110570Z",
     "start_time": "2024-06-24T17:36:08.450396Z"
    }
   },
   "cell_type": "code",
   "source": [
    "# Deletes the \"news_data\" index if it exists\n",
    "delete_index(\"news_data\")"
   ],
   "id": "dfdabf016b3bc203",
   "outputs": [
    {
     "name": "stdout",
     "output_type": "stream",
     "text": [
      "Index news_data deleted successfully: {'acknowledged': True}\n"
     ]
    }
   ],
   "execution_count": 10
  },
  {
   "metadata": {
    "ExecuteTime": {
     "end_time": "2024-06-24T17:36:11.411616Z",
     "start_time": "2024-06-24T17:36:09.114627Z"
    }
   },
   "cell_type": "code",
   "source": [
    "# Creates the \"news_data\" index with the specified mappings\n",
    "create_index(index_name=\"news_data\", mappings=mappings)"
   ],
   "id": "72e4f37203a783c7",
   "outputs": [
    {
     "name": "stdout",
     "output_type": "stream",
     "text": [
      "Index news_data created successfully.\n"
     ]
    }
   ],
   "execution_count": 11
  },
  {
   "metadata": {
    "ExecuteTime": {
     "end_time": "2024-06-24T17:36:11.429507Z",
     "start_time": "2024-06-24T17:36:11.415886Z"
    }
   },
   "cell_type": "code",
   "source": [
    "# Indexes documents in bulk\n",
    "# Takes an op_type, index_name, documents, index_amount, chunk_size, and pipeline as input\n",
    "# op_type: \"index\", \"create\", \"update\", \"delete\"\n",
    "# index_name: Name of the index\n",
    "# documents: List of documents to be indexed\n",
    "# index_amount: Amount of documents to be indexed\n",
    "# chunk_size: Number of documents to be indexed in each chunk\n",
    "# pipeline: Name/ID of the ingest pipeline to be used if any\n",
    "def index_docs_bulk(es, op_type, index_name, documents, index_amount, chunk_size, pipeline=None):\n",
    "    # Defines the indexing actions to be performed\n",
    "    actions = [\n",
    "        {\n",
    "            \"_op_type\": op_type,\n",
    "            \"_index\": index_name,\n",
    "            \"_id\": doc[\"id\"],\n",
    "            \"_source\": doc,\n",
    "            \"pipeline\": pipeline,\n",
    "            \"chunk_size\": chunk_size,\n",
    "        }\n",
    "        for doc in documents[:index_amount]\n",
    "    ]\n",
    "    \n",
    "    # Configures the progress bar for the indexing process\n",
    "    progress = tqdm(total=len(actions), desc=\"Indexing documents\", unit=\"doc\")\n",
    "    progress.bar_format = \"{l_bar}{bar}| {n_fmt}/{total_fmt} [{elapsed}<{remaining}, {rate_fmt}]\"\n",
    "    progress.set_postfix_str(\"Indexing...\")\n",
    "\n",
    "    for success, info in helpers.streaming_bulk(es, actions):\n",
    "        progress.update(1)  # Updates the progress bar\n",
    "        if not success:\n",
    "            print(f\"Failed to index document: {info}\")\n",
    "\n",
    "    progress.close()"
   ],
   "id": "7683842f83d3d746",
   "outputs": [],
   "execution_count": 12
  },
  {
   "metadata": {
    "ExecuteTime": {
     "end_time": "2024-06-24T17:36:11.445370Z",
     "start_time": "2024-06-24T17:36:11.432023Z"
    }
   },
   "cell_type": "code",
   "source": [
    "# Loads the documents from the specified file path\n",
    "def load_documents(file_path, num_lines):\n",
    "    file_data = []\n",
    "    with open(file_path, \"r\") as json_file:\n",
    "        for i, line in enumerate(json_file):\n",
    "            if i >= num_lines:\n",
    "                break\n",
    "            file_data.append(json.loads(line))\n",
    "    print(f\"Loaded {len(file_data)} documents from {file_path}\")\n",
    "    return file_data"
   ],
   "id": "f8e7276d37178f2e",
   "outputs": [],
   "execution_count": 13
  },
  {
   "metadata": {
    "ExecuteTime": {
     "end_time": "2024-06-24T17:36:32.580832Z",
     "start_time": "2024-06-24T17:36:11.454418Z"
    }
   },
   "cell_type": "code",
   "source": [
    "# Loads the documents from the documents from the Signal AI 1 Million News Articles Dataset\n",
    "file_data = load_documents(config[\"FILE_PATH\"], config[\"DOC_INDEX_AMOUNT\"])\n",
    "# Prints example document\n",
    "print(file_data[0])"
   ],
   "id": "5039f23b98df2cc1",
   "outputs": [
    {
     "name": "stdout",
     "output_type": "stream",
     "text": [
      "Loaded 1000000 documents from data/Signal-1M.jsonl\n",
      "{'id': 'f7ca322d-c3e8-40d2-841f-9d7250ac72ca', 'content': 'VETERANS saluted Worcester\\'s first ever breakfast club for ex-soldiers which won over hearts, minds and bellies. \\n \\nThe Worcester Breakfast Club for HM Forces Veterans met at the Postal Order in Foregate Street at 10am on Saturday. \\n \\nThe club is designed to allow veterans a place to meet, socialise, eat and drink, giving hunger and loneliness their marching orders. \\n \\nFather-of-two Dave Carney, aged 43, of Merrimans Hill, Worcester, set up the club after being inspired by other similar clubs across the country. \\n \\nHe said: \"As you can see from the picture, we had a good response. Five out of the 10 that attended said they saw the article in the newspaper and turned up. \\n \\n\"We even had an old chap travel from Droitwich and he was late on parade by three hours. \\n \\n\"It\\'s generated a lot of interest and I estimate (from other veterans who saw the article) that next month\\'s meeting will attract about 20 people. Onwards and upwards.\" \\n \\nHe said the management at the pub had been extremely hospitable to them. \\n \\nMr Carney said: \"They bent over backwards for us. They really looked after us well. That is the best choice of venue I could have made. They even put \\'reserved for the armed forces\\'. \\n   Promoted stories   \\nThe reserve veteran with the Royal Engineers wanted to go to a breakfast club but found the nearest ones were in Bromsgrove and Gloucester so he decided to set up his own, closer to home. \\n \\nHe was influenced by Derek Hardman who set up a breakfast club for veterans in Hull and Andy Wilson who set one up in Newcastle. He said the idea has snowballed and there were now 70 similar clubs across the country and even some in Germany. \\n \\nMr Carney said with many Royal British Legion clubs closing he wanted veterans and serving personnel to feel they had somewhere they could go for good grub, beer and banter to recapture the comradery of being in the forces. \\n \\nThe Postal Order was chosen because of its central location and its proximity to the railway station and hotels and reasonably priced food and drink. \\n \\nThe management of the pub have even given the veterans a designated area within the pub. \\n   \\n Share article  \\n   \\nThe next meeting is at the Postal Order on Saturday, October 3 at 10am. \\n \\nThe breakfast club meets on the first Saturday of each month for those who want to attend in future.', 'title': 'Worcester breakfast club for veterans gives hunger its marching orders', 'media-type': 'News', 'source': 'Redditch Advertiser', 'published': '2015-09-07T10:16:14Z'}\n"
     ]
    }
   ],
   "execution_count": 14
  },
  {
   "metadata": {
    "ExecuteTime": {
     "end_time": "2024-06-24T17:36:32.672459Z",
     "start_time": "2024-06-24T17:36:32.606037Z"
    }
   },
   "cell_type": "code",
   "source": [
    "# Filters the data and ensures, that only the specified fields are included in the document\n",
    "def filter_data(data):\n",
    "    filtered_data = []\n",
    "    for line in data:\n",
    "        try:\n",
    "            filtered_data.append({\n",
    "                \"id\": line[\"id\"],\n",
    "                \"content\": line[\"content\"],\n",
    "                \"title\": line[\"title\"],\n",
    "                \"media-type\": line[\"media-type\"],\n",
    "                \"source\": line[\"source\"],\n",
    "                \"published\": line[\"published\"]\n",
    "            })\n",
    "        except Exception as e:\n",
    "            print(f\"Failed to filter document: {str(e)}\")\n",
    "            continue\n",
    "    return filtered_data"
   ],
   "id": "81b3266d4e9c13cb",
   "outputs": [],
   "execution_count": 15
  },
  {
   "metadata": {
    "ExecuteTime": {
     "end_time": "2024-06-24T17:48:29.023456Z",
     "start_time": "2024-06-24T17:36:32.672459Z"
    }
   },
   "cell_type": "code",
   "source": "index_docs_bulk(es=es , op_type=\"index\", index_name=\"news_data\", documents=filter_data(file_data), index_amount=config[\"DOC_INDEX_AMOUNT\"], chunk_size=1000, pipeline=None)",
   "id": "c9b2ab0212b9d47c",
   "outputs": [
    {
     "name": "stderr",
     "output_type": "stream",
     "text": [
      "Indexing documents: 100%|██████████| 1000000/1000000 [11:10<00:00, 1490.97doc/s]\n"
     ]
    }
   ],
   "execution_count": 16
  },
  {
   "metadata": {
    "ExecuteTime": {
     "end_time": "2024-06-24T17:48:29.509048Z",
     "start_time": "2024-06-24T17:48:29.023456Z"
    }
   },
   "cell_type": "code",
   "source": [
    "# Counts the number of documents in the \"news_data\" index and prints the count\n",
    "doc_count = es.count(index=\"news_data\")[\"count\"]\n",
    "print(f\"Document count in 'news_data': {doc_count}\")"
   ],
   "id": "fc8658deeabdd140",
   "outputs": [
    {
     "name": "stdout",
     "output_type": "stream",
     "text": [
      "Document count in 'news_data': 1000000\n"
     ]
    }
   ],
   "execution_count": 17
  },
  {
   "metadata": {
    "ExecuteTime": {
     "end_time": "2024-06-24T17:48:29.562174Z",
     "start_time": "2024-06-24T17:48:29.509048Z"
    }
   },
   "cell_type": "code",
   "source": [
    "# Prints the first document in the \"news_data\" index to verify the successful indexing\n",
    "example_document_news_data = es.get(index=\"news_data\", id=file_data[0][\"id\"])\n",
    "print(example_document_news_data[\"_source\"])"
   ],
   "id": "4bd9e0896380744d",
   "outputs": [
    {
     "name": "stdout",
     "output_type": "stream",
     "text": [
      "{'id': 'f7ca322d-c3e8-40d2-841f-9d7250ac72ca', 'content': 'VETERANS saluted Worcester\\'s first ever breakfast club for ex-soldiers which won over hearts, minds and bellies. \\n \\nThe Worcester Breakfast Club for HM Forces Veterans met at the Postal Order in Foregate Street at 10am on Saturday. \\n \\nThe club is designed to allow veterans a place to meet, socialise, eat and drink, giving hunger and loneliness their marching orders. \\n \\nFather-of-two Dave Carney, aged 43, of Merrimans Hill, Worcester, set up the club after being inspired by other similar clubs across the country. \\n \\nHe said: \"As you can see from the picture, we had a good response. Five out of the 10 that attended said they saw the article in the newspaper and turned up. \\n \\n\"We even had an old chap travel from Droitwich and he was late on parade by three hours. \\n \\n\"It\\'s generated a lot of interest and I estimate (from other veterans who saw the article) that next month\\'s meeting will attract about 20 people. Onwards and upwards.\" \\n \\nHe said the management at the pub had been extremely hospitable to them. \\n \\nMr Carney said: \"They bent over backwards for us. They really looked after us well. That is the best choice of venue I could have made. They even put \\'reserved for the armed forces\\'. \\n   Promoted stories   \\nThe reserve veteran with the Royal Engineers wanted to go to a breakfast club but found the nearest ones were in Bromsgrove and Gloucester so he decided to set up his own, closer to home. \\n \\nHe was influenced by Derek Hardman who set up a breakfast club for veterans in Hull and Andy Wilson who set one up in Newcastle. He said the idea has snowballed and there were now 70 similar clubs across the country and even some in Germany. \\n \\nMr Carney said with many Royal British Legion clubs closing he wanted veterans and serving personnel to feel they had somewhere they could go for good grub, beer and banter to recapture the comradery of being in the forces. \\n \\nThe Postal Order was chosen because of its central location and its proximity to the railway station and hotels and reasonably priced food and drink. \\n \\nThe management of the pub have even given the veterans a designated area within the pub. \\n   \\n Share article  \\n   \\nThe next meeting is at the Postal Order on Saturday, October 3 at 10am. \\n \\nThe breakfast club meets on the first Saturday of each month for those who want to attend in future.', 'title': 'Worcester breakfast club for veterans gives hunger its marching orders', 'media-type': 'News', 'source': 'Redditch Advertiser', 'published': '2015-09-07T10:16:14Z'}\n"
     ]
    }
   ],
   "execution_count": 18
  },
  {
   "metadata": {
    "ExecuteTime": {
     "end_time": "2024-06-24T17:48:30.510127Z",
     "start_time": "2024-06-24T17:48:29.562174Z"
    }
   },
   "cell_type": "code",
   "source": [
    "# Deletes the \"news_data_custom\" index if it exists\n",
    "delete_index(\"news_data_custom\")"
   ],
   "id": "4454f530acec5aa",
   "outputs": [
    {
     "name": "stdout",
     "output_type": "stream",
     "text": [
      "Index news_data_custom deleted successfully: {'acknowledged': True}\n"
     ]
    }
   ],
   "execution_count": 19
  },
  {
   "metadata": {
    "ExecuteTime": {
     "end_time": "2024-06-24T17:48:32.136353Z",
     "start_time": "2024-06-24T17:48:30.510127Z"
    }
   },
   "cell_type": "code",
   "source": [
    "# Creates the \"news_data_custom\" index with the specified mappings\n",
    "create_index(index_name=\"news_data_custom\", mappings=mappings)"
   ],
   "id": "5fcb2f2e48554bde",
   "outputs": [
    {
     "name": "stdout",
     "output_type": "stream",
     "text": [
      "Index news_data_custom created successfully.\n"
     ]
    }
   ],
   "execution_count": 20
  },
  {
   "metadata": {
    "ExecuteTime": {
     "end_time": "2024-06-24T17:48:32.151988Z",
     "start_time": "2024-06-24T17:48:32.136353Z"
    }
   },
   "cell_type": "code",
   "source": [
    "# Creating an IngestClient to manage ingest processing pipelines\n",
    "ingest_client = IngestClient(es)"
   ],
   "id": "f4a1e34038025619",
   "outputs": [],
   "execution_count": 21
  },
  {
   "metadata": {
    "ExecuteTime": {
     "end_time": "2024-06-24T17:48:32.199337Z",
     "start_time": "2024-06-24T17:48:32.151988Z"
    }
   },
   "cell_type": "code",
   "source": [
    "# Creates a pipeline that is fed into the reindexing operation and which makes the title uppercase and the content lowercase\n",
    "# https://www.elastic.co/guide/en/elasticsearch/reference/current/ingest.html#create-manage-ingest-pipelines\n",
    "\n",
    "# API Approach (not used)\n",
    "# def create_preprocessing_pipeline():\n",
    "#     pipeline = {\n",
    "#         \"description\": \"Preprocessing pipeline\",\n",
    "#         \"processors\": [\n",
    "#             {\n",
    "#                 \"lowercase\": {\n",
    "#                     \"description\": \"Convert title to uppercase\",\n",
    "#                     \"field\": \"title\"\n",
    "#                 }\n",
    "#             },\n",
    "#             {\n",
    "#                 \"uppercase\": {\n",
    "#                     \"description\": \"Convert content to lowercase\",\n",
    "#                     \"field\": \"content\"\n",
    "#                 }\n",
    "#             }\n",
    "#         ]\n",
    "#     }\n",
    "# \n",
    "#     try:\n",
    "#         response = es.ingest.put_pipeline(id=\"preprocessing_pipeline\", body=pipeline)\n",
    "#         print(\"Preprocessing pipeline created successfully.\")\n",
    "#     except Exception as e:\n",
    "#         print(f\"Failed to create preprocessing pipeline. Error: {str(e)}\")\n",
    "# \n",
    "\n",
    "# Elasticsearch Python Library Approach\n",
    "# https://elasticsearch-py.readthedocs.io/en/v8.14.0/api/ingest-pipelines.html\n",
    "\n",
    "# Creates a pipeline that is later fed into the reindexing operation and which makes a field uppercase and another lowercase\n",
    "# Also removes newline characters from the content field and the backslash escape character in front of the single quote character\n",
    "def create_preprocessing_pipeline(es, ingest_client, uppercase_field, lowercase_field):\n",
    "    pipeline = {\n",
    "        \"description\": \"Preprocessing pipeline\",\n",
    "        \"processors\": [\n",
    "            {\n",
    "                \"uppercase\": {\n",
    "                    \"description\": \"Convert title to uppercase\",\n",
    "                    \"field\": uppercase_field\n",
    "                }\n",
    "            },\n",
    "            {\n",
    "                \"lowercase\": {\n",
    "                    \"description\": \"Convert content to lowercase\",\n",
    "                    \"field\": lowercase_field\n",
    "                }\n",
    "            },\n",
    "            {\n",
    "                \"gsub\": {\n",
    "                    \"description\": \"Removes newline characters from content field\",\n",
    "                    \"field\": \"content\",\n",
    "                    \"pattern\": \"\\\\n\",\n",
    "                    \"replacement\": \"\"\n",
    "                }\n",
    "            },\n",
    "            {\n",
    "                \"gsub\": {\n",
    "                    \"description\": \"Removes the backslash escape character in front of the single quote character\",\n",
    "                    \"field\": \"content\",\n",
    "                    \"pattern\": \"\\\\'\",\n",
    "                    \"replacement\": \"'\"\n",
    "                }\n",
    "            }\n",
    "        ]\n",
    "    }\n",
    "\n",
    "    try:\n",
    "        ingest_client.put_pipeline(id=\"preprocessing_pipeline\", body=pipeline)\n",
    "        print(\"Preprocessing pipeline created successfully.\")\n",
    "    except Exception as e:\n",
    "        print(f\"Failed to create preprocessing pipeline. Error: {str(e)}\")"
   ],
   "id": "c8175814f0470ec8",
   "outputs": [],
   "execution_count": 22
  },
  {
   "metadata": {
    "ExecuteTime": {
     "end_time": "2024-06-24T17:48:32.261817Z",
     "start_time": "2024-06-24T17:48:32.199337Z"
    }
   },
   "cell_type": "code",
   "source": [
    "# Creates the preprocessing pipeline with the specified fields to be transformed\n",
    "create_preprocessing_pipeline(es, ingest_client=ingest_client, uppercase_field=\"title\", lowercase_field=\"content\")"
   ],
   "id": "baa7b6c359ba2613",
   "outputs": [
    {
     "name": "stdout",
     "output_type": "stream",
     "text": [
      "Preprocessing pipeline created successfully.\n"
     ]
    }
   ],
   "execution_count": 23
  },
  {
   "metadata": {
    "ExecuteTime": {
     "end_time": "2024-06-24T17:48:32.277838Z",
     "start_time": "2024-06-24T17:48:32.261817Z"
    }
   },
   "cell_type": "code",
   "source": [
    "# https://www.elastic.co/guide/en/elasticsearch/reference/current/docs-reindex.html\n",
    "# https://elasticsearch-py.readthedocs.io/en/v8.14.0/helpers.html#reindex\n",
    "# Function to reindex with transformation pipeline. This will copy documents from the source index to the target index and apply the specified pipeline transformation.\n",
    "# Uses the API instead of the Python library helper function, as this is the recommended approach and only this approach allows for the use of a pipeline during the reindexing process\n",
    "def reindex_with_transformation(es, source_index, target_index, pipeline_id, batch_size=500, requests_per_second=2000, request_timeout=3000):\n",
    "    body = {\n",
    "        \"source\": {\n",
    "            \"index\": source_index,\n",
    "            \"size\": batch_size\n",
    "        },\n",
    "        \"dest\": {\n",
    "            \"index\": target_index,\n",
    "            \"pipeline\": pipeline_id\n",
    "        },\n",
    "        \"conflicts\": \"proceed\"\n",
    "    }\n",
    "\n",
    "    response = es.options(request_timeout=request_timeout).reindex(\n",
    "        body=body,\n",
    "        wait_for_completion=True,\n",
    "        slices=\"auto\",\n",
    "        refresh=True,\n",
    "        requests_per_second=requests_per_second\n",
    "    )\n",
    "    return response"
   ],
   "id": "db2edca333a9418d",
   "outputs": [],
   "execution_count": 24
  },
  {
   "metadata": {
    "ExecuteTime": {
     "end_time": "2024-06-24T18:07:02.618011Z",
     "start_time": "2024-06-24T17:48:32.277838Z"
    }
   },
   "cell_type": "code",
   "source": [
    "# Fetches documents from the first index\n",
    "reindex_response = reindex_with_transformation(es=es, source_index=\"news_data\", target_index=\"news_data_custom\", pipeline_id=\"preprocessing_pipeline\", batch_size=500, requests_per_second=2000, request_timeout=3000)"
   ],
   "id": "e79904d137c18961",
   "outputs": [],
   "execution_count": 25
  },
  {
   "metadata": {
    "ExecuteTime": {
     "end_time": "2024-06-24T18:07:02.665326Z",
     "start_time": "2024-06-24T18:07:02.618011Z"
    }
   },
   "cell_type": "code",
   "source": [
    "# Counts the number of documents in the \"news_data_custom\" index and prints the count\n",
    "doc_count_custom = es.count(index=\"news_data_custom\")[\"count\"]\n",
    "print(f\"Document count in 'news_data_custom': {doc_count_custom}\")"
   ],
   "id": "66e0afa3a4dd1cce",
   "outputs": [
    {
     "name": "stdout",
     "output_type": "stream",
     "text": [
      "Document count in 'news_data_custom': 1000000\n"
     ]
    }
   ],
   "execution_count": 26
  },
  {
   "metadata": {
    "ExecuteTime": {
     "end_time": "2024-06-24T18:07:02.696853Z",
     "start_time": "2024-06-24T18:07:02.665326Z"
    }
   },
   "cell_type": "code",
   "source": [
    "# Prints the second document in the \"news_data\" index to verify the successful preprocessing using the pipeline\n",
    "example_document_news_data_custom = es.get(index=\"news_data_custom\", id=file_data[0][\"id\"])\n",
    "print(example_document_news_data_custom[\"_source\"])"
   ],
   "id": "464f2fa23dfcd362",
   "outputs": [
    {
     "name": "stdout",
     "output_type": "stream",
     "text": [
      "{'id': 'f7ca322d-c3e8-40d2-841f-9d7250ac72ca', 'source': 'Redditch Advertiser', 'published': '2015-09-07T10:16:14Z', 'title': 'WORCESTER BREAKFAST CLUB FOR VETERANS GIVES HUNGER ITS MARCHING ORDERS', 'media-type': 'News', 'content': 'veterans saluted worcester\\'s first ever breakfast club for ex-soldiers which won over hearts, minds and bellies.  the worcester breakfast club for hm forces veterans met at the postal order in foregate street at 10am on saturday.  the club is designed to allow veterans a place to meet, socialise, eat and drink, giving hunger and loneliness their marching orders.  father-of-two dave carney, aged 43, of merrimans hill, worcester, set up the club after being inspired by other similar clubs across the country.  he said: \"as you can see from the picture, we had a good response. five out of the 10 that attended said they saw the article in the newspaper and turned up.  \"we even had an old chap travel from droitwich and he was late on parade by three hours.  \"it\\'s generated a lot of interest and i estimate (from other veterans who saw the article) that next month\\'s meeting will attract about 20 people. onwards and upwards.\"  he said the management at the pub had been extremely hospitable to them.  mr carney said: \"they bent over backwards for us. they really looked after us well. that is the best choice of venue i could have made. they even put \\'reserved for the armed forces\\'.    promoted stories   the reserve veteran with the royal engineers wanted to go to a breakfast club but found the nearest ones were in bromsgrove and gloucester so he decided to set up his own, closer to home.  he was influenced by derek hardman who set up a breakfast club for veterans in hull and andy wilson who set one up in newcastle. he said the idea has snowballed and there were now 70 similar clubs across the country and even some in germany.  mr carney said with many royal british legion clubs closing he wanted veterans and serving personnel to feel they had somewhere they could go for good grub, beer and banter to recapture the comradery of being in the forces.  the postal order was chosen because of its central location and its proximity to the railway station and hotels and reasonably priced food and drink.  the management of the pub have even given the veterans a designated area within the pub.     share article     the next meeting is at the postal order on saturday, october 3 at 10am.  the breakfast club meets on the first saturday of each month for those who want to attend in future.'}\n"
     ]
    }
   ],
   "execution_count": 27
  },
  {
   "metadata": {
    "ExecuteTime": {
     "end_time": "2024-06-24T18:07:04.636179Z",
     "start_time": "2024-06-24T18:07:02.696853Z"
    }
   },
   "cell_type": "code",
   "source": [
    "delete_index(\"news_data_1000_1\")\n",
    "create_index(index_name=\"news_data_1000_1\", mappings=mappings)"
   ],
   "id": "3effc36431ca73b8",
   "outputs": [
    {
     "name": "stdout",
     "output_type": "stream",
     "text": [
      "Index news_data_1000_1 deleted successfully: {'acknowledged': True}\n",
      "Index news_data_1000_1 created successfully.\n"
     ]
    }
   ],
   "execution_count": 28
  },
  {
   "metadata": {
    "ExecuteTime": {
     "end_time": "2024-06-24T18:07:34.160521Z",
     "start_time": "2024-06-24T18:07:04.636179Z"
    }
   },
   "cell_type": "code",
   "source": "index_docs_bulk(es=es, op_type=\"index\", index_name=\"news_data_1000_1\", documents=filter_data(file_data), index_amount=1000, chunk_size=1000, pipeline=\"preprocessing_pipeline\")",
   "id": "3f33ab0ce5276b6b",
   "outputs": [
    {
     "name": "stderr",
     "output_type": "stream",
     "text": [
      "Indexing documents: 100%|██████████| 1000/1000 [00:00<00:00, 1206.41doc/s]\n"
     ]
    }
   ],
   "execution_count": 29
  },
  {
   "metadata": {
    "ExecuteTime": {
     "end_time": "2024-06-24T18:07:34.223411Z",
     "start_time": "2024-06-24T18:07:34.160521Z"
    }
   },
   "cell_type": "code",
   "source": [
    "doc_count_1000_1 = es.count(index=\"news_data_1000_1\")[\"count\"]\n",
    "print(f\"Document count in 'news_data_1000_1': {doc_count_1000_1}\")"
   ],
   "id": "9ca513b8921919fc",
   "outputs": [
    {
     "name": "stdout",
     "output_type": "stream",
     "text": [
      "Document count in 'news_data_1000_1': 1000\n"
     ]
    }
   ],
   "execution_count": 30
  },
  {
   "metadata": {
    "ExecuteTime": {
     "end_time": "2024-06-24T18:07:34.254670Z",
     "start_time": "2024-06-24T18:07:34.223411Z"
    }
   },
   "cell_type": "code",
   "source": [
    "# Prints the second document in the \"news_data_1000_1\" index to verify the preprocessing pipeline\n",
    "example_document_news_data_1000_1 = es.get(index=\"news_data_1000_1\", id=file_data[1][\"id\"])\n",
    "print(example_document_news_data_1000_1[\"_source\"])"
   ],
   "id": "1f4856029eee3821",
   "outputs": [
    {
     "name": "stdout",
     "output_type": "stream",
     "text": [
      "{'id': '609772bc-0672-4db5-8516-4c025cfd54ca', 'source': 'Virtualization Conference & Expo', 'published': '2015-09-17T15:00:00Z', 'title': 'JUMPSHOT GIVES MARKETERS RENEWED VISIBILITY INTO PAID AND ORGANIC KEYWORDS WITH LAUNCH OF JUMPSHOT ELITE', 'media-type': 'News', 'content': 'new product gives marketers access to real keywords, conversions and results along with 13 months of historical data san francisco, ca -- (marketwired) -- 09/17/15 -- jumpshot, a marketing analytics company that uses distinctive data sources to paint a complete picture of the online customer journey, today announced the launch of jumpshot elite, giving marketers insight into what their customers are doing the 99% of the time they\\'re not on your site. for years, marketers have been unable to see what organic and paid search terms users were entering, much less tie those searches to purchases. jumpshot not only injects that user search visibility back into the market, but also makes it possible to tie those keywords to conversions -- for any web site. \"ever since search engines encrypted search results, marketers have been in the dark about keywords, impacting not only the insight into their own search investments, but also their ability to unearth high converting keywords for their competitors,\" said deren baker, ceo of jumpshot. \"our platform eliminates the hacks, assumptions, and guesswork that marketers are doing now and provides real data: actual searches tied to actual conversions conducted by real people with nothing inferred.\" unlike other keyword research tools that receive data through the adwords api or send bots to cobble together various data inputs and implied metrics, jumpshot leverages its panel of over 115 million global consumers to analyze real search activity. as a result, jumpshot is able to provide companies with actionable data to improve the roi of their search marketing campaigns, seo tactics and content marketing initiatives. available today, jumpshot elite provides 13 months of backward-looking data as well as: access to real queries used by searchers paid and organic results for any website visibility into organic keywords, eliminating the \"not provided\" outcome in web analytics real user queries, clicks and transactions instead of machine-generated clicks with inferred results ability to tie keywords to real transactions on any website variable attribution models and lookback windows launched in january, 2015, jumpshot grew out of the ambitions of a group of smart marketers and data scientists who were frustrated about the limitations of the data they had access to, and excited about the opportunity to provide new insights into online behavior. the company uses distinctive data sources to paint a complete picture of the online world for businesses, from where customers spend time online to what they do there and how they get from place to place. by tracking the online customer journey down to each click, jumpshot reveals how and why customers arrive at purchase decisions. the company tracks more data in more detail than other services, tracking 160 billion monthly clicks generated by its extensive data panel. about jumpshot jumpshot is a marketing analytics platform that reveals the entire customer journey -- from the key sources of traffic to a site, to browsing and buying behavior on any domain. with a panel of 115 million users, jumpshot provides marketers with the insight to understand what their customers are doing the 99% of the time they\\'re not on their own site -- a scope of information never before attainable. jumpshot was founded in 2015 and is headquartered in san francisco. for more information, please visit www.jumpshot.com. image available: http://www2.marketwire.com/mw/frame_mw?attachid=2889222 kelly mayes the bulleit group 615-200-8845 published sep. 17, 2015 copyright © 2015 sys-con media, inc. — all rights reserved. syndicated stories and blog feeds, all rights reserved by the author.'}\n"
     ]
    }
   ],
   "execution_count": 31
  },
  {
   "metadata": {
    "ExecuteTime": {
     "end_time": "2024-06-24T18:07:36.040492Z",
     "start_time": "2024-06-24T18:07:34.254670Z"
    }
   },
   "cell_type": "code",
   "source": [
    "delete_index(\"news_data_custom_1000_2\")\n",
    "create_index(index_name=\"news_data_custom_1000_2\", mappings=mappings)"
   ],
   "id": "636cb8d467156d31",
   "outputs": [
    {
     "name": "stdout",
     "output_type": "stream",
     "text": [
      "Index news_data_custom_1000_2 deleted successfully: {'acknowledged': True}\n",
      "Index news_data_custom_1000_2 created successfully.\n"
     ]
    }
   ],
   "execution_count": 32
  },
  {
   "metadata": {
    "ExecuteTime": {
     "end_time": "2024-06-24T18:07:45.523296Z",
     "start_time": "2024-06-24T18:07:36.042482Z"
    }
   },
   "cell_type": "code",
   "source": "index_docs_bulk(es=es, op_type=\"index\", index_name=\"news_data_1000_2\", documents=filter_data(file_data), index_amount=1000, chunk_size=1000, pipeline=\"preprocessing_pipeline\")",
   "id": "c57d90bb317af41e",
   "outputs": [
    {
     "name": "stderr",
     "output_type": "stream",
     "text": [
      "Indexing documents: 100%|██████████| 1000/1000 [00:01<00:00, 783.19doc/s]\n"
     ]
    }
   ],
   "execution_count": 33
  },
  {
   "metadata": {
    "ExecuteTime": {
     "end_time": "2024-06-24T18:07:45.650056Z",
     "start_time": "2024-06-24T18:07:45.523296Z"
    }
   },
   "cell_type": "code",
   "source": [
    "doc_count_1000_2 = es.count(index=\"news_data_1000_2\")[\"count\"]\n",
    "print(f\"Document count in 'news_data_1000_2': {doc_count_1000_2}\")"
   ],
   "id": "81edddb6e63775fb",
   "outputs": [
    {
     "name": "stdout",
     "output_type": "stream",
     "text": [
      "Document count in 'news_data_1000_2': 1000\n"
     ]
    }
   ],
   "execution_count": 34
  },
  {
   "metadata": {
    "ExecuteTime": {
     "end_time": "2024-06-24T18:07:45.681357Z",
     "start_time": "2024-06-24T18:07:45.650056Z"
    }
   },
   "cell_type": "code",
   "source": [
    "# Printing the second document in the \"news_data_1000_2\" index to verify the preprocessing pipeline\n",
    "example_document_news_data_1000_2 = es.get(index=\"news_data_1000_2\", id=file_data[1][\"id\"])\n",
    "print(example_document_news_data_1000_2[\"_source\"])"
   ],
   "id": "b6177cacc7d59bcb",
   "outputs": [
    {
     "name": "stdout",
     "output_type": "stream",
     "text": [
      "{'id': '609772bc-0672-4db5-8516-4c025cfd54ca', 'source': 'Virtualization Conference & Expo', 'published': '2015-09-17T15:00:00Z', 'title': 'JUMPSHOT GIVES MARKETERS RENEWED VISIBILITY INTO PAID AND ORGANIC KEYWORDS WITH LAUNCH OF JUMPSHOT ELITE', 'media-type': 'News', 'content': 'new product gives marketers access to real keywords, conversions and results along with 13 months of historical data san francisco, ca -- (marketwired) -- 09/17/15 -- jumpshot, a marketing analytics company that uses distinctive data sources to paint a complete picture of the online customer journey, today announced the launch of jumpshot elite, giving marketers insight into what their customers are doing the 99% of the time they\\'re not on your site. for years, marketers have been unable to see what organic and paid search terms users were entering, much less tie those searches to purchases. jumpshot not only injects that user search visibility back into the market, but also makes it possible to tie those keywords to conversions -- for any web site. \"ever since search engines encrypted search results, marketers have been in the dark about keywords, impacting not only the insight into their own search investments, but also their ability to unearth high converting keywords for their competitors,\" said deren baker, ceo of jumpshot. \"our platform eliminates the hacks, assumptions, and guesswork that marketers are doing now and provides real data: actual searches tied to actual conversions conducted by real people with nothing inferred.\" unlike other keyword research tools that receive data through the adwords api or send bots to cobble together various data inputs and implied metrics, jumpshot leverages its panel of over 115 million global consumers to analyze real search activity. as a result, jumpshot is able to provide companies with actionable data to improve the roi of their search marketing campaigns, seo tactics and content marketing initiatives. available today, jumpshot elite provides 13 months of backward-looking data as well as: access to real queries used by searchers paid and organic results for any website visibility into organic keywords, eliminating the \"not provided\" outcome in web analytics real user queries, clicks and transactions instead of machine-generated clicks with inferred results ability to tie keywords to real transactions on any website variable attribution models and lookback windows launched in january, 2015, jumpshot grew out of the ambitions of a group of smart marketers and data scientists who were frustrated about the limitations of the data they had access to, and excited about the opportunity to provide new insights into online behavior. the company uses distinctive data sources to paint a complete picture of the online world for businesses, from where customers spend time online to what they do there and how they get from place to place. by tracking the online customer journey down to each click, jumpshot reveals how and why customers arrive at purchase decisions. the company tracks more data in more detail than other services, tracking 160 billion monthly clicks generated by its extensive data panel. about jumpshot jumpshot is a marketing analytics platform that reveals the entire customer journey -- from the key sources of traffic to a site, to browsing and buying behavior on any domain. with a panel of 115 million users, jumpshot provides marketers with the insight to understand what their customers are doing the 99% of the time they\\'re not on their own site -- a scope of information never before attainable. jumpshot was founded in 2015 and is headquartered in san francisco. for more information, please visit www.jumpshot.com. image available: http://www2.marketwire.com/mw/frame_mw?attachid=2889222 kelly mayes the bulleit group 615-200-8845 published sep. 17, 2015 copyright © 2015 sys-con media, inc. — all rights reserved. syndicated stories and blog feeds, all rights reserved by the author.'}\n"
     ]
    }
   ],
   "execution_count": 35
  },
  {
   "metadata": {
    "ExecuteTime": {
     "end_time": "2024-06-24T18:07:45.696949Z",
     "start_time": "2024-06-24T18:07:45.681357Z"
    }
   },
   "cell_type": "code",
   "source": [
    "# Helper function to print the search response in a more readable and organized format\n",
    "def print_response(response):\n",
    "    print(\"Search Metadata:\")\n",
    "    print(f\" - Took: {response['took']} ms\")\n",
    "    print(f\" - Timed Out: {response['timed_out']}\")\n",
    "    print(f\" - Shards: Total - {response['_shards']['total']}, Successful - {response['_shards']['successful']}, Skipped - {response['_shards']['skipped']}, Failed - {response['_shards']['failed']}\")\n",
    "    print(f\" - Hits: Total - {response['hits']['total']['value']} (Relation: {response['hits']['total']['relation']})\")\n",
    "    print(f\" - Max Score: {response['hits']['max_score']}\")\n",
    "\n",
    "    print(\"\\nHits:\")\n",
    "    for hit in response['hits']['hits']:\n",
    "        print(f\" - Index: {hit['_index']}\")\n",
    "        print(f\"   ID: {hit['_id']}\")\n",
    "        print(f\"   Score: {hit['_score']}\")\n",
    "        print(f\"   Source: {hit['_source']}\\n\")"
   ],
   "id": "30bf65b27b42a2a6",
   "outputs": [],
   "execution_count": 36
  },
  {
   "metadata": {
    "ExecuteTime": {
     "end_time": "2024-06-24T18:07:45.712437Z",
     "start_time": "2024-06-24T18:07:45.696949Z"
    }
   },
   "cell_type": "code",
   "source": [
    "# Function to search an index with a specified query\n",
    "def search_index(query, index_name):\n",
    "    try:\n",
    "        response = es.search(index=index_name, body=query)\n",
    "        return response\n",
    "    except Exception as e:\n",
    "        print(f\"Search failed. Error: {str(e)}\")\n",
    "        return None"
   ],
   "id": "ef61ddc672c18b96",
   "outputs": [],
   "execution_count": 37
  },
  {
   "metadata": {
    "ExecuteTime": {
     "end_time": "2024-06-24T18:07:45.731966Z",
     "start_time": "2024-06-24T18:07:45.714433Z"
    }
   },
   "cell_type": "code",
   "source": [
    "# Function to search for a value in a specified field of an index using a specified search type\n",
    "def search_field(field, search_type, value, index_name):\n",
    "    query = {\n",
    "        \"query\": {\n",
    "            search_type: {\n",
    "                field: value\n",
    "            }\n",
    "        }\n",
    "    }\n",
    "    return search_index(query, index_name)"
   ],
   "id": "1e19fe6e0d1c8452",
   "outputs": [],
   "execution_count": 38
  },
  {
   "metadata": {
    "ExecuteTime": {
     "end_time": "2024-06-24T18:07:46.081817Z",
     "start_time": "2024-06-24T18:07:45.734966Z"
    }
   },
   "cell_type": "code",
   "source": [
    "# Searches for documents with the \"University\" keyword in the \"title\" field of the \"news_data\" index\n",
    "field_search_result = search_field(field=\"title\", search_type=\"match\", value=\"University\", index_name=\"news_data\")\n",
    "\n",
    "# Prints the field query search response\n",
    "print_response(field_search_result)"
   ],
   "id": "7ce2cfb7f899c3f9",
   "outputs": [
    {
     "name": "stdout",
     "output_type": "stream",
     "text": [
      "Search Metadata:\n",
      " - Took: 278 ms\n",
      " - Timed Out: False\n",
      " - Shards: Total - 1, Successful - 1, Skipped - 0, Failed - 0\n",
      " - Hits: Total - 2896 (Relation: eq)\n",
      " - Max Score: 9.594052\n",
      "\n",
      "Hits:\n",
      " - Index: news_data\n",
      "   ID: 9d7e8ab2-970d-4628-9022-7612c59f7c5f\n",
      "   Score: 9.594052\n",
      "   Source: {'id': '9d7e8ab2-970d-4628-9022-7612c59f7c5f', 'content': 'Comments:\\r10.09.2015 Pamula:\\nan essay until it can be bearable, cowper you will d university essayhwestern university find oneself inside bruising.', 'title': 'D university essayhwestern university', 'media-type': 'Blog', 'source': 'Все здесь!', 'published': '2015-09-18T08:36:11Z'}\n",
      "\n",
      " - Index: news_data\n",
      "   ID: 79435fde-ce56-40e3-ae9e-fb1e92b4aed4\n",
      "   Score: 8.628289\n",
      "   Source: {'id': '79435fde-ce56-40e3-ae9e-fb1e92b4aed4', 'content': 'Hey guys! Yet again, I am seriously sorry for the lack of posts recently. Everything’s still a little bit crazy at the moment, but I really hope things will start to become clearer in the next couple of weeks, so that should mean more posts! Yay! So for those of you who haven’t been reading my blog posts for the last month, I am at University now, and I am in temporary accommodation while I’m trying to sort out something long-term, which has proven to be far more difficult than I thought. I went to look at a house today to lodge in for the year, but it wasn’t really what I was looking for, even though it is super close to the university. It kinda sucked but I want to be somewhere that I’m going to be happy in, so the search continues. Last night I went to a Karaoke Event on campus, and I met up with a couple of friends (who I didn’t know would be there) and it was a great night. I didn’t get up and sing, because I have a really bad cough and I’d rather not make everyone go deaf with my singing, so I just sat and watched, and occasionally joined in with the big numbers that everyone knew. I then went back to my friend’s flat for a bit- well, it was intended to be for\\xa0a bit, but I left at about ten to midnight! The karaoke ended at 11pm. So… yeah… girls talk a lot, so it’s not really that surprising. Tomorrow I’m going to a thing called “Detention”, which will have alternative music (Muse, Blink 182, Foo Fighters, All American Rejects, Fall Out Boy, and many more) which I’m looking forward to, because they’ll be playing songs I actually know for once! Not that I don’t know any pop songs, but these are songs and bands I really love so it should be good. The other reason why I’m looking forward to tomorrow is because I joined the Ultimate Frisbee Club last week, and we went to the pub afterwards and some of the guys there said they’re also going to Detention so I will know some people, rather than turning up on my own like the loser I am. But going back to Ultimate Frisbee, I never realised how much like Netball it is. You’re not allowed to move when you have the Frisbee, and you have to mark other players- it’s basically netball with out the ball… or the net… What else have I been doing… I have started reading Crown of Midnight, the second book in Sarah J. Maas’s Throne of Glass series, and if you haven’t read Throne of Glass, what are you still doing here? They’re so good. I also read The Assassin’s Blade before Crown of Midnight, and there are so many things that make so much more sense in the second book of the series. I’m going to write specifically about things I have learnt from Crown of Midnight, so if you don’t want any spoilers, go to the\\xa0next paragraph! Okay, so\\xa0I hate love triangles, because they just get me really frustrated and I remember reading Throne of Glass, and Celaena gets with Dorian rather than Chaol and I’m on Team Chaol and I got really annoyed with Celaena for doing that but NOW OMG she’s chosen the right guy and I’m really happy and my fangirl heart is going to explode in a minute. I haven’t finished the book yet, I’m at the bit when Chaol and Celaena have… you know… done it, and Dorian is trying to find answers about the magical thing and he’s about to go to the creepy witch. So we can all fangirl together up to that point but if you ruin anything for me… I will get very annoyed, very quickly. Okay and we’re back. So what else have I been up to… My friend’s flatmate is an amazing baker, and she has introduced me to Snickerdoodles, and they are literally heaven. I’m not even joking, they’re probably the best thing I’ve tasted ever and they’re just so good and *drools*. They’re so addictive, so let’s fangirl about how good snickerdoodles are in the comments. If you haven’t had snickerdoodles before, you are seriously missing out. Go and find a recipe online and bake those beauties because you won’t regret it. Trust me. Talking about baking, I’ve started watching Bake Off! I don’t normally watch it religiously,\\xa0but I’ve watched the last three or four episodes every week and I’ve come to the conclusion that I would never go on Bake Off, not because I don’t like baking or that I can’t bake, but simply because of the amount of pressure you’re under. You have a time limit, and you also have to make something to perfection and I am not a perfectionist, at all. (Depending on the situation.) So if I was on Bake Off, I would probably skim read the recipe and miss out important details and then just make it up to be something completely different, and when Paul and Mary come over to look at my “final piece” I would say that it was my own interpretation. And they’d say “well it’s not what we’re looking for.” and I’d start crying in the corner. I wouldn’t actually do that, but… that’s why I wouldn’t go on Bake Off. This post has really taken a turn for the worst. I apologise, this was not what I was intending to write about… I ramble. You should\\xa0know that by now. Downton Abbey is back, and I love it so much, and I thought the first episode was okay… but I’m still waiting for the drama to really come in. I want everything to be chaotic like Downton normally is and I’m just getting excited about certain things (Like the Carson/Hughes wedding eeeeekk!!) It makes me sad that this is the last season, but at the same time I think there’s only a certain amount that Julian Fellowes can really do with the show, so I just hope that it will have a good, solid ending. # Doctor Who is back, and I’ve missed the last two episodes, so don’t even mention it. I know. It’s shocking that I call myself a Whovian, but I will get on it as soon as possible! Now there are 101 different things I want to talk about, but it’s nearly 2:30pm and I haven’t had lunch yet, so I will leave you with that. Again, I am sorry about the lack of posts, but you’re probably going to have to put up with Update posts for the next few days/weeks. Make sure you follow me on Twitter for any other updates, because I’m almost always on Twitter, but otherwise, I will see you all soon. -The Storyteller', 'title': 'University Update!', 'media-type': 'Blog', 'source': 'The Storyteller', 'published': '2015-09-27T13:28:13Z'}\n",
      "\n",
      " - Index: news_data\n",
      "   ID: 89305b19-5424-4a5a-8955-be8a1235b41f\n",
      "   Score: 8.628289\n",
      "   Source: {'id': '89305b19-5424-4a5a-8955-be8a1235b41f', 'content': '“Watch carefully the magic that occurs when you give a person just enough comfort to be themselves” \\n Atticus \\n \\nThis quote, my fellow parents might make you feel a little better as we give our children their final hug and send them off into the big wide world.  It is the weekend when many of our children head to university.  My daughter went yesterday, the car was full to the brim, but so was her tangible sense of hope and excitement for what this year might hold. \\n \\nWho will they meet? What will they do?  How will this experience change the course of their life?  Will they remember to wash? Eat? Not drink too much?  They are one step closer to meeting their future self.  It is just so exciting to be where they are. I just had no idea how hard it is to be the parent who has to let them go to be introduced to all that the world has to offer and to absorb it all – with passion and freedom. \\n \\nIt’s a little disappointing that we send them off looking healthy and I predict that within two weeks of Fresher madness they will be tired and a little bit ill. \\n \\nJust make sure you remind them to take vitamin pills and/or have the occasional night off the booze! \\n \\nI feel your pain…. \\n \\nThe post UNIVERSITY WEEKEND appeared first on Family Affairs and other matters .', 'title': 'UNIVERSITY WEEKEND', 'media-type': 'Blog', 'source': 'Family Affairs and other matters', 'published': '2015-09-20T12:52:00Z'}\n",
      "\n",
      " - Index: news_data\n",
      "   ID: 69649b0a-3ba5-49cf-9636-aa55c76decac\n",
      "   Score: 8.4020405\n",
      "   Source: {'id': '69649b0a-3ba5-49cf-9636-aa55c76decac', 'content': 'For the first time, Qatar University (QU) has been featured in the Times Higher Education World University Rankings in the 601-800 group.\\nQU has also scored the highest for International Outlook among all the other universities this year.\\nThis year, the Ranking had 70 countries in it out of which 29 were first timers. This is the first time that countries like Qatar, Indonesia, Malaysia, Ghana, Nigeria, Bangladesh, Latvia, Oman and Ukraine have been featured in it.\\nThe countries were ranked partly based on the publication and citation data from the world’s largest abstract and citation database of peer reviewed literature called the Elsevier’s Scopus.\\nThe Editor of the Rankings, Phil Baty, has commented as, “Qatar is one of several countries to have made its debut in this year’s rankings. The achievement is in part due to expanding the ranking to include 801 universities and 70 countries.”\\xa0\\nAmong the Middle Eastern countries, Iran leads with 8 universities in the top 800. Egypt and Saudi Arabia with 3 universities, Jordan and UAE with 2 universities and Qatar, Lebanon, Morocco and Oman with 1 university each in the top 800 list.\\nIn the African region, South Africa leads with 6 universities in the top 800.\\nSource- The Peninsula\\n[cover image courtesy]\\n\\xa0\\n\\xa0', 'title': 'Qatar University ranked among the World University Rankings', 'media-type': 'Blog', 'source': 'Qatar Living - best place for cars, properties, buying, selling, renting and Qatar news & events', 'published': '2015-09-30T06:27:28Z'}\n",
      "\n",
      " - Index: news_data\n",
      "   ID: 54d7103d-b6c4-434e-9023-ae98d81fee44\n",
      "   Score: 8.4020405\n",
      "   Source: {'id': '54d7103d-b6c4-434e-9023-ae98d81fee44', 'content': 'Swansea University\\'s new Bay Campus X \\n\\nShare  Tweet  Share  Pin It  Email \\n\\nCopy link to paste in your message \\n\\n/ \\n\\nSwansea University\\'s new Bay Campus \\n\\nFabian Way cycle path on track for new term at Swansea Bay... \\n\\n1 \\n\\nCouncil hopes for 10,000 jobs boost at new Swansea... \\n\\n1 \\n\\nStudents love Swansea - university ranked 8th in UK for... \\n\\n1 \\n\\nSWANSEA is now ranked among the top four per cent of universities in the world, according to a new study. \\n\\nThe institution has jumped 69 places in today\\'s QS World University Rankings to reach number 400. \\n\\nQS has published the rankings annually since 2004 and covers 3,000 of the world\\'s estimated 10,000 universities. \\n\\nProfessor Hilary Lappin-Scott, senior Pro-Vice-Chancellor for research and innovation and strategic development at Swansea University, welcomed the rise up the league tables. \\n\\nShe said: \"We are thrilled Swansea has broken into the top 400 universities in the world in this year\\'s QS rankings. \\n\\nREAD MORE: 24 wonderful pictures of Swansea University\\'s new £450million Bay Campus \\n\\n\"This, with our consistently high rankings in other independent surveys and league tables for student satisfaction, employability, and research excellence, confirm that Swansea University continues on a strong upward trajectory and is fast gaining a reputation for international excellence.\" \\n\\nAnd the university boss said developments such as the new £450 million science and innovation campus on Fabian Way — which is due to be officially opened next week — would further extend Swansea\\'s international reach and reputation. \\n\\nShe said: \"We look towards the 2015-2016 academic year with great excitement and anticipation. \\n\\n\"Our continued success as Swansea University enters a new era and promises to bring us significantly closer to realising our ambition of becoming a top 200 global university.\" \\n\\nJason Evans / jason.evans@swwmedia.co.uk / @EvansTheCrime', 'title': 'Swansea University jumps up QS World University Rankings', 'media-type': 'News', 'source': 'South Wales Evening Post', 'published': '2015-09-15T06:27:17Z'}\n",
      "\n",
      " - Index: news_data\n",
      "   ID: 27b518fa-d074-4fa4-a43c-87f24b4c8082\n",
      "   Score: 8.148926\n",
      "   Source: {'id': '27b518fa-d074-4fa4-a43c-87f24b4c8082', 'content': '@ 1:33 PM \\n \\nCenter For World University Rankings released a list of the top 10 universities in the world, in which Harvard University came out on top. \\n     \\nHarvard University retained its stellar reputation as the best\\xa0university in the world, when the\\xa0Center For World University Rankings released a list of top 10 universities in the world, in which Harvard University came out on top. \\xa0Stanford University came in as the second-best university, closely followed by MIT (Massachusetts Institute of Technology) in the third place. \\n \\nThe criteria for ranking the prestigious universities across the world are judged across eight measures. These also include the number of research papers\\xa0from the universities’ students appearing in\\xa0worthy and renowned journals. Also, the proportion of alumni who secured awards internationally and attained prestigious jobs such as the CEO of international organizations, also mattered when it came to ranking. \\n \\n\\n \\nOne look at the list and it is apparent that out of the top ten, eight are American universities. The other two universities from the list, namely Oxford University and the University of Cambridge, both belong to United Kingdom. The inclusion of Cornell at the bottom of the list (no. 10) comes at the price of Yale, which was previously at number 10 in the list. \\n \\nCenter For World University Rankings claim that their rankings are the only ones not based on surveys or the universities’ own data submissions.', 'title': 'Harvard University secures berth as the world’s top university', 'media-type': 'News', 'source': 'ARY News.tv', 'published': '2015-09-05T08:33:29Z'}\n",
      "\n",
      " - Index: news_data\n",
      "   ID: 2a5a9341-2b13-44cb-a283-81e85b7b2c87\n",
      "   Score: 8.110855\n",
      "   Source: {'id': '2a5a9341-2b13-44cb-a283-81e85b7b2c87', 'content': 'Sam and Gabe at Stanford University. Tons of wonderful images, I chose a few. A quick look between mother and sun at the ceremony and the rest just strong black and whites, beautiful light and colorful backdrops.', 'title': 'Stanford University wedding', 'media-type': 'Blog', 'source': 'ciprianphotographyblog.com', 'published': '2015-09-14T04:52:14Z'}\n",
      "\n",
      " - Index: news_data\n",
      "   ID: 4ed484f2-b6f5-4ecf-ae53-302796c00054\n",
      "   Score: 8.110855\n",
      "   Source: {'id': '4ed484f2-b6f5-4ecf-ae53-302796c00054', 'content': 'Soccer roundup. (Photo: ) \\n\\nBELOIT – Marian University scored a pair of second-half goals to top Beloit College, 2-0, on Sunday. \\n\\nAlyssa Lennon scored off a corner kick in the 53rd minute for the game’s first goal, while Carley Schmit added another tally about 10 minutes later to help seal the win. \\n\\nBecca Kalish assisted on the goal. \\n\\nAlysha Kallas finished with saves in goal for the Sabres, who won despite being outshot in the match, 12-8. \\n\\nMen’s soccer \\n\\nMarian 2, Manchester 1: Jeroham Duran scored in the 75th minute to break a 1-1 tie and vaukt the Sabres to the win on the road. \\n\\nSalvador Navarro assisted on the goal, which capped a comeback for Marian, which trailed 1-0 after a Manchester goal less than three minutes into the second half. \\n\\nAlonso Fragoso tied the game in the 52nd minute for Marian. \\n\\nIan Chacon stopped four shots for the Sabres. \\n\\nWomen’s golf \\n\\nUW-Oshkosh Invitational: Tayler Wise tied for 13th place – just two shots out of making the top 10 – and the Sabres placed seventh among the 10 teams. \\n\\nWise’s two-day total of 173 tied her with Carroll University’s Karoline Priko and she finished just two shots out of making the top 10. \\n\\nTaylor Lockhart was next for Marian with a 198, followed by Kayla Brown (203), Sara VanHandel (204) and Nicole Paulus (226). \\n\\nThe Sabres finished with a team score of 778. \\n\\nRead or Share this story: http://fondul.ac/1UBr5TL', 'title': 'Marian University Roundup', 'media-type': 'News', 'source': 'Reporter', 'published': '2015-09-07T01:32:55Z'}\n",
      "\n",
      " - Index: news_data\n",
      "   ID: 3635c374-2d21-4b88-8585-0de1ccda3891\n",
      "   Score: 8.110855\n",
      "   Source: {'id': '3635c374-2d21-4b88-8585-0de1ccda3891', 'content': 'Lenoir Rhyne University is located at 625 7th Ave NE in Hickory. Be sure to catch one of their home games or travel to watch them play! \\xa0Directions to the stadium\\xa0\\xa02015 Football Schedule', 'title': 'Lenoir Rhyne University', 'media-type': 'Blog', 'source': \"Hickory Metro Convention & Visitor's Bureau\", 'published': '2015-09-30T20:39:24Z'}\n",
      "\n",
      " - Index: news_data\n",
      "   ID: f0ad2e5e-ba15-47a7-adae-196c94e97573\n",
      "   Score: 8.110855\n",
      "   Source: {'id': 'f0ad2e5e-ba15-47a7-adae-196c94e97573', 'content': 'Job Position:\\xa0Guest Lecturer \\xa0\\xa0 Departments: Applied Geology Qualification:\\xa0M.Sc- Geology/Applied Geology Job Location: Chennai Scale Pay:\\xa0\\xa0Rs.\\xa020,000/- per month\\nApply Mode: Postal\\nLast Date:\\xa011th September 2015 Website :\\xa0www.unom.ac.in\\nHow to Apply:\\xa0Interested candidates are request to send your resume along with relevant documents and photographs to the following Postal Address on\\xa011th September 2015 Postal Address:\\nDeapartment of Applied Geology,\\nUniversity of Madars,\\nCentenary Buildings,\\xa0\\nChepauk,\\nChennai-600 005', 'title': 'University of Madras', 'media-type': 'Blog', 'source': 'TAMILNADU GOVT JOBS', 'published': '2015-09-07T01:01:06Z'}\n",
      "\n"
     ]
    }
   ],
   "execution_count": 39
  },
  {
   "metadata": {
    "ExecuteTime": {
     "end_time": "2024-06-24T18:07:46.097452Z",
     "start_time": "2024-06-24T18:07:46.081817Z"
    }
   },
   "cell_type": "code",
   "source": [
    "boolean_query = {\n",
    "    \"query\": {\n",
    "        \"bool\": {\n",
    "            \"must\": [\n",
    "                {\"match\": {\"title\": \"University\"}},\n",
    "                {\"match_phrase_prefix\": {\"content\": \"German\"}}\n",
    "            ],\n",
    "            \"must_not\": [\n",
    "                {\"match\": {\"source\": \"The Sun\"}},\n",
    "                {\"range\": {\"published\": {\"gte\": \"2010-01-01T00:00:00Z\", \"lte\": \"2015-06-20T23:59:59Z\"}}}\n",
    "            ]\n",
    "        }\n",
    "    }\n",
    "}"
   ],
   "id": "ce962cda52af6914",
   "outputs": [],
   "execution_count": 40
  },
  {
   "metadata": {
    "ExecuteTime": {
     "end_time": "2024-06-24T18:07:46.518721Z",
     "start_time": "2024-06-24T18:07:46.097452Z"
    }
   },
   "cell_type": "code",
   "source": [
    "# Similar query as above but as a boolean query with additional constraints\n",
    "boolean_query_result = search_index(boolean_query, \"news_data\")\n",
    "\n",
    "# Prints the boolean query search response\n",
    "print_response(boolean_query_result)"
   ],
   "id": "45ddd8ba3526297f",
   "outputs": [
    {
     "name": "stdout",
     "output_type": "stream",
     "text": [
      "Search Metadata:\n",
      " - Took: 380 ms\n",
      " - Timed Out: False\n",
      " - Shards: Total - 1, Successful - 1, Skipped - 0, Failed - 0\n",
      " - Hits: Total - 74 (Relation: eq)\n",
      " - Max Score: 18.951775\n",
      "\n",
      "Hits:\n",
      " - Index: news_data\n",
      "   ID: dad47c11-472c-48fc-bc13-c50b99bffa31\n",
      "   Score: 18.951775\n",
      "   Source: {'id': 'dad47c11-472c-48fc-bc13-c50b99bffa31', 'content': 'Cuban academicians of the Civil Construction are receiving an International summer course taught at the University of Camaguey, which deals with the life cycle management of buildings. \\nThe postgraduate course is taught by schoolteachers of the Munster University of Applied Sciences (MUAS), in Germany, together with professors of the \"Jose Antonio Echeverria\" Higher Polytechnic Institute (ISPJAE), in Havana, and encompasses topics as the feasibility studies and the investment evaluation, among others. \\n\\nClara Mustelier, Doctor of Sciences in the IPSJAE, declared to the university website www.reduc.edu.cu that the course studies a working mode that is reintroducing in the country, and includes the whole process of management of building since its creation until its disappearance. \\n\\nSchoolteachers of the Higher education institutions of Santiago de Cuba, Las Tunas, Camaguey, Villa Clara and specialists of institutions of the locality like the Provincial Centers of Heritage and Public health will attend to these conferences until September 5. \\n\\nEight teams were organized for a better teaching-methodological work, , whose members take the knowledge of the Germans Frank Riemenschneider, Sven Bern Frederick, Martin Weischer, Matthias Chronz, and the Cuban Ruben Bancroft. \\n\\nFor the first time, this kind of postgraduate course is imparted in Cuba after two editions in Havana, and it contributes to develop the conceptual basis of sustainability in construction, its components and stages in the specific conditions of the humid and tropical climate of Cuba, and thus, to allow a major durability.(AIN)', 'title': 'Camaguey University Hosts Course on Constructive Management', 'media-type': 'News', 'source': 'Radio Angulo', 'published': '2015-09-03T14:13:57Z'}\n",
      "\n",
      " - Index: news_data\n",
      "   ID: ed4c3fe5-dddd-4643-9401-117f83dea3c6\n",
      "   Score: 18.535028\n",
      "   Source: {'id': 'ed4c3fe5-dddd-4643-9401-117f83dea3c6', 'content': '/PRNewswire/ --\\n\\nRoadshow from September 22 to 24, 2015 in Amsterdam, \\'s-Hertogenbosch and Antwerp Studying at Wilhelm Büchner University - Germany´s largest private University of Applied Sciences for Technology - means maximum flexibility. Students can attain a recognized master\\'s degree alongside their work thanks to the support of the experts in distance and online learning. And they can start studying whenever they like. Wilhelm Büchner University of Applied Sciences is holding information sessions for prospective students regarding its English-language master\\'s degrees: MSc in Technology and Innovation Management and MBA in Engineering Management. The tried and tested distance and online learning methodology, which combines traditional study booklets with innovative multimedia learning materials, is also being presented. Prospective students can find out about the Wilhelm Büchner University StudyOnline virtual campus and the many possibilities it offers, all at an event held in their area.\\n\\nInterested parties can choose from the following information sessions:\\n\\nAntwerp, 22 September 2015, 5 to 8 p.m., Lindner Hotel & City Lounge \\n\\n(Lange Kievitstraat 125, BE-2018 Antwerp) \\'s-Hertogenbosch, 23 September 2015, 5 to 8 p.m., Mövenpick Hotel \\n\\n(Pettelaarpark 90, NL-5216 PH \\'s-Hertogenbosch) Amsterdam, 24 September 2015, 5 to 8 p.m., Dorint Airport Hotel \\n\\n(Sloterweg 299, NL-1171 VB Badhoevedorp) \\n\\nAt the information sessions, prospective students learn how they can successfully complete a master\\'s degree with Wilhelm Büchner University while continuing to work and how this can develop their future careers on the international management job market.\\n\\nThere will be the opportunity to directly consult with Prof. Dr. Frank Bescherer, Director of Studies for the two internationally accredited English-language master\\'s degree courses at Wilhelm Büchner University.\\n\\n\"A student who wants to continue working while completing a master\\'s degree would like to use his or her time as efficiently as possible, and the virtual campus provides optimum support in this endeavor. At the same time, the personalized service provided by the tutors and the student advisors is a cornerstone of our methodology,\" notes Prof. Dr. Bescherer.\\n\\nParticipation in the information sessions is free of charge. Registration forms are available on the internet at http://www.wb-university.com/roadshow or by calling +49-(0)6157-806-806 or sending an email to roadshow@wb-university.com\\n\\nAbout Wilhelm Büchner University \\n\\nFounded in 1996, Wilhelm Büchner University is Germany\\'s largest private University of Applied Sciences for Technology and a renowned expert in distance and online learning.Wilhelm Büchner University of Applied Sciences develops high-quality degree courses in German and English that meet the needs of business, both now and in the future. We place paramount importance on coherently incorporating key skills such as management, leadership, and communication into our engineering and computer science degree courses.Wilhelm Büchner University is a state-accredited University of Applied Sciences and has been approved by the Hessian State Ministry of Higher Education, Research and the Arts. The accreditation of ACQUIN (Accreditation, Certification and Quality Assurance Institute) and ZEvA (Central Evaluation and Accreditation Agency) certifies that all courses at Wilhelm Büchner University of Applied Sciences meet predefined international quality criteria. Furthermore, Wilhelm Büchner University of Applied Sciences has obtained DIN EN ISO 9001:2008 certification as well as the new standard ISO 29990:2010. This internationally recognized standard for learning service providers confirms that Wilhelm Büchner University follows the framework of the standard in all parts of its organization.\\n\\nFor more information visit http://www.wb-university.com\\n\\nWilhelm Büchner University of Applied Sciences is part of the Klett Group. With its 56 companies at 34 sites in 14 countries, Klett Group is a leading educational company in Europe.\\n\\nContacts \\n\\nWilhelm Buechner University of Applied Sciences Darmstadt\\n\\nThomas Kirchenkamp\\n\\nOstendstrasse 3\\n\\n64319 Pfungstadt\\n\\nGERMANY\\n\\nTel +49-(0)6157-806-408\\n\\nFax +49-(0)6157-806-401\\n\\nthomas.kirchenkamp@wb-university.com\\n\\nMaisberger GmbH\\n\\nEmma Deil-Frank/Karolin Böhm\\n\\nClaudius-Keller-Str. 3c\\n\\n81669 München\\n\\nGERMANY\\n\\nTel +49-(0)89-419599-53/-84\\n\\nFax +49-(0)89-419599-12\\n\\nemma.deil@maisberger.com\\n\\nkarolin.boehm@maisberger.com About PR Newswire', 'title': \"Wilhelm Büchner University Provides Information on International Master's Degree Courses for Working Professionals\", 'media-type': 'News', 'source': 'Sys-Con Belgium', 'published': '2015-09-04T15:14:01Z'}\n",
      "\n",
      " - Index: news_data\n",
      "   ID: 44dcba1b-ae98-4363-9a5b-4d2a5c38914a\n",
      "   Score: 15.963139\n",
      "   Source: {'id': '44dcba1b-ae98-4363-9a5b-4d2a5c38914a', 'content': 'This summer, five students from the United Arab Emirates University’s (UAEU)\\nCollege of Food and Agriculture took part in an internship abroad at GLOBALG.A.P. The University’s\\nDepartment of Agribusiness sent Marwah Saeed Abdulla Hassan\\u200e, Hessa Mohammed Saif Al Shamisi,\\nShamsa Salem Mohamed Hasan Al Shehhi, Kamla Salem Hmoud Hamad Al Baloushi\\u200e and Eiman Hawas\\nAlibrahim, along with instructor Emily S. Dunn, to work alongside the GLOBALG.A.P. team for one\\nmonth at our headquarters in Cologne, Germany. \\n \\nThe students toured German and Dutch agribusiness organizations, joined in cultural\\nevents, which included a business run with 20,000 other participants, visited the parliament\\nbuilding in Berlin, and prepared a research project for expanding GLOBALG.A.P.’s presence in the\\nGulf countries. This is the UAEU’s second collaboration with GLOBALG.A.P. In October 2014 the\\nCollege of Food and Agriculture hosted a one-day student event with GLOBALG.A.P., which included an\\nacademic poster competition. The Academic Poster Award winners showcased their posters at the\\nGLOBALG.A.P. SUMMIT 2014 in Abu Dhabi. \\n \\nRead more about our previous collaboration with UAEU here . \\n \\nLearn more about GLOBALG.A.P. Capacity Building at www.globalgap.org/academy. \\n \\nTo learn more about possibilities for academic collaboration and capacity building, please\\ncontact Britta Huebers .', 'title': 'UAE University Agribusiness Students Intern at GLOBALG.A.P. in Germany', 'media-type': 'News', 'source': 'GLOBALGAP', 'published': '2015-09-29T11:40:35Z'}\n",
      "\n",
      " - Index: news_data\n",
      "   ID: 457b152a-7e63-432e-8a47-f868c5f53b98\n",
      "   Score: 15.807766\n",
      "   Source: {'id': '457b152a-7e63-432e-8a47-f868c5f53b98', 'content': 'Hochschulwerk Scholarship for International Students at Herdecke University in Germany, 2016\\nAugust 19, 2015\\nby Scholarship Positions\\n2016, germany, Herdecke University, International\\nComments are off\\nTweet\\nSponsored Links\\nHerdecke University is inviting applications for scholarship for international students. \\xa0The scholarship comprises a monthly stipend of €700\\xa0 for a maximum tenure of 24 months. Scholarships are available for pursuing degree program at Herdecke University. The\\xa0application deadline is\\xa030 September 2015.\\nStudy Subject(s):\\xa0Scholarships are provided to learn any of the courses offered by the Herdecke University.\\nCourse Level:\\xa0Scholarships are available for pursuing degree program at Herdecke University.\\nScholarship Provider: Herdecke University, Germany\\nScholarship can be taken at: UK\\nEligibility: Eligible are international students who meet the following criteria:\\n-Nationality of a lower income country (annual GDP/capita less than 10.000,00 $)\\n-Successful application for a degree programme at UW/H\\n-Personal need of funding (to be confirmed by the Social Committee)\\nScholarship Open for International Students: International students can apply for these scholarships.\\nScholarship Description: The Hochschulwerk of Witten/Herdecke University (UW/H) is proud to announce its new Scholarship for International Students from Lower Income Countries. The scholarship is financed by the students of Witten/Herdecke University through their contributions to the Hochschulwerk, the funds are administered by the Sozialausschuss (Social Committee of the Student Union).\\nDuration of award(s):\\xa0Scholarships are offered for a maximum tenure of 24 months.\\nWhat does it cover?\\xa0The scholarship comprises a monthly stipend of €700.- for a maximum tenure of 24 months.\\nHow to Apply: A complete application must include the following: Motivation letter, CV, Confirmation of enrollment and should be submitted to:\\xa0sozialausschuss-at-uni-wh.de.\\nScholarship Application Deadline:\\xa0The\\xa0application deadline is\\xa030 September 2015.\\nFurther Official Scholarship Information and Application\\nTweet\\nSponsored Links\\nScholarship Comments and Discussion\\nRelated Scholarships and Financial Aid PositionsInternational PhD Programme of the Helmholtz Graduate School at the MDC in Germany, 20132012 KAAD Scholarships for Master’s and PhD Students from Developing Countries, GermanyAcademic Scholarships for International Students at Hamburg University of Applied Sciences, GermanyDLGS Doctoral Fellowships at Dresden University of Technology in Germany, 2016Heinrich Boll Foundation Scholarships for German and International Students, 2015\\nLooking for Scholarships?\\nGet international funding options for Undergraduate, Masters, PhD and Post-Doc Courses.\\nFeatured Scholarships\\nKAUST Fellowship for PhD and MS/PhD Program in Saudi Arabia, 2016 Aug 01, 2015\\nVictoria University Graduate Research Scholarship in Australia, 2016 Aug 01, 2015\\nUNESCO/Czech Republic Co-Sponsored Fellowships Programme, 2016-2017 Jul 30, 2015\\nFree Course by University of London on Career and Employability Skills Development Jun 23, 2015\\nHow to Study in Germany for Free Jun 10, 2015\\nRecent Scholarships Yousria-Loza Sawiris Scholarship Program at University of Minnesota in USA, 2016-2017 Department of Law Doctoral Studentships at University of Gothenburg in Sweden, 2016 ESE International Endocrine Scholars Program (IESP), 2016 PhD Positions at University of Duisburg-Essen in Germany, 2015 Chevening-OSF-LSHTM Scholarships for Masters Students in UK, 2016\\nCareer BlogMicrosoft Online Course For Understanding jQueryPrinceton University Online Course On AlgorithmsUniversity of Brekley Free Online Course On Essay WritingTokyo Institute of Technology Free Online Course On Earth ScienceOpen University Free Online Course On Writing Fiction\\nApplying for Scholarships in 2015?\\nApply for top 2015 scholarships and financial aid positions before application deadlines.2015 ScholarshipsFeatured Scholarships\\nSearch Free Scholarships\\nScholarships CategoriesScholarships Categories', 'title': 'Hochschulwerk Scholarship for International Students at Herdecke University in Germany, 2016', 'media-type': 'Blog', 'source': 'Scholarship Positions 2015 2016', 'published': '2015-08-19T07:43:07Z'}\n",
      "\n",
      " - Index: news_data\n",
      "   ID: 5e9c818a-4530-45ed-955f-a9684cb21d5a\n",
      "   Score: 15.807766\n",
      "   Source: {'id': '5e9c818a-4530-45ed-955f-a9684cb21d5a', 'content': 'Hochschulwerk Scholarship for International Students at Herdecke University in Germany, 2016\\nAugust 19, 2015\\nby Scholarship Positions\\n2016, germany, Herdecke University, International\\nComments are off\\nTweet\\nSponsored Links\\nHerdecke University is inviting applications for scholarship for international students. \\xa0The scholarship comprises a monthly stipend of €700\\xa0 for a maximum tenure of 24 months. Scholarships are available for pursuing degree program at Herdecke University. The\\xa0application deadline is\\xa030 September 2015.\\nStudy Subject(s):\\xa0Scholarships are provided to learn any of the courses offered by the Herdecke University.\\nCourse Level:\\xa0Scholarships are available for pursuing degree program at Herdecke University.\\nScholarship Provider: Herdecke University, Germany\\nScholarship can be taken at: UK\\nEligibility: Eligible are international students who meet the following criteria:\\n-Nationality of a lower income country (annual GDP/capita less than 10.000,00 $)\\n-Successful application for a degree programme at UW/H\\n-Personal need of funding (to be confirmed by the Social Committee)\\nScholarship Open for International Students: International students can apply for these scholarships.\\nScholarship Description: The Hochschulwerk of Witten/Herdecke University (UW/H) is proud to announce its new Scholarship for International Students from Lower Income Countries. The scholarship is financed by the students of Witten/Herdecke University through their contributions to the Hochschulwerk, the funds are administered by the Sozialausschuss (Social Committee of the Student Union).\\nDuration of award(s):\\xa0Scholarships are offered for a maximum tenure of 24 months.\\nWhat does it cover?\\xa0The scholarship comprises a monthly stipend of €700.- for a maximum tenure of 24 months.\\nHow to Apply: A complete application must include the following: Motivation letter, CV, Confirmation of enrollment and should be submitted to:\\xa0sozialausschuss-at-uni-wh.de.\\nScholarship Application Deadline:\\xa0The\\xa0application deadline is\\xa030 September 2015.\\nFurther Official Scholarship Information and Application\\nTweet\\nSponsored Links\\nScholarship Comments and Discussion\\nRelated Scholarships and Financial Aid PositionsInternational PhD Programme of the Helmholtz Graduate School at the MDC in Germany, 20132012 KAAD Scholarships for Master’s and PhD Students from Developing Countries, GermanyAcademic Scholarships for International Students at Hamburg University of Applied Sciences, GermanyDLGS Doctoral Fellowships at Dresden University of Technology in Germany, 2016Heinrich Boll Foundation Scholarships for German and International Students, 2015\\nLooking for Scholarships?\\nGet international funding options for Undergraduate, Masters, PhD and Post-Doc Courses.\\nFeatured Scholarships\\nKAUST Fellowship for PhD and MS/PhD Program in Saudi Arabia, 2016 Aug 01, 2015\\nVictoria University Graduate Research Scholarship in Australia, 2016 Aug 01, 2015\\nUNESCO/Czech Republic Co-Sponsored Fellowships Programme, 2016-2017 Jul 30, 2015\\nFree Course by University of London on Career and Employability Skills Development Jun 23, 2015\\nHow to Study in Germany for Free Jun 10, 2015\\nRecent Scholarships Yousria-Loza Sawiris Scholarship Program at University of Minnesota in USA, 2016-2017 Department of Law Doctoral Studentships at University of Gothenburg in Sweden, 2016 ESE International Endocrine Scholars Program (IESP), 2016 PhD Positions at University of Duisburg-Essen in Germany, 2015 Chevening-OSF-LSHTM Scholarships for Masters Students in UK, 2016\\nCareer BlogMicrosoft Online Course For Understanding jQueryPrinceton University Online Course On AlgorithmsUniversity of Brekley Free Online Course On Essay WritingTokyo Institute of Technology Free Online Course On Earth ScienceOpen University Free Online Course On Writing Fiction\\nApplying for Scholarships in 2015?\\nApply for top 2015 scholarships and financial aid positions before application deadlines.2015 ScholarshipsFeatured Scholarships\\nSearch Free Scholarships\\nScholarships CategoriesScholarships Categories', 'title': 'Hochschulwerk Scholarship for International Students at Herdecke University in Germany, 2016', 'media-type': 'Blog', 'source': 'Scholarship Positions 2015 2016', 'published': '2015-08-19T07:43:07Z'}\n",
      "\n",
      " - Index: news_data\n",
      "   ID: 96d7f2a8-0d31-4d0b-b9de-41352729f6fa\n",
      "   Score: 15.607573\n",
      "   Source: {'id': '96d7f2a8-0d31-4d0b-b9de-41352729f6fa', 'content': 'Hong Kong (HKSAR) - Following is the speech by the Financial Secretary, Mr John C Tsang, at the WirtschaftsWoche Hong Kong Dialogue in Dusseldorf, Germany, today (September 25, Dusseldorf time):\\n\\nDistinguished guests, ladies and gentlemen,\\n\\nGood morning.\\n\\nIt is my great pleasure to be here in Dusseldorf. A city that is rich in history, rich in the culture of music, literature, art, film and, of course, the altbier (old beer). A city that is also blessed with the Heinrich Heine Institute, the Goethe Museum, the Robert Schumann Saal and the Altstadt, or old town, which enjoys a deserved reputation as home to the \"longest bar in the world\".\\n\\nAll good reasons, I\\'m sure, behind Dusseldorf\\'s lofty place in this year\\'s Mercer Quality of Living rankings.\\n\\nYes, Dusseldorf finished sixth out of more than 200 global cities.\\n\\nOf course, I am here, leading a high-level Hong Kong business mission, to sample more than your city\\'s famed top-fermented beer, though that does seem reason enough, especially paired with a curled bratwurst and a flourish of mostert (traditional mustard).\\n\\nBeyond the beer and bratwurst, we\\'re here because of Dusseldorf\\'s standing as a city of commerce and trade. A magnet for more than 5 000 international companies. A metropolis at the heart of Europe, with more than 150 million people living within a radius of 500 kilometres.\\n\\nThat, I\\'m told, takes in nearly one-third of the European Union\\'s population and half of its purchasing power.\\n\\nWe\\'re here because Hong Kong and Dusseldorf have a good deal in common. Your glittering Rhine reminds me of Hong Kong\\'s Victoria Harbour. Indeed, our two global cities began as humble fishing villages before turning to trade, industry, logistics and telecommunications, before attracting a world of business.\\n\\nAnd now there\\'s even more to bring us together.\\n\\nYesterday evening, we celebrated the formal launch of Cathay Pacific Airways\\' direct passenger flights between Hong Kong and Dusseldorf. Direct flights make business and leisure travel much easier. And I\\'m confident they will boost exchanges between us - in business, people, ideas, culture, travel and beer, too.\\n\\nExcellent reasons for us to be here today, to be looking to Dusseldorf as we redouble our business and trade focus on Germany.\\n\\nThis year, of course, is a special year.\\n\\nNext week, Germany celebrates its 25th anniversary as a reunified nation. The challenges you have overcome as a nation reunified, after decades of division, are monumental. Germany today is an undisputed global economic powerhouse, accounting for some 20 per cent of the EU\\'s GDP.\\n\\nSo, yes, it\\'s comforting to know that Hong Kong and Germany enjoy close, mutually beneficial economic relations.\\n\\nLast year, our bilateral trade was worth some 14 billion Euros (about HK$130 billion), making Germany our largest trading partner in Europe.\\n\\nGerman exporters make good use of Hong Kong\\'s gateway role to reach huge markets in Mainland China and across Asia. In 2014, 10 billion Euros (HK$91.4 billion) worth of trade between Germany and the Mainland was routed through Hong Kong.\\n\\nAnd there\\'s much more, for all of us, down the Silk Road Economic Belt and the 21st Century Maritime Silk Road. Launched by the Mainland in late 2013, the initiatives target more than 60 economies linking Asia, Africa, the Middle East and, yes, Europe.\\n\\nThe Belt-Road is designed to expand transcontinental connectivity, to promote economic, political and cultural development in vast areas of three continents.\\n\\nAnd I believe it can be the force that drives the global economy in the coming decades.\\n\\nThe enthusiastic response to the establishment of the Asian Infrastructure Investment Bank (AIIB) underscores my optimism. The AIIB will be the key financial institution supporting infrastructure development, much needed in countries along the Belt-Road. And it\\'s obvious that many nations see the promise it offers.\\n\\nGermany, the economic dynamo at the heart of Europe, is well positioned to take part.\\n\\nLocated at the western end of the Silk Road Economic Belt and the Chongqing-Xinjiang-Europe International Railway, Germany is the essential connection between the Belt to the east and the rest of Western Europe to the west.\\n\\nDusseldorf has much to gain from the Belt and Road, given its central location, its convenient ocean, road and air transport, its mature highway system and easily accessible shipping on the Rhine.\\n\\nIn the next few minutes, I\\'d like to explain how Hong Kong can serve and support German business, how we can help you capitalise on the wealth of opportunities that will emerge from the Belt-Road over the next few years and through this 21st century.\\n\\nThe Belt-Road will trigger soaring investment in infrastructural facilities. It will deepen financial integration and expand the flow of trade and the building of people-to-people bonds on an unprecedented scale.\\n\\nAnd Hong Kong will help make it happen, thanks to the unique advantages presented by our \"one country, two systems\" arrangement, under which Hong Kong maintains its own social and economic systems, while being part of China.\\n\\nTake our financial system. Hong Kong has its own currency which is different from the Mainland Renminbi and is fully convertible.\\n\\nCapital from the Mainland and from all over the world flows freely in and out of Hong Kong on a fair and equitable basis.\\n\\nIndeed, less than two weeks ago, Hong Kong was once again named \"the most economically free jurisdiction in the world\" by Canada\\'s Fraser Institute, in its annual \"Economic Freedom of the World\" report. And earlier this year, the Washington-based Heritage Foundation named Hong Kong the freest economy in the world - for 21 years in a row.\\n\\nChina\\'s major international financial centre, and one of the world\\'s financial capitals, Hong Kong has the experience, the expertise and the connections to serve as the fundraising and financial management hub for the Belt-Road. Our financing options range from public offerings and loan syndication to private equity funds and the raising of funds through Islamic finance.\\n\\nWe have the seventh largest stock market in terms of market capitalisation and rank second, globally, in equity funds raised through initial public offerings.\\n\\nHong Kong is also the world\\'s largest offshore Renminbi business centre.\\n\\nWe can provide international investors with Renminbi services ranging from cross-border trade settlement to bond issuance. As trade and other economic activities along the Belt-Road expand, so, too, will the demand for Renminbi trade settlement. Hong Kong can respond to that demand.\\n\\nAfter all, we\\'ve been handling the lion\\'s share of Renminbi trade settlement since its beginnings in 2009.\\n\\nOur Renminbi debt market has grown rapidly in recent years as well. It provides a reliable channel for companies looking to issue Renminbi bonds to meet project funding needs. Last year, the issuance of Renminbi bonds in Hong Kong amounted to some RMB200 billion - a year-on-year increase of some 70 per cent.\\n\\nWe expect the growth potential of Shariah-compliant financial services to be equally promising, given the large Muslim population living along the Belt-Road.\\n\\nHong Kong is well positioned to take advantage of those opportunities.\\n\\nIn fact, the Hong Kong Government successfully issued two sukuk over the past year, demonstrating the viability of our sukuk issuance and the confidence international investors have in Hong Kong, in our economic fundamentals and in our financial expertise.\\n\\nThe long list of infrastructure projects anticipated under the Belt-Road initiative will also boost demand for asset and risk management services.\\n\\nHong Kong\\'s wealth and asset management business has soared in recent years. And I\\'m confident we\\'re well positioned to serve as a global centre for asset management, risk management and corporate treasury activities.\\n\\nHong Kong boasts a wide variety of insurance services and derivative products as well. They offer sound reason for German companies to manage their risks by setting up captive insurers in Hong Kong.\\n\\nHong Kong\\'s deep pool of world-class services professionals, in finance, accounting, law, architecture, engineering management and more, is another strength.\\n\\nBeyond financial capital and expertise, they have the international experience to lead consultancies, construction projects, and the operations and management of Belt-Road infrastructure projects.\\n\\nMoreover, our legal professionals work with a world of business every day. They conduct due diligence, ensure contract enforcement and help resolve disputes. And they do so under a system supported by the twin foundations of the rule of law and an independent judiciary.\\n\\nHong Kong is the ideal centre for resolving potential commercial disputes arising from business collaboration.\\n\\nLadies and gentlemen, Hong Kong was built on trade, and we remain one of the world\\'s great trading economies. Our geographical location, at the southern gateway to Mainland China, gives us unparalleled trade opportunities. Our free-market focus, simple and low tax rate and free flow of information and capital are everything business needs to thrive in Hong Kong, in the Mainland and throughout Asia.\\n\\nIn short, Hong Kong is well equipped to be your strategic partner as you venture into the vast markets of the Belt-Road.\\n\\nIn fact, Hong Kong is already home to more than 600 German companies, more than half of which base their regional operations in Hong Kong.\\n\\nI invite you to join them, to join the world in Hong Kong, your fast lane to the future.\\n\\nMy thanks to the Hong Kong Economic and Trade Office in Berlin and to WirtschaftsWoche for bringing us together this morning.\\n\\nAnd thank you all for taking part in today\\'s business seminar. Thank you.', 'title': 'Transoral laser microsurgery for the treatment of oropharyngeal cancer: the Dalhousie University ...', 'media-type': 'News', 'source': '7thSpace', 'published': '2015-09-30T10:23:20Z'}\n",
      "\n",
      " - Index: news_data\n",
      "   ID: 8a92d22d-b50a-4cc2-888a-5778f01706b8\n",
      "   Score: 14.8499775\n",
      "   Source: {'id': '8a92d22d-b50a-4cc2-888a-5778f01706b8', 'content': 'Presentations will Highlight Best Practices in Identifying a Candidate\\'s Soft Skills, Social Recruiting and Passive Candidate Sourcing\\n\\nWayne, PA (PRWEB) September 14, 2015 \\n\\nSkillSurvey®, the leading provider of online reference solutions that address critical points in the talent lifecycle, today announced that it is going back to school this fall with our Hiring Experts Series focusing on hiring in higher education at upcoming CUPA-HR conferences. Joshua Brown, Talent Acquisition Manager, Clemson University will share strategies on soft skills, new social recruiting strategies and passive candidate sourcing.\\n\\nAttendees will learn the latest information about talent acquisition technologies and processes that can save their institutions time and money. Clemson is obtaining compelling behavioral insights about the candidates it is considering which help it make more informed hiring decisions. \"Soft skills\" – such as the ability to communicate effectively, solve problems, and adapt to new situations – can greatly impact a new employee\\'s success or failure. \\n\\nClemson is also improving its hiring processes to ensure selection committees are interviewing the best candidates and that interviews throughout the institution are conducted in a consistent, compliant manner. Finally, Josh will share innovative strategies he is using to grow a passive candidate database using social media and Clemson\\'s reference pool.\\n\\nThe presentations include:\\n\\nCUPA-HR South Carolina Conference, Charleston, SC \\n\\nMonday, Sept. 14, \"Using Technology and Social Media to Shape the Future of Hiring\"\\n\\nCUPA-HR Annual Conference, Orlando, FL \\n\\nMonday, Sept. 29, \"Higher Education Hiring: Why Soft Skills Matter\" \\n\\nTuesday, Sept. 30, \"Using Technology and Social Networking to Assess and Source Candidates\"\\n\\nMore information can be found in Clemson University\\'s hiring case study.\\n\\nThe SkillSurvey Expert Series includes client industry presentations, webinars, coffee breaks, podcasts, videos and case studies featuring SkillSurvey customers discussing how they are innovating to build more successful organizations. SkillSurvey\\'s goal is to provide a forum for expert advice and insight, with an emphasis on the topics that are most relevant to today\\'s talent acquisition leaders. \\n\\nAbout SkillSurvey®\\n\\nSkillSurvey provides cloud-based solutions to help human capital management professionals manage critical points in the talent lifecycle using data and insight to more effectively recruit, hire and manage employees to drive business results. The company\\'s flagship solution,Pre-Hire 360®, is an award-winning, patented technology that utilizes a unique combination of behavioral science and talent analytics. SkillSurvey\\'s Pre-Hire 360 reference solution is scientifically proven to provide data that can be used to drive more informed hiring decisions based upon feedback provided by references on a candidate\\'s past job performance and an extension of Pre-Hire 360 offers a passive sourcing solution. The company also offers Credential 360®, a unique solution that helps hospitals and healthcare organizations improve revenue and get top-notch practitioners providing patient care more quickly by expediting the professional credential verification process. SkillSurvey\\'s cloud-based software products are being used by 1,400 companies, institutions and organizations. Visit SkillSurvey at http://www.skillsurvey.com, and on Facebook, LinkedIn and Twitter.\\n\\nSkillSurvey®, and Pre-Hire 360® are registered trademarks of SkillSurvey Inc. or its affiliates and are registered in the U.S. and other countries. \\n\\nSkillSurvey\\'s Pre-Hire 360® is a patented solution. For more information see http://www.skillsurvey.com/patents.\\n\\n© 2015 SkillSurvey Inc. and its affiliates.\\n\\nMedia Contact: \\n\\nJoseph Germani \\n\\nSloane & Company \\n\\n(212) 446-1899 \\n\\njgermani(at)sloanepr.com\\n\\nFor the original version on PRWeb visit: http://www.prweb.com/releases/2015/09/prweb129572', 'title': \"Hiring Experts Series Goes 'Back to School' this Fall to Share Strategies from Clemson University\", 'media-type': 'News', 'source': 'Benzinga.com', 'published': '2015-09-14T13:25:58Z'}\n",
      "\n",
      " - Index: news_data\n",
      "   ID: 0d50f612-704c-4816-93e8-7fc4ed81f58e\n",
      "   Score: 14.8499775\n",
      "   Source: {'id': '0d50f612-704c-4816-93e8-7fc4ed81f58e', 'content': 'PRWeb \\nSkillSurvey(R), the leading provider of online reference solutions that address critical points in the talent lifecycle, today announced that it is going back to school this fall with our Hiring Experts Series focusing on hiring in higher education at upcoming CUPA-HR conferences. Joshua Brown, Talent Acquisition Manager, Clemson University will share strategies on soft skills, new social recruiting strategies and passive candidate sourcing. \\n\\nAttendees will learn the latest information about talent acquisition technologies and processes that can save their institutions time and money. Clemson is obtaining compelling behavioral insights about the candidates it is considering which help it make more informed hiring decisions. \"Soft skills\" - such as the ability to communicate effectively, solve problems, and adapt to new situations - can greatly impact a new employee\\'s success or failure. \\n   \\nClemson is also improving its hiring processes to ensure selection committees are interviewing the best candidates and that interviews throughout the institution are conducted in a consistent, compliant manner. Finally, Josh will share innovative strategies he is using to grow a passive candidate database using social media and Clemson\\'s reference pool. \\n\\nThe presentations include: \\n\\nCUPA-HR South Carolina Conference, Charleston, SC \\nMonday, Sept. 14, \"Using Technology and Social Media to Shape the Future of Hiring\" \\n\\nCUPA-HR Annual Conference, Orlando, FL \\nMonday, Sept. 29, \"Higher Education Hiring:  Why Soft Skills Matter\" \\nTuesday, Sept. 30, \"Using Technology and Social Networking to Assess and Source Candidates\" \\n\\nMore information can be found in Clemson University\\'s hiring case study . \\n\\nThe SkillSurvey Expert Series includes client industry presentations, webinars, coffee breaks, podcasts, videos and case studies featuring SkillSurvey customers discussing how they are innovating to build more successful organizations. SkillSurvey\\'s goal is to provide a forum for expert advice and insight, with an emphasis on the topics that are most relevant to today\\'s talent acquisition leaders. \\n\\nAbout SkillSurvey(R) \\n\\nSkillSurvey provides cloud-based solutions to help human capital management professionals manage critical points in the talent lifecycle using data and insight to more effectively recruit, hire and manage employees to drive business results. The company\\'s flagship solution, Pre-Hire 360 (R), is an award-winning, patented technology that utilizes a unique combination of behavioral science and talent analytics. SkillSurvey\\'s Pre-Hire 360 reference solution is scientifically proven to provide data that can be used to drive more informed hiring decisions based upon feedback provided by references on a candidate\\'s past job performance and an extension of Pre-Hire 360 offers a passive sourcing solution.  The company also offers Credential 360 (R), a unique solution that helps hospitals and healthcare organizations improve revenue and get top-notch practitioners providing patient care more quickly by expediting the professional credential verification process. SkillSurvey\\'s cloud-based software products are being used by 1,400 companies, institutions and organizations. Visit SkillSurvey at http://www.skillsurvey.com , and on Facebook , LinkedIn and Twitter . \\n\\nSkillSurvey(R), and Pre-Hire 360(R) are registered trademarks of SkillSurvey Inc. or its affiliates and are registered in the U.S. and other countries. \\n\\nSkillSurvey\\'s Pre-Hire 360(R) is a patented solution. For more information see http://www.skillsurvey.com/patents . \\n\\n© 2015 SkillSurvey Inc. and its affiliates. \\n\\nMedia Contact: \\nJoseph Germani \\nSloane & Company \\n(212) 446-1899 \\njgermani(at)sloanepr.com \\n\\nRead the full story at http://www.prweb.com/releases/2015/09/prweb12957203.htm \\nPRWeb.com', 'title': \"Hiring Experts Series Goes 'Back to School' this Fall to Share Strategies from Clemson University\", 'media-type': 'News', 'source': 'CEOWorld Magazine', 'published': '2015-09-14T13:13:23Z'}\n",
      "\n",
      " - Index: news_data\n",
      "   ID: 257b61d5-0ff4-4f78-a393-d3c4528061c3\n",
      "   Score: 12.873074\n",
      "   Source: {'id': '257b61d5-0ff4-4f78-a393-d3c4528061c3', 'content': 'COLLEGE PARK, Md., Sept. 9, 2015 /PRNewswire-USNewswire/ -- Fifteen Maryland technology startups and one medium-sized company are partnering with faculty members from the state\\'s public universities for projects that bring new products closer to market, University of Maryland officials announce today. \\n\\nApproved through UMD\\'s Maryland Industrial Partnerships (MIPS) program, the research and development projects, worth $3 million, span the state, its universities and technologies, including products that advance clean or efficient energy, biotechnology, software, construction, chemical sensors and aquaculture. \\n\\nParticipating companies contribute $1.6 million for the projects, while MIPS provides $1.4 million. TheMaryland Department of Natural Resourcesand theEnvironmental Protection Agency also provided support. \\n\\nAll MIPS funding goes towards the faculty research for each project. \\n\\nApproved through a competitive process, winning projects, segmented by institution, include: \\n\\nFrostburg State University \\n\\nTutela Industries LLC , based in Baltimore, works with George Rinard, professor, computer science and information technologies, to expand the clinical and patient-facing mobile app functionality of the company\\'s HIPAA compliant patient engagement platform, which improves communication across the care continuum. ($140,900) \\n\\nUniversity of Maryland, Baltimore \\n\\nCentrexion Therapeutics , based in Baltimore, teams with Man-Kyo Chung, associate professor, school of dentistry, to develop efficacy tests for the company\\'s new drugs aimed at improving the treatment of chronic pain conditions such as osteoarthritis. ($141,000) \\n\\nJPLC Associates LLC , based in Baltimore, collaborates with Byongyong Yi, professor, department of radiation oncology, to extend the capabilities of the company\\'s Raven QA product, a unified and comprehensive quality assurance system for radiation therapy machines. ($152,840) \\n\\nUniversity of Maryland, Baltimore County \\n\\nBahari Energy LLC , based in Rockville, works with Weidong Zhu, professor, department of mechanical engineering, to test the performance of the company\\'s Wind Tower, a wind power generation product with a unique design that can be retrofitted onto (and inside of) urban, suburban, business, industrial and residential buildings. ($160,000) \\n\\nRedShred LLC,based in Baltimore, teams with Zareen Syed, professor, and Tim Finin, professor, department of computer science and electrical engineering,to expand the company\\'s semantically enhanced open information extraction software system, which takes complex business documents, such as requests for quotes and proposals, quickly extracts important information, and offers users an efficient way to review opportunities with minimal manual intervention. ($185,000) \\n\\nUniversity of Maryland Center for Environmental Science \\n\\nHY-TEK Bio LLC , based in Dayton, collaborates with Feng Chen, associate professor, Institute of Marine and Environmental Technology, to developing a practical and economical system to grow microalgae with chicken manure nutrient in a large pilot system. ($303,213) \\n\\nUniversity of Maryland, College Park \\n\\nCrab Machinery LLC, based in Woolford, works with Yang Tao, professor, Fischell Department of Bioengineering, to develop a modern, imaging-guided mechanical crabmeat picker that incorporates machine intelligence, including machine vision, robotics, and electronic controls. ($192,750) \\n\\nEarth Networks Corporation , based in Germantown, teams with Jungho Kim, professor, department of mechanical engineering, to expand the functionality of WeatherBug Home,the company\\'s user-friendly and powerfulhomeenergy tool, which combines data from utilities with local weather information to save energy and cut cooling and heating costs. ($426,952) \\n\\nJohnny Oysterseed LLC , based in Saint Leonard, collaborates with Chandrasekhar Thamire, Keystone lecturer, department of mechanical engineering, to develop an oyster aquaculture system that offers higher productivity and cost savings for oyster farmers. ($242,674) \\n\\nN5 Sensors Inc. , based in Germantown, works with Thomas Murphy, professor and director, Institute for Research in Electronics and Applied Physics, to demonstrate a smartphone or tablet-based sensor for detecting toxic gases in ambient air, for use by industrial workers, hazmat crews, fire-fighters, police, security crews or civilians. ($136,964) \\n\\nnanoDERM Sciences Inc. , based in Derwood, teams with Srinivasa Raghavan, professor, department of chemical and biomolecular engineering, to improve the colloidal stability of antibacterial, drug-loaded HydroDEX nanogels for the effective treatment of bacterial infections, including those caused by multidrug-resistant (MDR) pathogens. ($135,000) \\n\\nPaverGuide Inc. , based in Worton, collaborates with Allen Davis, professor, department of civil and environmental engineering, to provide research and development support for a sub-base material to be used with PaverGuide, a base material for permeable paving that also reduces sediment, nitrogen, and phosphorus runoff into the Chesapeake Bay. ($136,783) \\n\\nPavement Corporation , based in Fort Washington, works with Charles Schwartz, professor and chair, department of civil and environmental engineering, to confirm the material parameters and performance of pavement patches constructed using the infrared repair process and to develop accompanying standard procedures, quality control measures, and model specifications. ($134,860) \\n\\nRedox Power Systems LLC , based in College Park, teams with Eric Wachsman, director, University of Maryland Energy Research Center, to improve the strength and robustness of the company\\'s solid oxide fuel cells. ($139,097) \\n\\nRemedium Technologies Inc. , based in College Park, works with Srinivasa Raghavan, professor, department of chemical and biomolecular engineering, to develop a hemostatic foam that can stop bleeding during minimally invasive surgeries without applying compression or converting to an open procedure. ($135,000) \\n\\nXChanger Companies Inc. , based in Annapolis, collaborates with Reinhard Radermacher, professor, department of mechanical engineering, toevaluate the energy-saving potential and thermal comfort of the company\\'s air delivery unit, which initial studies have shown yield potential HVAC operating savings of between 18-31 percent. ($248,048) \\n\\nFour participating companies are from Baltimore and four are from Montgomery County, while three are from the Maryland Eastern Shore, two are from southern Maryland, two are from College Park and one is from Annapolis. \\n\\nProjects are subject to final contract negotiations. \\n\\nThis is the 56th round of MIPS grants. The program has supported research projects with more than 500 different Maryland companies since 1987. \\n\\nCommercial products benefiting from MIPS have generated more than $30.3 billion in revenue and directly added more than 6,600 current jobs to the state\\'s economy. MIPS-sponsored R&D has made key contributions to successful products such as Martek Biosciences\\' nutritional oils, Hughes Communications\\' HughesNet, MedImmune\\'s Synagis, and Black & Decker\\'s Bullet Speed Tip Masonry Drill Bit, WellDoc\\'s mobile diabetes management platform, and CSA Medical\\'s diseased-tissue ablation platform. \\n\\nFor information about the historical economic impact of the MIPS program, an independent study titled \"An Analysis of the Impacts of MIPS Program Spending and the Commercialization of MIPS Funded Projects on the State of Maryland,\" by Richard Clinch, from the Jacob France Institute at the University of Baltimore, is available online. \\n\\nMIPS is a program of the Maryland Technology Enterprise Institute (Mtech) in the A. James Clark School of Engineering at the University of Maryland. \\n\\nAbout the Maryland Industrial Partnerships (MIPS) Program \\n\\nMIPS supports university-based research projects to help Maryland companies develop technology-based products, combining the creative expertise of Maryland\\'s university faculty with the drive of the state\\'s entrepreneurs. Commercial products benefiting from MIPS projects have generated more than $30.3 billion in revenue, added thousands of jobs to the state, and contributed to successful products such as Martek Biosciences\\' nutritional oils, Hughes Communications\\' HughesNet, MedImmune\\'s Synagis, and Black & Decker\\'s Bullet Speed Tip Masonry Drill Bit. \\n\\nTo view the original version on PR Newswire, visit:http://www.prnewswire.com/news-releases/maryland-technology-companies-university-faculty-team-to-develop-16-new-products-through-umd-program-300140026.html \\n\\nSOURCE Maryland Technology Enterprise Institute', 'title': 'Maryland technology companies, university faculty team to develop 16 new products through UMD program', 'media-type': 'News', 'source': 'Consumer Electronics Net', 'published': '2015-09-09T18:07:26Z'}\n",
      "\n",
      " - Index: news_data\n",
      "   ID: ccd56750-a6aa-4092-b925-87b95c14b33a\n",
      "   Score: 12.738445\n",
      "   Source: {'id': 'ccd56750-a6aa-4092-b925-87b95c14b33a', 'content': 'TWENTY-SEVEN students over the age of 50 from Germany, the UK, the Balearic Islands and other parts of Spain are taking part in courses at the Balearic University (UIB). \\n\\nUntil tomorrow (Friday), they will be taking part in the 8th edition International Summer Senior University 2015 and those who have come from outside Mallorca are staying at the student hall. The Senior University is a week-long programme which this year focuses on literature, music and art in Mallorca. Courses are in English and aim to promote intercultural understanding.', 'title': 'Senior students at Balearic University', 'media-type': 'News', 'source': 'EuroWeeklyNews', 'published': '2015-09-13T11:00:00Z'}\n",
      "\n"
     ]
    }
   ],
   "execution_count": 41
  },
  {
   "metadata": {
    "ExecuteTime": {
     "end_time": "2024-06-24T18:07:46.534378Z",
     "start_time": "2024-06-24T18:07:46.518721Z"
    }
   },
   "cell_type": "code",
   "source": [
    "# Ten search queries around the time of September 2015\n",
    "# 1. Migration Crisis in Europe\n",
    "# 2. Volkswagen Emisson Scandal\n",
    "# 3. Syria Conflict and Russian Military Intervention\n",
    "# 4. Terror Attacks in Paris\n",
    "# 5. Earthquake in Nepal\n",
    "# 6. Greece Crisis\n",
    "# 7. Pope Visit in the USA\n",
    "# 8. FIFA Corruption Scandal\n",
    "# 9. Iran Nuclear Deal\n",
    "# 10. Apple introduces the iPhone 6s and iPhone 6s Plus"
   ],
   "id": "b4fe2c0426e3f386",
   "outputs": [],
   "execution_count": 42
  },
  {
   "metadata": {
    "ExecuteTime": {
     "end_time": "2024-06-24T18:07:46.581708Z",
     "start_time": "2024-06-24T18:07:46.534378Z"
    }
   },
   "cell_type": "code",
   "source": [
    "# 1. European Refugee Crisis\n",
    "query_one = {\n",
    "    \"query\": {\n",
    "        \"bool\": {\n",
    "            \"should\": [\n",
    "                {\"match\": {\"media-type\": \"News\"}},\n",
    "                {\"match\": {\"content\": \"Migration crisis\"}},\n",
    "                {\"match\": {\"content\": \"Refugee crisis\"}},\n",
    "                {\"match\": {\"content\": \"European migrant crisis\"}},\n",
    "                {\"match\": {\"content\": \"European refugee crisis\"}},\n",
    "                {\"match\": {\"content\": \"Migrant crisis\"}},\n",
    "                {\"match\": {\"content\": \"Europe\"}},\n",
    "                {\"match\": {\"content\": \"European\"}},\n",
    "                {\"match\": {\"content\": \"refugee\"}},\n",
    "                {\"match\": {\"content\": \"migrant\"}},\n",
    "                {\"match\": {\"content\": {\"query\": \"German\", \"boost\": 2}}},\n",
    "                {\"prefix\": {\"content\": {\"value\": \"German\", \"boost\": 2}}}\n",
    "            ],\n",
    "            \"must_not\": [\n",
    "                {\"match\": {\"source\": \"Al Jazeera\"}},\n",
    "                {\"match\": {\"content\": \"Turkey\"}},\n",
    "                {\"match\": {\"content\": \"Turkish\"}},\n",
    "                {\"match\": {\"content\": \"Erdogan\"}},\n",
    "                {\"match\": {\"content\": \"President\"}},\n",
    "                {\"match\": {\"content\": \"Istanbul\"}},\n",
    "                {\"match\": {\"content\": \"Turkye\"}}\n",
    "            ]\n",
    "        }\n",
    "    }\n",
    "}\n",
    "\n",
    "# 2. VW Emission Scandal\n",
    "query_two = {\n",
    "    \"query\": {\n",
    "        \"bool\": {\n",
    "            \"should\": [\n",
    "                {\"match\": {\"media-type\": \"News\"}},\n",
    "                {\"match\": {\"content\": \"Volkswagen scandal\"}},\n",
    "                {\"match\": {\"content\": \"Volkswagen emissions scandal\"}},\n",
    "                {\"match\": {\"content\": \"VW scandal\"}},\n",
    "                {\"match\": {\"content\": \"VW emissions scandal\"}},\n",
    "                {\"match\": {\"content\": \"Volkswagen emissions\"}}\n",
    "            ],\n",
    "            \"must_not\": [\n",
    "                {\"match\": {\"content\": \"Government\"}},\n",
    "                {\"match\": {\"content\": \"Legislation\"}},\n",
    "                {\"match\": {\"content\": \"Regulation\"}},\n",
    "                {\"match\": {\"content\": \"Law\"}},\n",
    "                {\"match\": {\"content\": \"Legal\"}}\n",
    "            ]\n",
    "        }\n",
    "    }\n",
    "}\n",
    "\n",
    "# 3. Syria Conflict and Russian Military Intervention\n",
    "query_three = {\n",
    "    \"query\": {\n",
    "        \"bool\": {\n",
    "            \"should\": [\n",
    "                {\"match\": {\"media-type\": \"News\"}},\n",
    "                {\"match\": {\"content\": \"Syria conflict\"}},\n",
    "                {\"match\": {\"content\": \"Russian military intervention\"}},\n",
    "                {\"match\": {\"content\": \"Syrian civil war\"}},\n",
    "                {\"match\": {\"content\": \"Russian intervention in Syria\"}},\n",
    "                {\"match\": {\"content\": \"Syrian conflict\"}},\n",
    "                {\"match\": {\"content\": \"Russian military in Syria\"}},\n",
    "                {\"match\": {\"content\": \"Syrian war\"}}\n",
    "            ],\n",
    "            \"must_not\": [\n",
    "                {\"match\": {\"source\": \"Al Jazeera\"}},\n",
    "                {\"match\": {\"content\": \"Afghanistan\"}},\n",
    "                {\"match_phrase_prefix\": {\"content\": \"US\"}}\n",
    "            ]\n",
    "        }\n",
    "    }\n",
    "}\n",
    "\n",
    "# 4. Terror Attacks in Paris\n",
    "query_four = {\n",
    "    \"query\": {\n",
    "        \"bool\": {\n",
    "            \"should\": [\n",
    "                {\"match\": {\"media-type\": \"News\"}},\n",
    "                {\"match\": {\"content\": \"Paris terror attacks\"}},\n",
    "                {\"match\": {\"content\": \"Paris attacks\"}},\n",
    "                {\"match\": {\"content\": \"Paris bombings\"}},\n",
    "                {\"match\": {\"content\": \"Paris shootings\"}},\n",
    "                {\"match\": {\"content\": \"Paris massacre\"}},\n",
    "                {\"match\": {\"content\": \"Victim\"}},\n",
    "                {\"match\": {\"content\": \"Victims\"}},\n",
    "                {\"match\": {\"content\": \"Weapon\"}},\n",
    "                {\"match\": {\"content\": \"Weapons\"}},\n",
    "                {\"match\": {\"content\": \"Explosion\"}},\n",
    "                {\"match\": {\"content\": \"Explosions\"}},\n",
    "                {\"match\": {\"content\": \"Dead\"}},\n",
    "                {\"match\": {\"content\": \"Death\"}},\n",
    "                {\"match\": {\"content\": \"Injured\"}},\n",
    "                {\"match\": {\"content\": \"Injury\"}},\n",
    "                {\"match\": {\"content\": \"Terror\"}}\n",
    "            ],\n",
    "            \"must_not\": [\n",
    "                {\"match\": {\"source\": \"Reuters\"}},\n",
    "                {\"match\": {\"source\": \"Al Jazeera\"}},\n",
    "                {\"match\": {\"content\": \"Politics\"}},\n",
    "                {\"match\": {\"content\": \"Political\"}},\n",
    "                {\"match\": {\"content\": \"Right-wing\"}},\n",
    "                {\"match\": {\"content\": \"Left-wing\"}},\n",
    "                {\"match\": {\"content\": \"Government\"}},\n",
    "                {\"match\": {\"content\": \"Right\"}},\n",
    "                {\"match\": {\"content\": \"Left\"}}\n",
    "            ]\n",
    "        }\n",
    "    }\n",
    "}\n",
    "\n",
    "# 5. Earthquake in Nepal\n",
    "query_five = {\n",
    "    \"query\": {\n",
    "        \"bool\": {\n",
    "            \"should\": [\n",
    "                {\"match\": {\"media-type\": \"News\"}},\n",
    "                {\"match\": {\"content\": \"Nepal earthquake\"}},\n",
    "                {\"match\": {\"content\": \"earthquake in Nepal\"}},\n",
    "                {\"match\": {\"content\": \"Nepal quake\"}},\n",
    "                {\"match\": {\"content\": \"quake in Nepal\"}},\n",
    "                {\"match\": {\"content\": \"Nepal disaster\"}},\n",
    "                {\"match\": {\"content\": \"disaster in Nepal\"}},\n",
    "                {\"match\": {\"content\": \"Nepal natural disaster\"}},\n",
    "                {\"match\": {\"content\": \"natural disaster in Nepal\"}},\n",
    "                {\"match\": {\"content\": \"Nepal catastrophe\"}},\n",
    "                {\"match\": {\"content\": \"catastrophe in Nepal\"}},\n",
    "                {\"match\": {\"content\": {\"query\": \"Homeless\", \"boost\": 2}}},\n",
    "                {\"match\": {\"content\": \"Magnitude\"}}\n",
    "            ],\n",
    "            \"must_not\": [\n",
    "                {\"match\": {\"source\": \"Reuters\"}},\n",
    "                {\"match\": {\"content\": \"Politics\"}},\n",
    "                {\"match\": {\"content\": \"Political\"}},\n",
    "                {\"match\": {\"content\": \"Government\"}},\n",
    "                {\"match\": {\"content\": \"Political\"}},\n",
    "                {\"match\": {\"content\": \"Right-wing\"}},\n",
    "                {\"match\": {\"content\": \"Left-wing\"}}\n",
    "            ]\n",
    "        }\n",
    "    }\n",
    "}\n",
    "\n",
    "# 6. Greece Crisis\n",
    "query_six = {\n",
    "    \"query\": {\n",
    "        \"bool\": {\n",
    "            \"should\": [\n",
    "                {\"match\": {\"media-type\": \"News\"}},\n",
    "                {\"match\": {\"content\": \"Greece crisis\"}},\n",
    "                {\"match\": {\"content\": \"Greek financial crisis\"}},\n",
    "                {\"match\": {\"content\": \"Greek debt crisis\"}},\n",
    "                {\"match\": {\"content\": \"Greece debt crisis\"}},\n",
    "                {\"match\": {\"content\": \"Greek economic crisis\"}}\n",
    "            ],\n",
    "            \"must_not\": [\n",
    "                {\"match\": {\"source\": \"Reuters\"}},\n",
    "                {\"match\": {\"content\": \"Sociopolitical\"}},\n",
    "                {\"match\": {\"content\": \"Beach\"}},\n",
    "                {\"match\": {\"content\": \"Sunny\"}},\n",
    "                {\"match\": {\"content\": \"Ocean\"}}\n",
    "            ]\n",
    "        }\n",
    "    }\n",
    "}\n",
    "\n",
    "# 7. Pope's Visit to the USA\n",
    "query_seven = {\n",
    "    \"query\": {\n",
    "        \"bool\": {\n",
    "            \"should\": [\n",
    "                {\"match\": {\"content\": \"Pope visit USA\"}},\n",
    "                {\"match\": {\"content\": \"Pope Francis visit USA\"}},\n",
    "                {\"match\": {\"content\": \"Pope Francis visit America\"}},\n",
    "                {\"match\": {\"content\": \"Pope visit America\"}},\n",
    "                {\"match\": {\"content\": \"Pope Francis visit United States\"}},\n",
    "                {\"match\": {\"content\": \"Pope visit United States\"}},\n",
    "                {\"match\": {\"content\": \"Christian\"}},\n",
    "                {\"match\": {\"content\": \"Catholic\"}},\n",
    "                {\"match\": {\"content\": \"Religion\"}},\n",
    "                {\"match\": {\"content\": \"Church\"}},\n",
    "                {\"match\": {\"content\": \"Christianity\"}},\n",
    "                {\"match\": {\"content\": \"Catholicism\"}}\n",
    "            ],\n",
    "            \"must_not\": [\n",
    "                {\"match\": {\"source\": \"Reuters\"}},\n",
    "                {\"match\": {\"content\": \"Obama\"}},\n",
    "                {\"match\": {\"content\": \"POTUS\"}},\n",
    "                {\"match\": {\"content\": \"White House\"}},\n",
    "                {\"match\": {\"content\": \"Congress\"}},\n",
    "                {\"match\": {\"content\": \"Senate\"}}\n",
    "            ]\n",
    "        }\n",
    "    }\n",
    "}\n",
    "\n",
    "# 8. FIFA Corruption Scandal\n",
    "query_eight = {\n",
    "    \"query\": {\n",
    "        \"bool\": {\n",
    "            \"should\": [\n",
    "                {\"match\": {\"media-type\": \"News\"}},\n",
    "                {\"match\": {\"content\": \"FIFA corruption scandal\"}},\n",
    "                {\"match\": {\"content\": \"FIFA corruption\"}},\n",
    "                {\"match\": {\"content\": \"FIFA scandal\"}},\n",
    "                {\"match\": {\"content\": \"FIFA corruption probe\"}},\n",
    "                {\"match\": {\"content\": \"FIFA corruption investigation\"}},\n",
    "                {\"match\": {\"content\": \"FIFA corruption charges\"}},\n",
    "                {\"match\": {\"content\": \"FIFA corruption allegations\"}},\n",
    "                {\"match\": {\"content\": \"FIFA corruption case\"}},\n",
    "                {\"match\": {\"content\": \"FIFA corruption trial\"}},\n",
    "                {\"match\": {\"content\": \"FIFA corruption scandal\"}},\n",
    "                {\"match\": {\"content\": \"Fédération Internationale de Football Association\"}},\n",
    "                {\"match\": {\"content\": \"bribery\"}},\n",
    "                {\"match\": {\"content\": \"corruption\"}},\n",
    "                {\"match\": {\"content\": \"scandal\"}},\n",
    "                {\"match\": {\"content\": \"investigation\"}},\n",
    "                {\"match\": {\"content\": \"officials\"}}\n",
    "            ],\n",
    "            \"must_not\": [\n",
    "                {\"match\": {\"source\": \"Reuters\"}},\n",
    "                {\"match\": {\"content\": \"Soccer\"}},\n",
    "                {\"match\": {\"content\": \"World Cup\"}},\n",
    "                {\"match\": {\"content\": \"Match\"}},\n",
    "                {\"match\": {\"content\": \"Goal\"}},\n",
    "                {\"match\": {\"content\": \"Score\"}}\n",
    "            ]\n",
    "        }\n",
    "    }\n",
    "}\n",
    "\n",
    "# 9. Iran Nuclear Deal\n",
    "query_nine = {\n",
    "    \"query\": {\n",
    "        \"bool\": {\n",
    "            \"should\": [\n",
    "                {\"match\": {\"media-type\": \"News\"}},\n",
    "                {\"match\": {\"content\": \"Iran\"}},\n",
    "                {\"match\": {\"content\": \"Iran nuclear deal\"}},\n",
    "                {\"match\": {\"content\": \"Iran nuclear agreement\"}},\n",
    "                {\"match\": {\"content\": \"Iran nuclear pact\"}},\n",
    "                {\"match\": {\"content\": \"Iran nuclear accord\"}},\n",
    "                {\"match\": {\"content\": \"Iran nuclear treaty\"}},\n",
    "                {\"match\": {\"content\": \"Iran nuclear program\"}},\n",
    "                {\"match\": {\"content\": \"Iran nuclear talks\"}},\n",
    "                {\"match\": {\"content\": \"Iran nuclear negotiations\"}},\n",
    "                {\"match\": {\"content\": \"Iran nuclear sanctions\"}},\n",
    "                {\"match\": {\"content\": \"Nuclear weapons\"}},\n",
    "                {\"match\": {\"content\": \"Nuclear capabilities\"}},\n",
    "                {\"match\": {\"content\": \"Nuclear capabilities\"}},\n",
    "                {\"match\": {\"content\": \"Nuclear development\"}},\n",
    "                {\"match\": {\"content\": \"Nuclear research\"}},\n",
    "                {\"match\": {\"content\": \"Nuclear facilities\"}},\n",
    "                {\"match\": {\"content\": \"Nuclear enrichment\"}}\n",
    "            ],\n",
    "            \"must_not\": [\n",
    "                {\"match\": {\"source\": \"Al Jazeera\"}},\n",
    "                {\"match\": {\"content\": \"WMD\"}},\n",
    "                {\"match\": {\"content\": \"Weapons of mass destruction\"}}\n",
    "            ]\n",
    "        }\n",
    "    }\n",
    "}\n",
    "\n",
    "# 10. Apple's Introduction of iPhone 6s and iPhone 6s Plus\n",
    "query_ten = {\n",
    "    \"query\": {\n",
    "        \"bool\": {\n",
    "            \"should\": [\n",
    "                {\"match\": {\"media-type\": \"Blog\"}},\n",
    "                {\"match\": {\"content\": \"Apple introduces iPhone 6s\"}},\n",
    "                {\"match\": {\"content\": \"Apple introduces iPhone 6s Plus\"}},\n",
    "                {\"match\": {\"content\": \"Apple unveils iPhone 6s\"}},\n",
    "                {\"match\": {\"content\": \"Apple Keynote\"}},\n",
    "                {\"match\": {\"content\": \"Apple presentation\"}},\n",
    "                {\"match\": {\"content\": \"Apple reveal\"}},\n",
    "                {\"match\": {\"content\": \"IPhone\"}},\n",
    "                {\"match\": {\"content\": \"IPhone 6s\"}},\n",
    "                {\"match\": {\"content\": \"IPhone 6s Plus\"}},\n",
    "                {\"match\": {\"content\": \"IPhone 6s release\"}},\n",
    "                {\"match\": {\"content\": \"IPhone 6s Plus release\"}},\n",
    "                {\"match\": {\"content\": \"Announcement\"}}\n",
    "            ],\n",
    "            \"must_not\": [\n",
    "                {\"match\": {\"content\": \"Samsung\"}},\n",
    "                {\"match\": {\"content\": \"LG\"}},\n",
    "                {\"match\": {\"content\": \"Google\"}},\n",
    "                {\"match\": {\"content\": \"Galaxy\"}},\n",
    "                {\"match\": {\"content\": \"Android\"}},\n",
    "                {\"match\": {\"content\": \"Huawei\"}},\n",
    "                {\"match\": {\"content\": \"Xiaomi\"}},\n",
    "                {\"match\": {\"content\": \"Blackberry\"}},\n",
    "                {\"match\": {\"content\": \"Sony\"}},\n",
    "                {\"match\": {\"content\": \"Nokia\"}},\n",
    "                {\"match\": {\"content\": \"Fairphone\"}},\n",
    "                {\"match\": {\"content\": \"Microsoft\"}}\n",
    "            ]\n",
    "        }\n",
    "    }\n",
    "}"
   ],
   "id": "d4f1844aa1c6075b",
   "outputs": [],
   "execution_count": 43
  },
  {
   "metadata": {
    "ExecuteTime": {
     "end_time": "2024-06-24T18:07:46.830807Z",
     "start_time": "2024-06-24T18:07:46.581708Z"
    }
   },
   "cell_type": "code",
   "source": [
    "# 1st Search Query: Migration Crisis in Europe\n",
    "migration_crisis_result = search_index(query_one, \"news_data_custom\")\n",
    "print(print_response(migration_crisis_result))"
   ],
   "id": "aa9af0c151bfc1ac",
   "outputs": [
    {
     "name": "stdout",
     "output_type": "stream",
     "text": [
      "Search Metadata:\n",
      " - Took: 222 ms\n",
      " - Timed Out: False\n",
      " - Shards: Total - 1, Successful - 1, Skipped - 0, Failed - 0\n",
      " - Hits: Total - 10000 (Relation: gte)\n",
      " - Max Score: 103.26129\n",
      "\n",
      "Hits:\n",
      " - Index: news_data_custom\n",
      "   ID: 8ef7589f-2975-4a0a-91fb-848293e58d30\n",
      "   Score: 103.26129\n",
      "   Source: {'id': '8ef7589f-2975-4a0a-91fb-848293e58d30', 'source': 'Kenly News', 'published': '2015-09-06T12:26:45Z', 'title': \"POPE TELLS EUROPE'S CHURCHES TO HOST REFUGEES - CNN\", 'media-type': 'News', 'content': 'story highlights pope implores catholic churches to host refugee families 11,000 migrants had crossed into austria by midday sunday, interior ministry says report: germany\\'s kindness on saturday should be seen as exception, german foreign minister says \"every parish, every religious community, every monastery, every sanctuary of europe has to host a family, starting from my diocese of rome,\" francis said at the end of his angelus prayers in rome on sunday. \"the two parishes in the vatican these days will welcome two families of refugees.\" german patience tried meanwhile, as more migrants poured into hungary on sunday, the will of the german government to relieve more pressure there -- as it had done a day earlier -- appeared to have its limits. germany\\'s acceptance of thousands of people who entered hungary while fleeing entrenched bloody conflicts in syria, iraq and afghanistan should be seen as the exception and not the rule, german foreign minister frank-walter steinmeier said on saturday. \"the help in (friday\\'s) emergency situation was tied to an urgent reminder not to make that the practice for the coming days,\" he said at a meeting of europe\\'s foreign ministers in luxembourg, according to the website of the german newspaper die zeit. but on hungary\\'s border with austria, a country most migrants have transited through to get to germany, the stream of migrants continued unabated on sunday. by midday sunday, austria had let in 11,000 migrants since agreeing to allow them in a day before, according to interior ministry spokesman alexander marakovits. the border remains open to potential refugees and packed buses continue to arrive, he said. the united nations\\' refugee agency, unhcr, estimates that 366,402 refugees and migrants have crossed the mediterranean sea to europe this year, with 2,800 dead or missing. those who make the crossing face uncertain futures in european nations, which differ in their approach to asylum seekers. dreamland germany of the thousands arriving in austria this weekend, only a dozen or so migrants have opted to apply for asylum there, the country\\'s interior ministry said. most want to go on to germany. the country is attractive to refugees because of its robust economy, strong democracy and long history of taking in refugees.  after world war ii, in the face of the cold war, germany instituted liberal policies toward applicants for political asylum, making it a prime destination for people fleeing wars and other political strife. austria had stern words for other european countries over the challenge germany has stepped up to meet. \"all of europe must wake up now. the dreaming has to end now,\" said austrian interior minister johanna mikl-leitner on saturday. \"now, it\\'s up to the continent of europe.\" unhcr spokeswoman melissa fleming told cnn at the vienna train station that the situation in austria was not sustainable and other countries needed to share the burden. \"it can\\'t be a german problem, it\\'s a european problem that needs to be resolved by all countries together. \"we\\'re happy to see the outpouring of civil society in countries that are actually unwilling to accept refugees, but of course right now the refugees are saying \\'we want to go to the country where we believe we\\'ll get the best treatment, reception and can restart our lives.\\'\" hungary overwhelmed the migrants\\' arrival in austria capped an emotional week. most had set off on foot from budapest, hungary. for days, they\\'d been waiting at the keleti train station, which became a focal point for the crisis. refugees sheltering in the station refused to go to holding camps set up by the hungarian government -- fearing mistreatment and the possibility they\\'d be unable to continue their journeys north. hungary\\'s right-wing government wants to stop the flood of migrants. it has erected a barbed-wire fence along its more than 160-kilometer (100-mile) border with serbia to prevent them from crossing there. on friday, lawmakers passed bills aimed at tightening border restrictions, according to hungarian news agency mti.  the new laws take effect next week. hungary\\'s government has blamed the onslaught of migration on the european union\\'s immigration policy and on statements made by european politicians that could be understood as welcoming migrants. west to blame for migrant crisis? warm welcome in austria on saturday, under a cold rain, waves of exhausted migrants poured into the border town of nickelsdorf, in austria\\'s burgenland state. austrians waited at the border with hungary to greet the convoys of buses with food and water. one group applauded and let out out welcoming cheers as weary passengers clutching children streamed across the border. the refugees carried their meager belongings in backpacks as they exited the vehicles in the rain. the austrian red cross was also on hand to provide medical supplies and warm blankets. search for a solution the migrant crisis has highlighted disunity in the eu, as member countries have not been able to agree among themselves on how to handle the onslaught of migrants. though eu ministers meeting in luxembourg have not yet agreed on specific policies, they did hammer out some broad general principles for dealing with the crisis: ensure that asylum seekers are protected and treated with basic human rights; fight smugglers and traffickers; strengthen migrants\\' ties to their countries of origin; and work to solve the causes of the influx of refugees -- conflict in syria and in libya. europeans distraught, divided as migrant crisis worsens addressing reporters after saturday\\'s meeting, eu foreign policy chief federica mogherini said europe is finally starting to see the problem for what it is -- not just affecting certain eu states, such as italy and greece, but a europe-wide issue. \"we also have to start using the right words. it is partially a migrant flow, but it is mainly a refugee flow, which puts us in a different situation when it comes to our legal and moral duties,\" she said. it\\'s also a situation that is \"here to stay,\" she warned. the term refugee usually refers to people who have been persecuted politically in their homelands or who are fleeing war. the term migrant is broader and can include people crossing national borders illegally in search of better economic conditions. europe must remember its own history of wars and conflicts, mogherini said, as it considers its responsibility to help and protect refugees. unhcr\\'s fleming said there are a number of things european nations could do to help. \"first of all, once people arrive in europe, what we\\'re proposing is that there be reception centers, registration centers run by the eu, supported by unhcr in greece and italy and also in hungary so that they could claim asylum in those countries,\" she said. \"but it would only work if there is a relocation in place into other countries of europe -- not just germany, not just sweden, not just austria.\" how you can help in the migrant crisis cnn\\'s arwa damon reported from nickelsdorf, while kim hutcherson wrote from atlanta and laura smith-spark from london. cnn\\'s kellie morgan, gul tuysuz, frederik pleitgen, and radina gigova contributed to this report.'}\n",
      "\n",
      " - Index: news_data_custom\n",
      "   ID: e0958158-c328-4cbe-a4cb-fb071a665642\n",
      "   Score: 103.179146\n",
      "   Source: {'id': 'e0958158-c328-4cbe-a4cb-fb071a665642', 'source': 'BizKnowledge Watch', 'published': '2015-09-25T05:00:25Z', 'title': 'OECD’S REFUGEE CRISIS REPORTS', 'media-type': 'Blog', 'content': 'syrian refugees in vienna  the oecd has just launched two new documents, the “ 2015 international migration outlook ” and a “ policy brief on the refugee crisis .”  according to the reports, oecd countries are facing an unprecedented refugee crisis and the situation requires a comprehensive and co-ordinated international response to address the immediate needs of asylum seekers and the longer-term challenge of helping them integrate.  until\\xa0 the end of august, the european border agency frontex counted more than 500 000 illegal border crossings, nearly double the 280 000 recorded for the whole of 2014. europe will probably record more than one million asylum applications in 2015. up to 450 000 of these are expected to obtain a status of humanitarian migrant and eventually settle.  download the “ 2015 international migration outlook ” and the “ policy brief on the refugee crisis .”'}\n",
      "\n",
      " - Index: news_data_custom\n",
      "   ID: 08d44972-6b96-4957-95a7-d9cb4df97329\n",
      "   Score: 103.06743\n",
      "   Source: {'id': '08d44972-6b96-4957-95a7-d9cb4df97329', 'source': 'Grenada News', 'published': '2015-09-13T14:48:23Z', 'title': 'GERMANY NEEDS HELP TO DEAL WITH MIGRANT CRISIS, CABINET MINISTER SAYS – WALL STREET JOURNAL', 'media-type': 'Blog', 'content': 'wall street journal    germany needs help to deal with migrant crisis, cabinet minister says wall street journal frankfurt—after a week of coping with tens of thousands of migrants flooding over germany’s border every day, a german cabinet minister called for urgent help from nations in and out of europe. “europe’s idleness in the migrant crisis is starting to … europe’s migrant crisis: desperate human tide gets last chance the australian refugee crisis: germany reaching its limit, say officials the guardian refugee crisis: how germany rose to the occasion cnn reuters \\xa0- nbcnews.com \\xa0- jerusalem post israel news all 2,497 news articles\\xa0»'}\n",
      "\n",
      " - Index: news_data_custom\n",
      "   ID: bd7bf64d-e4b5-4a32-b471-182cd2e2c4df\n",
      "   Score: 102.66312\n",
      "   Source: {'id': 'bd7bf64d-e4b5-4a32-b471-182cd2e2c4df', 'source': 'The Inquisitr News', 'published': '2015-09-12T19:25:04Z', 'title': 'THE EUROPEAN REFUGEE CRISIS: THEY’RE REFUGEES NOT MIGRANTS', 'media-type': 'Blog', 'content': 'today’s european refugee crisis has been described as one of the largest exodus of refugees fleeing violence in their home countries since world war 2. civil wars and violence in libya and syria, in addition to worsening economic conditions and political turmoil in other countries in the middle east and africa have pushed millions of people out of their homelands in search of a better life, if only until peace and stability return.  the staggering numbers of masses of people marching for thousands of miles or risking their lives in chaotic waters have been the major headlines in the european refugee crisis. governments in europe, and in other countries around the world, have responded in vastly various ways, with some countries refusing entry, others putting religion as a criteria, and more generous statesmen calling for an open door policy.  some news and media outlets have mistakenly labeled the european refugee crisis as a “migrant crisis,” erroneously (and possibly unintentionally) misleading readers and viewers into perceiving the issue as massive waves of people who might be living a slightly stable life just looking for more income.  the european refugee crisis is far from that. the massive waves of people arriving at europe’s borders and shores are either fleeing from barrel bombs and isis in syria, a violent power struggle in libya, or repression and injustice in a number of other countries in the region. they are not looking to earn euros rather than syrian liras to purchase a new home or buy a new car. (yes, there are some running from horrid economic conditions in some countries, but the vast majority are fleeing violence and repression rather than worse welfare.)  the guardian confirmed this fact in a recent article , citing un figures that said that over 60% “of those who had reached europe by boat this year were from syria, eritrea, and afghanistan.” this does not take into account that refugees from other countries, such as libya, iraq, and somalia, have also been running away from war and violence.  the guardian also disputed the idea that the influx of refugees will disrupt the social order in europe, stating that the number of “migrants” that arrived so far in 2015 is 200,000, which “constitutes just 0.027% of europe’s total population.” (statistically speaking, that’s almost one migrant for every 4,000 europeans.)  eu leadership will be needed to counter voices of intolerance emboldened by refugee influx. http://t.co/lzsomioujo  pic.twitter.com/zsvyfpfjhe  — kenneth roth (@kenroth) september 8, 2015  time magazine, however, illustrated how economic issues have played a major role in each european country’s decision in the european refugee crisis. france, for instance, is juggling a hard decision on remaining a human rights leader in the continent and save its economy and reduce the current unemployment rate at the same time. germany, on the other hand, is expecting a decrease in its labor force in the next few decades due to an aging population. more migrant workers would certainly help germany handle this future problem.  #refugeecrisis : new @eu_commission proposals will not solve refugee crisis. #refugeeswelcome  http://t.co/ppefo7quov  pic.twitter.com/lpsqp6oiyl  — amnestyinternational (@amnesty) september 9, 2015  the media has also played a major role in swinging views on the european refugee crisis. earlier on, when news reports and images flooded the media of capsized vessels with hundreds of people drowning, such as this bbc  report , governments were asked to find a humanitarian solution to the european refugee crisis. later, as time went on, some media outlets called on their governments to prevent migrants from entering their country. that all changed when the image of drowned syrian boy alan kurdi went viral, forcing the whole world to take a closer, more humane look at the european refugee crisis. activists and human rights groups became more vocal about the issue and more governments felt more obliged to respond.  exodus to europe is not the solution to refugee crisis or underlying problems. but europe needs to step up short & long term actions  — donald tusk (@eucopresident) september 10, 2015  just today, the guardian reported that thousands of people marched in london to show their support for refugees and calling on world leaders to do more to solve the european refugee crisis.  our country needs you pic.twitter.com/ikprrae9ox  — mark rice-oxley (@markriceoxley69) september 12, 2015  here we go. marching for rights, marching for humanity #refugeeswelcome  pic.twitter.com/ktghjgth1f  — ruta gedmintas (@ruta_gedmintas) september 12, 2015  while opening the doors to the suffering is definitely the most moral solution to the european refugee crisis, the real proper solution is an end to the violence in war torn countries and allowing for more freedom in others. as one telegraph  article put it in its headlines, “how to slow the refugee crisis in europe: stop barrel bombs in syria.”  [photo by ben pruchnie/getty images]  the european refugee crisis: they’re refugees not migrants is an article from: the inquisitr news'}\n",
      "\n",
      " - Index: news_data_custom\n",
      "   ID: 0653e0c5-f547-4ee3-b53d-feccb86b0e11\n",
      "   Score: 102.54394\n",
      "   Source: {'id': '0653e0c5-f547-4ee3-b53d-feccb86b0e11', 'source': 'Expert News', 'published': '2015-09-01T09:33:15Z', 'title': 'GERMANY, SPAIN URGE EU TO NAME SAFE COUNTRIES OF ORIGIN IN REFUGEE CRISIS', 'media-type': 'Blog', 'content': 'german chancellor angela merkel and spanish prime minister mariano rajoy urged the european commission on tuesday to come up with proposals to help europe cope with its refugee and migrant crisis, including defining countries of safe origin. \"there are two things we must say clearly - the european commission must say, identify what are the safe countries of origin ... and we need to work towards a certain harmonization in future,\" rajoy said in a joint press conference with merkel in berlin.'}\n",
      "\n",
      " - Index: news_data_custom\n",
      "   ID: 1cf3c0ae-b6ac-4fae-b9d8-c73e71bd9ad5\n",
      "   Score: 101.69593\n",
      "   Source: {'id': '1cf3c0ae-b6ac-4fae-b9d8-c73e71bd9ad5', 'source': 'Reuters UK', 'published': '2015-09-01T09:39:38Z', 'title': 'GERMANY, SPAIN URGE EU TO NAME SAFE COUNTRIES OF ORIGIN IN REFUGEE CRISIS', 'media-type': 'News', 'content': 'berlin german chancellor angela merkel and spanish prime minister mariano rajoy urged the european commission on tuesday to come up with proposals to help europe cope with its refugee and migrant crisis, including defining countries of safe origin. \"there are two things we must say clearly - the european commission must say, identify what are the safe countries of origin ... and we need to work towards a certain harmonisation in future,\" rajoy said in a joint press conference with merkel in berlin.    (reporting by michelle martin and madeline chambers ; editing by noah barkin )'}\n",
      "\n",
      " - Index: news_data_custom\n",
      "   ID: 13e8cc95-d443-4deb-b5db-07d404b1ab58\n",
      "   Score: 101.44173\n",
      "   Source: {'id': '13e8cc95-d443-4deb-b5db-07d404b1ab58', 'source': 'MyInforms', 'published': '2015-09-14T06:56:25Z', 'title': \"MIGRANTS FACE EUROPEAN 'LEGAL LIMBO'\", 'media-type': 'News', 'content': 'main   europe thousands of refugees face being left in \\'legal limbo\\' as european countries adopt different border rules, the un refugee agency… europe image copyright reuters image caption migrants were stuck in salzburg after trains between austria and germany were suspended thousands of refugees could be left in \"legal limbo\" as european countries adopt different border rules to deal with the record influx of migrants, the un refugee agency (unhcr) has warned. it has called for the establishment of big european-run reception centres in countries where migrants are arriving. the statement came as germany imposed controls on its border with austria. european interior ministers are to hold an emergency meeting on the migrant crisis later on monday. they are due to discuss plans to spread 160,000 asylum seekers across 23 eu states through mandatory quotas. preliminary talks over the weekend that aimed to draft a document for the meeting ended without agreement. europe as a whole is struggling to deal with an enormous influx of people, mostly from syria but also afghanistan, eritrea and other countries, fleeing violence and poverty. many migrants have been refusing to register in countries such as greece or hungary, fearing it will stop them being granted asylum in germany or other eu states. the unhcr said it was concerned that migrants seeking protection they are entitled to could \"find themselves moving around in legal limbo\". it said that recent successive announcements of different border control measures by a number of european countries \"only underlines the urgency of establishing a comprehensive european response\". this response must be based on the creation of effective reception centres which would \"properly assist, register and screen people upon arrival in greece, italy and hungary\". read more on the migrant crisis lyse doucet: where does this crisis end? caring for solo child refugees crisis explained in graphics what next for germany\\'s asylum seekers? the un warning came as germany re-imposed border controls on sunday, saying it was struggling to cope with thousands of asylum seekers arriving every day. late in the evening, police officials began stopping cars and pedestrians near the border and checking passports, afp news agency reported. germany\\'s rail service deutsche bahn said train services with austria were stopped until 03:00 gmt on monday. they have now restarted on monday morning. the move goes against the principle of the schengen zone, which allows free movement between many european countries. however, the agreement does allow for temporary suspensions. \"the aim of these measures is to limit the current inflows to germany and to return to orderly procedures when people enter the country,\" said german interior minister thomas de maiziere. germany says it is stretched to the limit by migrant arrivals, with 12,000 people arriving in munich alone over…'}\n",
      "\n",
      " - Index: news_data_custom\n",
      "   ID: 56c74992-3018-481c-a317-ae2669ee7e0f\n",
      "   Score: 101.047226\n",
      "   Source: {'id': '56c74992-3018-481c-a317-ae2669ee7e0f', 'source': 'THE FINANCIAL ARMAGEDDON BLOG', 'published': '2015-09-11T00:00:06Z', 'title': 'THE REAL STORY BEHIND THE EUROPEAN REFUGEE CRISIS', 'media-type': 'Blog', 'content': '\\xa0european refugee crisis - the anatomy of a coverup , the real story behind the refugee/migrant crisis in europe is much stranger than fiction.the financial armageddon economic collapse blog tracks trends and forecasts , futurists , visionaries , free investigative journalists , researchers , whistelblowers , truthers and many more'}\n",
      "\n",
      " - Index: news_data_custom\n",
      "   ID: f0316161-27ef-4a8c-a41b-87db7b83b476\n",
      "   Score: 100.63316\n",
      "   Source: {'id': 'f0316161-27ef-4a8c-a41b-87db7b83b476', 'source': 'Daily Express', 'published': '2015-09-23T23:00:00Z', 'title': \"REFUGEE FAMILY DEMANDS TO BE SETTLED IN GERMANY – OR THEY'LL GO BACK TO SYRIA\", 'media-type': 'News', 'content': 'a family of migrants have demanded that they are settled in germany and have refused to seek asylum in any other european country. housam kbieh - who travelled to europe with his wife and two sons - has threatened to go back to syria if his family are not relocated to the eu\\'s most powerful member state, which offers a generous benefit system and open-door policy. kbieh and his family are staying at an old military camp in the north of munich, which has been transformed into a migrant centre. the refugee said they were forced to flee damascus, but outright refused to be settled anywhere else in the eu. he said: \"i go back to my country, it\\'s germany or nothing.\" kbeih - whose disabled son needs specialist medical care - claimed that \"if you asked anyone\" in the migrant camp he is staying in they would agree. the audacious revelation comes as germany admitted it is considering plans to limit the number of migrants it takes in every year. german interior minister thomas de maiziere said there is a limit to the number of migrants european union member states can take - claiming they \"can\\'t take every refugee\". in the latest admission of the country\\'s excessively generous policy towards the migrant crisis, he said: \"we cannot accept all the people who are fleeing conflict zones or poverty and want to come to europe or germany.\" his bold comments contradict germany\\'s previous soft touch approach towards housing migrants - which left chancellor angela merkel predicting it will take a massive 800,000 migrants in this year alone. the country even demonstrated its commitment to desperate migrants by building a tent city to house thousands of people claiming asylum. but mr de maixiere claimed that such an approach was essential to tackling the current migrant crisis throughout europe. he said: \"the decision was necessary for humanitarian reasons in exceptional circumstances. had we not, the same amount would have come, only later.'}\n",
      "\n",
      " - Index: news_data_custom\n",
      "   ID: 42344fa8-c618-4a93-93fb-2278d30f4d7e\n",
      "   Score: 99.54116\n",
      "   Source: {'id': '42344fa8-c618-4a93-93fb-2278d30f4d7e', 'source': 'Breitbart.com', 'published': '2015-09-23T19:13:40Z', 'title': 'MERKEL APPROVAL PLUMMETS', 'media-type': 'News', 'content': 'sean gallup/  by 23 sep 2015 0   the popularity of chancellor angela merkel, leader of the german confederation\\xa0has slipped three points in the past week over her\\xa0inconsistent approach to the migrant crisis.  in a new poll by the forsa institute for the german\\xa0 star , merkel’s christian democrat / christian social union (cdu) party has taken a one point hit since last week, leaving them at 40 per cent. taking more punishment is merkel herself, with her own rating dropping three points to 49 per cent.  although the fall is indicative of the nation’s feelings about her personal leadership on the migration issue, and it puts merkel on her lowest rating this year, the fall is far from fatal. the cdu remains the most popular party in german politics, as it has for over a decade. the social democrats trail behind at 25 per cent, while\\xa0the green and ukip-esque alternative for germany parties have 10 per cent each.  forsa chief manfred güllner attributed merkel’s fall to her position on the migrant crisis and criticism of her policies by allies within her own party. bavarian prime minister\\xa0horst seehofer, whose german state bears the brunt of all migrant arrivals to germany has been particularly vocal in his criticism and today even went as far as welcoming hungarian prime minister viktor orban for talks.  only last month merkel’s government declared germany’s border open to all syrians, prompting a rush of migrants which overwhelmed the nations police and exhausted all available places for asylum seekers to stay. unfortunately for merkel, it soon transpired that not all of the syrians arriving were actually syrian – far from it.  as the pomeranian interior minister remarked last week: “at least a quarter of those refugees allegedly coming from syria are not from syria, but from other arab or african countries”. around 25 per cent were thought to be fakes .  güllner said:\\xa0“the fact that the cdu / csu lost one percentage point is due to the blustering criticism of the bavarian prime minister horst seehofer at angela merkel’s course in the refugee policy… this is citizens punishing incomprehensible discord within the union”.  despite working within the framework of the cdu,\\xa0seehofer has shown little reluctance to undermine his chancellor while making bold suggestions for how europe could deal with the migrant crisis. at a joint press conference with viktor orban in bavaria today,\\xa0seehofer suggested greece should lose responsibility for policing its own borders, as they have proven so inept at controlling them so far – with a country like hungary stepping in their place.  another suggestion was for europe to work more closely with russia to resolve the syrian situation – an idea that seems at least superficially unlikely considering the immense animosity between russia and the european union.  follow oliver lane on twitter:  follow @oliver_lane  or e-mail to: olane@breitbart.com   read more stories about:  breitbart london , germany , immigration , angela merkel , europe migrant crisis'}\n",
      "\n",
      "None\n"
     ]
    }
   ],
   "execution_count": 44
  },
  {
   "metadata": {
    "ExecuteTime": {
     "end_time": "2024-06-24T18:07:46.990963Z",
     "start_time": "2024-06-24T18:07:46.832319Z"
    }
   },
   "cell_type": "code",
   "source": [
    "# 2nd Search Query: Volkswagen Emission Scandal\n",
    "vw_emission_scandal_result = search_index(query_two, \"news_data_custom\")\n",
    "print_response(vw_emission_scandal_result)"
   ],
   "id": "7b82217857d1dc68",
   "outputs": [
    {
     "name": "stdout",
     "output_type": "stream",
     "text": [
      "Search Metadata:\n",
      " - Took: 145 ms\n",
      " - Timed Out: False\n",
      " - Shards: Total - 1, Successful - 1, Skipped - 0, Failed - 0\n",
      " - Hits: Total - 10000 (Relation: gte)\n",
      " - Max Score: 111.35358\n",
      "\n",
      "Hits:\n",
      " - Index: news_data_custom\n",
      "   ID: 0ef6a0ee-6b16-45b2-ac20-70dd1bac37b2\n",
      "   Score: 111.35358\n",
      "   Source: {'id': '0ef6a0ee-6b16-45b2-ac20-70dd1bac37b2', 'source': 'Autocar.co.uk', 'published': '2015-09-28T11:22:38Z', 'title': 'VW EMISSIONS SCANDAL: PROSECUTORS TO INVESTIGATE MARTIN WINTERKORN', 'media-type': 'News', 'content': 'reports suggest that volkswagen\\'s former chief executive subjected to fraud probe; several other executives are suspended from the company german prosecutors have opened an investigation into former volkswagen group boss martin winterkorn as a result of the emissions scandal that has engulfed the company. the prosecutor’s office in germany has said that winterkorn is being investigated over “allegations of fraud in the sale of cars with manipulated emissions data.” in germany, anyone can file a complaint with the prosecutors, and several were filed as a result of the emissions scandal last week. the prosecutors then decide whether to open a formal investigation, which has now happened. several vw executives are also reported to be on official leave from the company, with audi r&d boss ulrich hackenberg, vw r&d chief heinz jakob neusser and porsche board member wolfgang hatz all said to be suspended. hackenberg is a long-time board member of the vw group, and has had responsiblity for development for the group as a whole and, more recently, audi. hatz is the\\xa0vw group\\'s head of engines and transmissions, as well as being the\\xa0research and development boss of porsche. none of the three has been formally connected with an active role in the scandal, however. following chairman and ceo martin\\xa0winterkorn\\'s departure, the\\xa0board of executives that governs volkswagen ag had suggested that he wouldn\\'t be the last top-line employee to leave his post as a result of the emissions testing scandal. that message was reiterated at the announcement of matthias müller as the new vw group boss . a statement read: \"with the information currently available the supervisory board recommended the immediate suspension of some employees. this process is already underway.\" last week it was confirmed that christian klinger, the vw group\\'s boss of sales and marketing and after-sales had left the firm \"due to differences with regard to business strategy\". vw confirmed klinger\\'s departure was unrelated to the emissions scandal. the vw group executive committee has stated that it could pursue criminal proceedings against those found to be responsible for the manipulation. it will voluntarily submit a complaint to the state prosecutors’ office and offer full support for any subsequent investigation. winterkorn announced his resignation in the wake of the scandal about a software cheat in american nox emissions tests.\\xa0the 68-year-old executive, who fought off ferdinand piech in a power struggle earlier this year, had been expected to have a fresh contract extension ratified by vw’s supervisory board this week. an official statement from winterkorn said: \"i am clearing the way for a fresh start.\\xa0i am shocked by the events of the past few days. above all, i am stunned that misconduct on such a scale was possible in the volkswagen group. “as ceo i accept responsibility for the irregularities that have been found in diesel engines and have therefore requested the supervisory board to agree on terminating my function as ceo of the volkswagen group. i am doing this in the interests of the company even though i am not aware of any wrongdoing on my part. “volkswagen needs a fresh start - also in terms of personnel. i am clearing the way for this fresh start with my resignation. “i have always been driven by my desire to serve this company, especially our customers and employees. volkswagen has been, is and will always be my life. “the process of clarification and transparency must continue. this is the only way to win back trust. i am convinced that the volkswagen group and its team will overcome this grave crisis.” the vw group\\'s interim chairman berthold huber said: \"mr winterkorn has worked hard for vw and we would like to thank him for his efforts over the past 10 years, and also for his willingness to take responsibility in this most difficult of situations.\" read more on the volkswagen emissions scandal: how the volkswagen story unfolded how vw\\'s \\'defeat device\\' works top vw bosses to leave european cars are affected, says german minister psa peugeot citroën leads calls for tougher emissions test procedures your key questions answered bmw - why the x5 complied with independent us emissions test blog - thinking about buying a vw diesel? carry on regardless blog - the vw scandal and the growing dangers of its ripple effect blog - vw\\'s scandal has put the entire motor industry under pressure blog - winterkorn pays a high price blog - the emissions scandal could sink volkswagen\\'s us ambitions blog - are we about to see the death of diesel? blog - vw\\'s us boss faces the music get the latest car news, reviews and galleries from autocar direct to your inbox every week. enter your email address below'}\n",
      "\n",
      " - Index: news_data_custom\n",
      "   ID: dff84349-d960-46aa-b06b-bb02e46d3bf3\n",
      "   Score: 109.34389\n",
      "   Source: {'id': 'dff84349-d960-46aa-b06b-bb02e46d3bf3', 'source': 'App.ViralNewsChart.com', 'published': '2015-09-23T16:11:53Z', 'title': 'VOLKSWAGEN EMISSIONS SCANDAL LIVE: AFFECTED ENGINES ALSO USED IN SKODA, SEAT AND LUXURY VW MODELS', 'media-type': 'News', 'content': 'here are the latest updates:the damage runs deep as car giant pollutes its reputationthese are the volkswagen cars affectedthe other scandal to hit volkswagen this yearvolkswagen sets aside €6.5 billion to win back trustshares dive €15bn after the revelationsvolkswagen q&a: what is the emissions scandal and how should drivers react?... read more  \\r vw \\r volkswagen \\r used \\r skoda \\r seat \\r scandal \\r models \\r luxury \\r engines \\r emissions \\r also \\r affected'}\n",
      "\n",
      " - Index: news_data_custom\n",
      "   ID: fe917b0d-0999-4da9-bdd2-3d43391c044a\n",
      "   Score: 108.1525\n",
      "   Source: {'id': 'fe917b0d-0999-4da9-bdd2-3d43391c044a', 'source': 'MyInforms', 'published': '2015-09-25T19:08:04Z', 'title': 'ABOUT 5 MILLION VW BRAND CARS HIT BY EMISSIONS SCANDAL, SAYS COMPANY', 'media-type': 'News', 'content': 'berlin, sept 25 (reuters) - about 5 million volkswagen brand cars are affected by the diesel emissions scandal, herbert diess, head of volkswagen brand, said in a statement on friday.\\r … \\r berlin, sept 25 about 5 million volkswagen brand cars are affected by the diesel emissions scandal, herbert diess, head of volkswagen brand, said in a statement on friday. this is part of the 11 million cars the vw…'}\n",
      "\n",
      " - Index: news_data_custom\n",
      "   ID: 898dc8b1-2b26-4401-8a64-b6952ebe6b14\n",
      "   Score: 107.76517\n",
      "   Source: {'id': '898dc8b1-2b26-4401-8a64-b6952ebe6b14', 'source': 'Kathmandu Post', 'published': '2015-09-25T07:05:11Z', 'title': 'VOLKSWAGEN SET TO ANNOUNCE NEW BOSS', 'media-type': 'News', 'content': \"the board of scandal-hit volkswagen meets on friday to shake up its management. on the agenda will be choosing a replacement for chief executive martin winterkorn, who resigned on wednesday. reports have said that the front-runner for the top job is porsche chief executive matthias mueller. vw is also expected to dismiss executives tainted by the scandal over the rigging of emissions tests by software in its diesel cars in the us. in addition, further details on the brands and locations of the 11 million cars involved are due to be set out. us authorities found that software in a particular diesel engine used by volkswagen could detect when it was being tested and reduce the emissions produced. it meant that the emissions in actual driving were considerably higher than those found during testing. the contenders matthias mueller comes from an engineering background and certainly knows the brands involved, having joined vw-owned audi in 1977. he was put in charge of all vehicle projects for volkswagen in 2003. he is seen as a likely successor because he is popular with the families that control vw. he was already being cited as a likely successor to mr winterkorn in april, during the power struggle with then-chairman ferdinand piech. porsche is owned by volkswagen, but confusingly, vw itself is controlled by porsche se, the holding company, which mr mueller is already on the board of. another potential successor is herbert diess, the current head of the volkswagen brand. mr diess only joined vw from bmw in july, so will not be tainted by the scandal. he had a reputation for cost-cutting at bmw, having worked across the group, including a spell at bmw's mini plant in oxford. given the losses already expected as a result of the emissions scandal, cost-cutting is likely to be a priority. if the board decides to look outside volkswagen it may consider elmar degenhart, chairman and chief executive of the tyremaker continental. being head of a supplier to the car industry means he would be safe even if the investigations sparked by the emissions scandal were to extend to other car companies. hans dieter potsch, who began his career at bmw, is chief financial officer of both volkswagen and the controlling porsche se. he was tipped earlier this month to become the new chairman of vw, replacing ferdinand piech, although he could not do so until he had been elected onto the supervisory board by shareholders in november. his reported board-level support for the post suggests he could also be brought in as chief executive. rupert stadler heads up vw's audi brand, and is the third of the big brand-bosses in the frame to potentially be the next overall chief executive. being in charge of audi also puts him in control of ducati, lamborghini and a chunk of bayern munich football club. before the emissions scandal he was being tipped as a possible replacement for hans dieter potsch as chief financial officer. he is unusual among the frontrunners because he comes from a finance background instead of engineering.\"}\n",
      "\n",
      " - Index: news_data_custom\n",
      "   ID: 25206980-42e8-45ed-a071-29b05222d42a\n",
      "   Score: 107.64952\n",
      "   Source: {'id': '25206980-42e8-45ed-a071-29b05222d42a', 'source': 'Motrolix | Motrolix', 'published': '2015-09-25T15:03:58Z', 'title': 'PORSCHE BOSS MATTHIAS MÜLLER SAID TO BE NAMED CEO OF VOLKSWAGEN', 'media-type': 'Blog', 'content': 'porsche boss matthias müller said to be named ceo of volkswagen 0 by sam mceachern — sep 25, 2015 share porsche boss matthias müller is said to be in line for the position of ceo of vw group, according to cnbc. the automaker’s former ceo martin winterkorn resigned this week after the company admitted to using a special device in millions of diesel passenger cars in order to dodge u.s. emissions laws. the vw board will hold a meeting today at its headquarters in wolfsburg, germany, to discuss müller’s potential appointment to ceo. a source close to the matter told cnbc that müller has “strong support,” on the vw board and that he is “thought highly of by executives and the labor unions as well.” if müller is tapped for the job, he will have a lot on his plate. in addition to rigging emissions tests in the u.s., it emerged thursday vw group may have also applied a similar defeat device to certain diesel vehicles in europe in order to skirt european emissions tests, too. the automaker’s shares also tumbled 20 percent on monday and remained low throughout the week. in addition to winterkorn, other vw executives are expected to leave the company amid the emissions scandal and the subsequent backlash. head of the automaker’s u..s operations, michael horn, is expected to leave or be let go, along with the heads of audi and porsche research and development ulrich hackenberg and wolfgang hatz. — sam mceachern previous story bmw m boss aggressively shoots down rumored project with mclaren you may also like... volkswagen cleaning house with reports horn, hackenburg, hatz to be fired volkswagen ceo martin winterkorn resigns amid emissions scandal, successor yet to be named community question: does the volkswagen diesel scandal change your perception of vw?'}\n",
      "\n",
      " - Index: news_data_custom\n",
      "   ID: dceee88f-8ea3-403f-9b97-e61a6b4ab329\n",
      "   Score: 107.51704\n",
      "   Source: {'id': 'dceee88f-8ea3-403f-9b97-e61a6b4ab329', 'source': 'Press and Journal', 'published': '2015-09-26T05:28:22Z', 'title': 'SWITZERLAND BANS SALES OF SOME VW GROUP CARS', 'media-type': 'News', 'content': 'switzerland has banned sales of volkswagen group cars with outdated emissions systems in the wake of the test-rigging scandal that started in the united states.  thomas rohrbach, spokesman for the swiss federal office of roadways, said the ban applied to all cars with diesel engines in the euro 5 emissions category. it includes all vw models as well as seat, skoda and others in the vw group.  the ban affects  only   cars not yet sold or registered, not ones already in circulation. it does not apply to cars now in production with euro 6 engines, which are not affected by the emissions scandal.  mr rohrbach said the ban could  potentially   affect 180,000 vehicles that have 1.2, 1.6 and 2.0-litre diesel engines.  volkswagen has said the 11 million vehicles worldwide that contain software involved in the emissions-rigging scandal include some five million cars made by its core vw brand.  the volkswagen group includes 12 brands, and the german company has yet to detail fully what cars where were involved. a volkswagen statement said some diesel models and model years – such as the sixth-generation golf, seventh-generation passat and first-generation tiguan – are equipped exclusively with the ea 189 engines in which it says there are “discrepancies”.  it did not detail say where in the world the five million volkswagens were sold.  volkswagen brand chief herbert diess said “we are working at full speed on a technical solution that we will present to partners, to our customers and to the public as swiftly as possible”.  meanwhile volkswagen says it is reorganising its north america business under winfried vahland, until now chairman of the board of directors at skoda.  michael horn will remain as president and ceo of volkswagen group of america, but its us canada and mexico markets will be “combined and significantly strengthened” to form a new “north america region”.  earlier, incoming volkswagen ceo matthias mueller pledged to do everything to win back the trust of the public in the wake of the emissions scandal.  he said after being appointed to the job that “we stand by our responsibility”, but added that “carefulness is even more important than speed”.  mr mueller said the company would introduce “even tougher compliance rules” and promised to make vw “an even stronger company”.  the post appeared first on press and journal .'}\n",
      "\n",
      " - Index: news_data_custom\n",
      "   ID: 8d4c6dac-f4f3-46b4-bee0-9dd051ca15c8\n",
      "   Score: 107.296906\n",
      "   Source: {'id': '8d4c6dac-f4f3-46b4-bee0-9dd051ca15c8', 'source': 'Tatumba.com', 'published': '2015-09-23T16:03:19Z', 'title': \"‘VOLKSWAGEN NEEDS A FRESH START': CEO STEPS DOWN AMID EMISSIONS SCANDAL\", 'media-type': 'Blog', 'content': 'volkswagen ceo martin winterkorn has stepped down, ahead of a board meeting later this week that would have decided his future.  cbc | top stories news  i fund cbc with my tax dollars so now they fund me.   related posts:  costs mount for vw as emissions scandal grows to 11 million vehicles  the scope of volkswagen’s ongoing emissions scandal widens as the...  volkswagen-style emissions test-rigging uncommon, say experts  volkswagen’s emissions test-rigging scandal is shocking many in the auto...  did money talk to make blatter walk? fifa sponsors get relief amid scandal  it’s not clear what compelled fifa president sepp blatter to...  did money talk to make blatter walk? fifa sponsors get relief amid scandal  it’s not clear what compelled fifa president sepp blatter to...'}\n",
      "\n",
      " - Index: news_data_custom\n",
      "   ID: 16cec0a4-d9b4-4447-8fac-3430e14e0f6d\n",
      "   Score: 106.5437\n",
      "   Source: {'id': '16cec0a4-d9b4-4447-8fac-3430e14e0f6d', 'source': 'App.ViralNewsChart.com', 'published': '2015-09-26T08:00:22Z', 'title': 'AUTOBLOG MINUTE: VW EMISSIONS SCANDAL, NEW FORD SUPER-DUTY', 'media-type': 'News', 'content': \"filed under: videos, ford, volkswagen, emissions, truck, diesel, autoblog minute, recapwe got our first looks at look at ford's new f-series super duty truck lineup this week but it's volkswagen that has been dominating the news cycle, as matthias muller is named ceo of the embattled automaker. autoblog's senior editor greg migliore reports on the recap edition of autoblog minute.continue reading autoblog minute: vw emissions scandal, new ford super-duty originally appeared on autoblog on fri, 25 sep 2015 16:28:00 est.  please see our terms for use of feeds.permalink\\xa0|\\xa0email this\\xa0|\\xa0comments... read more  \\r vw \\r super \\r scandal \\r new \\r minute \\r ford \\r emissions \\r duty \\r autoblog\"}\n",
      "\n",
      " - Index: news_data_custom\n",
      "   ID: 0bb2386f-560b-40d6-b35a-0be17dcab192\n",
      "   Score: 106.1524\n",
      "   Source: {'id': '0bb2386f-560b-40d6-b35a-0be17dcab192', 'source': 'IBN Khabar', 'published': '2015-09-27T04:23:17Z', 'title': 'A TO Z OF THE VOLKSWAGEN EMISSIONS TEST FRAUD SCANDAL', 'media-type': 'News', 'content': 'berlin: just one week ago volkswagen was a company oozing confidence, the world\\'s best-selling automaker with a global brand that appealed to car buyers seeking trustworthy german engineering at an affordable price. since then, the company\\'s fortunes — and its share price — have crashed amid a scandal over rigged emissions tests. the company\\'s fortunes and its share price have crashed amid a scandal over rigged emissions tests. here\\'s what\\'s known about the volkswagen affair so far. \\r here\\'s what\\'s known about the volkswagen affair so far: how did it start? researchers at west virginia university, tipped off by an environmental group, conducted tests on several diesel vehicles and discovered that two volkswagen models, a 2012 vw jetta and a 2013 vw passat, had much higher emissions than permitted. they reported their findings to the u.s. environmental protection agency and the california air resources board in may 2014, but vw stalled by blaming the problem on technical issues. then epa announced sept. 18 that volkswagen had skirted clean air rules by cheating on tests of its diesel cars. volkswagen ceo martin winterkorn issued an apology, stating that he was \"deeply sorry that we have broken the trust of our customers and the public.\" what did vw do?  diesel vehicles are more efficient than those powered by regular gas but emit higher levels of nitrogen oxides, or nox, which can contribute to ozone buildup and respiratory illnesses. in europe, where rules emphasize fuel economy, diesel vehicles are common but until recently they struggled to meet u.s. emissions limits on nox. vw has admitting using software that allowed its diesel cars to fool u.s. emissions tests, releasing fewer smog-causing nox during the tests than in real-world driving conditions. how bad is the damage to vw? the company\\'s stock price has plummeted by a third over the past week, wiping billions off its market value. vw faces a potential fine of up to $18 billion in the united states, though analysts say the real figure is likely to be significantly lower if the company cooperates with regulators. still, consumer groups and shareholders have threated to sue the company and vw can expect lower sales as buyers steer clear of its vehicles. so far, the company has set aside around 6.5 billion euros ($7.3 billion) to cover the costs of the scandal. who is responsible?  volkswagen ceo winterkorn said he was unaware of the wrongdoing but took responsibility for the scandal by stepping down. industry analysts say winterkorn, an engineer by training, would have had to have known about such a far-reaching scheme. if not, he failed to properly oversee the company. on friday, vw\\'s supervisory board recommended suspending \"some employees,\" according to chairman berthold huber. volkswagen did not say who the employees were or where they worked. whoever is responsible could face criminal charges in germany. how many cars are affected? initially, vw said almost 500,000 diesel cars in the united states were affected. these included the audi a3, vw jetta, beetle, golf and passat models built with type ea 189 diesel engines in the last seven years. the company later acknowledged the software had been fitted to some 11 million vehicles worldwide since 2008, including in 2.8 million vehicles in its home market of germany. how will vw fix it? the company faces three big challenges ahead: satisfying regulators that it now meets all the emissions rules, rebuilding customers\\' trust in its tarnished brand and restoring investor confidence. vw has already pledged to cooperate with the epa and other regulators investigating the emissions fraud and replaced winterkorn with porsche chief matthias mueller. according to a report saturday by german daily handelsblatt, vw is planning to offer a free fix for the 11 million affected vehicles and customers will be contacted in the coming weeks. can other car companies get away with similar schemes? it\\'s not clear right now if any other car companies were involved in similar schemes to cheat the u.s. emissions tests. the epa said friday, however, it will change the way it tests diesel emissions, adding on-road tests to check for \"a potential defeat device\" similar to the one used by volkswagen. the testing would be in addition to standard emissions tests. \\r           \\t\\r\\r\\r\\r \\r \\r \\r\\r  more from this section'}\n",
      "\n",
      " - Index: news_data_custom\n",
      "   ID: fa2e784e-5f82-4a3c-bd5d-2a97f72d706c\n",
      "   Score: 106.12775\n",
      "   Source: {'id': 'fa2e784e-5f82-4a3c-bd5d-2a97f72d706c', 'source': 'Moneycontrol.com', 'published': '2015-09-28T14:21:38Z', 'title': 'ALMOST 129,000 CARS IN SWITZERLAND AFFECTED BY VW SCANDAL', 'media-type': 'News', 'content': \"vw, which has admitted to cheating diesel emissions tests in the united states, is under huge pressure to get to grips with the biggest business scandal in its 78-year history.     a lmost 129,000 volkswagen group vehicles registered in switzerland are affected by the rigged emissions testing scandal that has halted swiss sales of new models equipped with the diesel motors in question, volkswagen's swiss distributor amag said. \\r \\rvw, which has admitted to cheating diesel emissions tests in the united states, is under huge pressure to get to grips with the biggest business scandal in its 78-year history. \\r \\rin a statement on monday, amag said 128,802 vw cars registered in switzerland were affected by the scandal, equating to 2.2 percent of the 5.8 million road motor vehicles in switzerland at the end of 2014. \\r \\ramag said the affected models were volkswagen, audi, seat, skoda and vw commercial vehicles. \\r \\ras part of vw's action plan to solve the crisis, amag said a plan to retrofit the affected cars would be presented to swiss transport authorities in october. \\r \\ronly a few hundred new cars in amag's inventory were affected by the sales halt, it added. \\r \\rlast week swiss authorities estimated that around 180,000 vw group vehicles in switzerland could be affected by the diesel manipulation row that has engulfed the german carmaker.\"}\n",
      "\n"
     ]
    }
   ],
   "execution_count": 45
  },
  {
   "metadata": {
    "ExecuteTime": {
     "end_time": "2024-06-24T18:07:47.187584Z",
     "start_time": "2024-06-24T18:07:46.992985Z"
    }
   },
   "cell_type": "code",
   "source": [
    "# 3rd Search Query: Syria Conflict and Russian Military Intervention\n",
    "syria_conflict_result = search_index(query_three, \"news_data_custom\")\n",
    "print_response(syria_conflict_result)"
   ],
   "id": "998f2ff046e15bde",
   "outputs": [
    {
     "name": "stdout",
     "output_type": "stream",
     "text": [
      "Search Metadata:\n",
      " - Took: 169 ms\n",
      " - Timed Out: False\n",
      " - Shards: Total - 1, Successful - 1, Skipped - 0, Failed - 0\n",
      " - Hits: Total - 10000 (Relation: gte)\n",
      " - Max Score: 115.40952\n",
      "\n",
      "Hits:\n",
      " - Index: news_data_custom\n",
      "   ID: 5f23bd62-fd18-401b-9ce5-cbaa53ef3cd3\n",
      "   Score: 115.40952\n",
      "   Source: {'id': '5f23bd62-fd18-401b-9ce5-cbaa53ef3cd3', 'source': 'MyInforms', 'published': '2015-09-05T21:00:52Z', 'title': 'KERRY CONFRONTS RUSSIA OVER REPORTS OF ESCALATING INVOLVEMENT IN SYRIA', 'media-type': 'News', 'content': \"further russian intervention in syria’s civil war could make things worse, kerry s… further russian intervention in syria’s civil war could make things worse, secretary of state john kerry told russian foreign minister sergey lavrov in a phone call today. washington — further russian intervention in syria’s civil war could make things worse for civilians and the coalition battling islamic state fighters there, secretary of state john kerry warned russian foreign minister sergey lavrov in a phone call saturday. kerry made the call in response to reports “suggesting an imminent enhanced russian military build-up” in syria, according to readout of the call from the state department. “the secretary made clear that if such reports were accurate, these actions could further escalate the conflict, lead to greater loss of innocent life, increase refugee flows and risk confrontation with the anti-isil coalition operating in syria,” the statement said. syrians have been fleeing a four-year civil war as well as advances by islamic state militants, who've taken over large swaths of the country. the refugees have turned up in the tens of thousands this summer in europe and elsewhere in the region. millions have sought refuge in nearby turkey, lebanon and jordan. reports that u.s. intelligence officials have found evidence of a growing russian military presence has raised concerns at the white house that russian president vladimir putin is lending even more assistance to syrian president bashar assad than previously known. putin has been providing financial support and intelligence to the assad regime for years. “i will just say as a general matter that any military support to the assad regime for any purpose, whether it's in the form of military personnel, aircraft, supplies, weapons, or funding, is both destabilizing and counterproductive,” white house spokesman josh earnest said thursday. citing unnamed administration officials, the new york times reported saturday that russia recently moved prefabric…\"}\n",
      "\n",
      " - Index: news_data_custom\n",
      "   ID: b5bcb36f-ada7-4431-b235-616ef089b714\n",
      "   Score: 115.08608\n",
      "   Source: {'id': 'b5bcb36f-ada7-4431-b235-616ef089b714', 'source': 'Packet & Times', 'published': '2015-09-30T13:26:20Z', 'title': 'RUSSIA BEGINS SYRIA AIR STRIKES AS WAR ENTERS VOLATILE NEW PHASE', 'media-type': 'News', 'content': 'moscow/washington - russia launched air strikes in syria on wednesday in the kremlin\\'s biggest middle east intervention in decades, but moscow\\'s assertion that it had hit islamic state was immediately disputed by the united states and rebels on the ground.  the air strikes plunged the four-year-old civil war in syria into a volatile new phase as president vladimir putin moved forcefully to assert russian influence in the unstable region.  moscow and washington offered conflicting accounts of which targets had been struck, underlining growing tensions between the two former cold war foes over russia\\'s decision to intervene. washington is concerned that moscow is more interested in propping up syrian president bashar al-assad than in beating islamic state.  the russian defence ministry said the strikes targeted military equipment, communication facilities, arms depots, ammunition and fuel belonging to islamic state.  u.s. officials said targets in the homs area appeared to have been struck, but not areas held by islamic state.  russia warned the united states ahead of the strikes to keep its aircraft out of syrian airspace, but the united states pressed forward with its campaign of air strikes against islamic state forces and said it had targeted islamic state near the syrian city of aleppo.  a u.s. official said moscow gave washington just an hour\\'s notice of its strikes, which the kremlin said were designed to help assad, its closest regional ally, push back islamist militants.  notice of the attack came from a russian official in baghdad who asked the u.s. air force to avoid syrian airspace during the mission, u.s. state department spokesman john kirby said.  in moscow, putin said russian air strikes in syria would be limited in scope and that he hoped assad was ready for political reform and a compromise for the sake of his country and people.  \"i know that president assad understands that and is ready for such a process. we hope that he will be active and flexible and ready to compromise in the name of his country and his people,\" he told reporters.  u.s. secretary of state john kerry said washington would have \"grave concerns\" if russia hit syrian targets where islamic state fighters were not present. speaking at the un security council, kerry also said the militant group, which is also known as isil and isis, \"cannot be defeated as long as bashar al-assad remains president of syria.\"  striking homs and opposition groups but not is showed the kremlin\\'s primary aim was to prop up assad, a french diplomatic source said.  areas of the province of homs struck by the russians are controlled by an array of rebel groups including several operating under the banner of the \"free syrian army\", activists, locals and rebels said. none of the sources named islamic state as one of the groups operating in the areas hit on wednesday. assad views all the forces opposing him in the civil war as terrorist groups.  the homs area is crucial to assad\\'s control of western syria. insurgent control of that area would bisect the assad-held west, separating damascus from the coastal cities of latakia and tartous, where russia operates a naval facility.  iyad shamse, leader of an fsa syrian rebel group, the asala and tanmieh front, told reuters: \"there is no islamic state in this area. the russians are applying great pressure on the revolution. this will strengthen terrorism, everyone will head towards extremism. any support for assad in this way is strengthening terrorism.\"  he put the death toll from the russian air strikes at 50 civilians, including children.  according to a pro-syrian government military source, there were \"five strikes against five areas in syria\\'s homs.\" he said other areas may have been bombed too.  proxy war  moscow\\'s intervention means the conflict in syria has been transformed in a few months from a proxy war, in which outside powers were arming and training mostly syrians to fight each other, to an international conflict in which the world\\'s main military powers except china are directly involved in fighting.  that raises the risks of military accidents between outside powers and raises pressure for a diplomatic solution, without making it any easier.  russia joined the united states and its arab allies, turkey, france, iran and israel in direct intervention, with britain expected to join soon, if it gets parliamentary approval.  russian jets went into action after the upper house of the russian parliament gave putin unanimous backing for strikes following a request for military assistance from assad.  in a barely concealed jibe at washington, a spokesman for putin said later the vote meant moscow would be practically the only country in syria to be conducting operations \"on a legitimate basis\" and at the request of \"the legitimate president of syria\".  the last time the russian parliament granted putin the right to use military force abroad, a technical requirement under russian law, moscow seized crimea from ukraine last year.  putin said russia\\'s military involvement in the middle east would involve only its air force and would be temporary. one of the reasons for getting involved was the need to stop russian citizens who had joined the ranks of islamic state from later returning home to cause trouble, he said.  a u.s.-led coalition has already been bombing islamic state in iraq and syria. but putin derided u.s. efforts on monday in a speech at the united nations, suggesting a broader and more co-ordinated coalition was needed to defeat the militants.  \"the military aim of our operations will be exclusively to provide air support to syrian government forces in their struggle against isis (islamic state),\" sergei ivanov, the kremlin\\'s chief-of-staff, said before reports that the strikes had begun.  russia has been steadily dispatching more and more military aircraft to a base in latakia, regarded as an assad stronghold, after the syrian government suffered a series of battlefield reverses.  moscow has already sent military experts to a recently established command centre in baghdad which is co-ordinating air strikes and ground troops in syria, a russian official told reuters.  russia\\'s involvement in syria will be a further challenge for moscow, which is already intervening in ukraine at a time when its own economy is suffering from low oil prices and western sanctions.'}\n",
      "\n",
      " - Index: news_data_custom\n",
      "   ID: 5152f9e9-03be-463a-826f-a82fd5c1f60b\n",
      "   Score: 115.08608\n",
      "   Source: {'id': '5152f9e9-03be-463a-826f-a82fd5c1f60b', 'source': 'Canoe Money', 'published': '2015-09-30T12:49:55Z', 'title': 'RUSSIA BEGINS SYRIA AIR STRIKES AS WAR ENTERS VOLATILE NEW PHASE', 'media-type': 'News', 'content': 'moscow/washington - russia launched air strikes in syria on wednesday in the kremlin\\'s biggest middle east intervention in decades, but moscow\\'s assertion that it had hit islamic state was immediately disputed by the united states and rebels on the ground.  follow @canoe \\r  the air strikes plunged the four-year-old civil war in syria into a volatile new phase as president vladimir putin moved forcefully to assert russian influence in the unstable region.  moscow and washington offered conflicting accounts of which targets had been struck, underlining growing tensions between the two former cold war foes over russia\\'s decision to intervene. washington is concerned that moscow is more interested in propping up syrian president bashar al-assad than in beating islamic state.  the russian defence ministry said the strikes targeted military equipment, communication facilities, arms depots, ammunition and fuel belonging to islamic state.  u.s. officials said targets in the homs area appeared to have been struck, but not areas held by islamic state.  russia warned the united states ahead of the strikes to keep its aircraft out of syrian airspace, but the united states pressed forward with its campaign of air strikes against islamic state forces and said it had targeted islamic state near the syrian city of aleppo.  a u.s. official said moscow gave washington just an hour\\'s notice of its strikes, which the kremlin said were designed to help assad, its closest regional ally, push back islamist militants.  notice of the attack came from a russian official in baghdad who asked the u.s. air force to avoid syrian airspace during the mission, u.s. state department spokesman john kirby said.  in moscow, putin said russian air strikes in syria would be limited in scope and that he hoped assad was ready for political reform and a compromise for the sake of his country and people.  \"i know that president assad understands that and is ready for such a process. we hope that he will be active and flexible and ready to compromise in the name of his country and his people,\" he told reporters.  u.s. secretary of state john kerry said washington would have \"grave concerns\" if russia hit syrian targets where islamic state fighters were not present. speaking at the un security council, kerry also said the militant group, which is also known as isil and isis, \"cannot be defeated as long as bashar al-assad remains president of syria.\"  striking homs and opposition groups but not is showed the kremlin\\'s primary aim was to prop up assad, a french diplomatic source said.  areas of the province of homs struck by the russians are controlled by an array of rebel groups including several operating under the banner of the \"free syrian army\", activists, locals and rebels said. none of the sources named islamic state as one of the groups operating in the areas hit on wednesday. assad views all the forces opposing him in the civil war as terrorist groups.  the homs area is crucial to assad\\'s control of western syria. insurgent control of that area would bisect the assad-held west, separating damascus from the coastal cities of latakia and tartous, where russia operates a naval facility.  iyad shamse, leader of an fsa syrian rebel group, the asala and tanmieh front, told reuters: \"there is no islamic state in this area. the russians are applying great pressure on the revolution. this will strengthen terrorism, everyone will head towards extremism. any support for assad in this way is strengthening terrorism.\"  he put the death toll from the russian air strikes at 50 civilians, including children.  according to a pro-syrian government military source, there were \"five strikes against five areas in syria\\'s homs.\" he said other areas may have been bombed too.  proxy war  moscow\\'s intervention means the conflict in syria has been transformed in a few months from a proxy war, in which outside powers were arming and training mostly syrians to fight each other, to an international conflict in which the world\\'s main military powers except china are directly involved in fighting.  that raises the risks of military accidents between outside powers and raises pressure for a diplomatic solution, without making it any easier.  russia joined the united states and its arab allies, turkey, france, iran and israel in direct intervention, with britain expected to join soon, if it gets parliamentary approval.  russian jets went into action after the upper house of the russian parliament gave putin unanimous backing for strikes following a request for military assistance from assad.  in a barely concealed jibe at washington, a spokesman for putin said later the vote meant moscow would be practically the only country in syria to be conducting operations \"on a legitimate basis\" and at the request of \"the legitimate president of syria\".  the last time the russian parliament granted putin the right to use military force abroad, a technical requirement under russian law, moscow seized crimea from ukraine last year.  putin said russia\\'s military involvement in the middle east would involve only its air force and would be temporary. one of the reasons for getting involved was the need to stop russian citizens who had joined the ranks of islamic state from later returning home to cause trouble, he said.  a u.s.-led coalition has already been bombing islamic state in iraq and syria. but putin derided u.s. efforts on monday in a speech at the united nations, suggesting a broader and more co-ordinated coalition was needed to defeat the militants.  \"the military aim of our operations will be exclusively to provide air support to syrian government forces in their struggle against isis (islamic state),\" sergei ivanov, the kremlin\\'s chief-of-staff, said before reports that the strikes had begun.  russia has been steadily dispatching more and more military aircraft to a base in latakia, regarded as an assad stronghold, after the syrian government suffered a series of battlefield reverses.  moscow has already sent military experts to a recently established command centre in baghdad which is co-ordinating air strikes and ground troops in syria, a russian official told reuters.  russia\\'s involvement in syria will be a further challenge for moscow, which is already intervening in ukraine at a time when its own economy is suffering from low oil prices and western sanctions.'}\n",
      "\n",
      " - Index: news_data_custom\n",
      "   ID: 8f3b39dd-5c95-40e4-be37-7668f5e530f3\n",
      "   Score: 114.474625\n",
      "   Source: {'id': '8f3b39dd-5c95-40e4-be37-7668f5e530f3', 'source': 'International Business Times', 'published': '2015-09-12T20:27:24Z', 'title': 'RUSSIA SAYS INCOMING PLANES DELIVERING AID TO SYRIA, BUT US CONCERNS ABOUT MILITARY INVOLVEMENT HEIGHTENED', 'media-type': 'News', 'content': \"russian military planes filled with humanitarian aid landed in syria on saturday, russia’s defense ministry said, just days after officials from the u.s. and nato warned moscow against furthering its military support of the government of syrian president bashar assad.  russia sent 80 tons\\xa0of supplies to a military base in the coastal city of latakia, according to\\xa0syrian state media. the aid is\\xa0capable of supporting more than 1,000 refugees, ap reports .\\xa0maj. gen. igor konashenkov of russia’s defense ministry said the planes were packed with camp materials such as beds, cooking equipment and food.  the syrian national coalition, \\xa0an organization of opposition forces, criticized the move as a “direct russian military intervention,” ap reports.\\xa0the coalition warned that russia’s action is an attempt to meddle in syrian affairs and represents a creeping occupation of the country.  update russia aid planes land in syria http://t.co/mg839h02av  pic.twitter.com/fnyv6zhsm1  — press tv (@presstv) september 12, 2015  the aid comes as russia also boosts its military presence in syria, in direct conflict with the wishes of assad's adversaries. russia has been a longtime supporter of his administration, while the u.s. has called for assad’s removal.  the russian government has repeatedly sent weapons and soldiers to syria,\\xa0 bbc reports, \\xa0and conducted training exercises with members of the syrian army. between 2009 and 2011, russia’s government provided about 71 percent of the military equipment deployed by syria’s government.\\xa0  on friday, russian foreign minister sergei lavrov said moscow intended to continue these efforts despite opposition from the u.s. and nato, al jazeera reports. he refused to comment on whether russian soldiers were actively fighting in syria.\\xa0  u.s. president barack obama has voiced his concern that russia would continue to grow its support as rebel groups make inroads on government-held territory. following lavrov’s statement friday, he reiterated those concerns and called russia’s strategy of empowering assad through military and humanitarian aid “a big mistake” and “doomed to fail.”\\xa0  assad's administration has repeatedly launched attacks on its own citizens in an effort to stifle opposition and beat back islamist militant groups isis and hezbollah. a continuing\\xa0civil war between these factions has killed at least 240,000 people and caused millions more to flee the country and seek asylum throughout europe.\\xa0\"}\n",
      "\n",
      " - Index: news_data_custom\n",
      "   ID: 18bda8d7-a9cb-4d17-8143-eb32b2e0c81b\n",
      "   Score: 114.07983\n",
      "   Source: {'id': '18bda8d7-a9cb-4d17-8143-eb32b2e0c81b', 'source': 'Indian Strategic Studies', 'published': '2015-09-27T18:40:00Z', 'title': 'NEWLY ARRIVED RUSSIAN WARPLANES BEGIN CONDUCTING AIRSTRIKES AROUND SYRIAN CITY OF ALEPPO', 'media-type': 'Blog', 'content': 'september 25, 2015 syrian army uses new russian jets to strike islamic state: monitor syrian government forces used newly arrived russian warplanes to bombard islamic state insurgents in aleppo province in northern syria, a group monitoring the civil war said on thursday, in an attempt to break a siege on a nearby air base. russia is bolstering its ally damascus against rebels with military aid that u.s. officials say has included fighter jets, helicopter gunships, artillery and ground forces. the air strikes, which began earlier this week, were accompanied by ground attacks near the kweiris air base in the east of aleppo province, where government troops have long been surrounded by islamist militants, the britain-based syrian observatory for human rights said. the russian jets arrived only “recently” in syria but were being flown by syrian pilots, said the observatory, which tracks syria’s conflict via a network of sources on the ground. many western countries have reacted with alarm to moscow’s increased military support for president bashar al-assad, whom they oppose. but the rise of a common enemy, islamic state, has rendered divisions less clear. the united states is waging its own aerial campaign against the militants in syria and iraq. stronger russian involvement in syria means that forces of the former cold war foes could encounter each other as they battle the same enemy. russia says assad, its closest middle east ally, should be part of international efforts to fight islamic state, while the united states believes he is part of the problem. syrian government forces have stepped up air strikes against islamic state in areas it controls since the arrival of fresh russian military hardware, including in raqqa, the jihadist group’s de facto capital in syria. the u.s.-led coalition that is operating out of neighboring turkey has also hit is targets in raqqa. the united states has warned syria not to interfere in its air campaign. a mosque preacher in raqqa spoke on thursday about the russian “intervention”, the observatory said, welcoming it as a chance for is militants to fight against russian forces. russia has confirmed it has “experts” on the ground, but has declined to comment on the exact scale and scope of its military presence in syria. moscow’s increased support also comes after advances against assad’s forces this year by non-islamic state insurgents, including the government’s recent loss of a major air base and last bastion in the northwestern province of idlib.'}\n",
      "\n",
      " - Index: news_data_custom\n",
      "   ID: 9d642231-f040-4848-9b80-077835400a6d\n",
      "   Score: 113.338196\n",
      "   Source: {'id': '9d642231-f040-4848-9b80-077835400a6d', 'source': 'EuroNews', 'published': '2015-09-30T18:07:46Z', 'title': 'RUSSIA BEGINS SYRIA AIR STRIKES AS WAR ENTERS VOLATILE NEW PHASE', 'media-type': 'News', 'content': 'reuters, 30/09 19:33 cet   by andrew osborn and phil stewart  moscow/ washington (reuters) – russia launched air strikes in syria on wednesday in the kremlin’s biggest middle east intervention in decades, but moscow’s assertion that it had hit islamic state was immediately disputed by the united states and rebels on the ground.  the air strikes plunged the four-year-old civil war in syria into a volatile new phase as president vladimir putin moved forcefully to assert russian influence in the unstable region.  moscow and washington offered conflicting accounts of which targets had been struck, underlining growing tensions between the two former cold war foes over russia’s decision to intervene. washington is concerned that moscow is more interested in propping up syrian president bashar al-assad than in beating islamic state.  the russian defence ministry said the strikes targeted military equipment, communication facilities, arms depots, ammunition and fuel belonging to islamic state.  u.s. officials said targets in the homs area appeared to have been struck, but not areas held by islamic state.  russia warned the united states ahead of the strikes to keep its aircraft out of syrian airspace, but the united states pressed forward with its campaign of air strikes against islamic state forces and said it had targeted islamic state near the syrian city of aleppo.  a u.s. official said moscow gave washington just an hour’s notice of its strikes, which the kremlin said were designed to help assad, its closest regional ally, push back islamist militants.  notice of the attack came from a russian official in baghdad who asked the u.s. air force to avoid syrian airspace during the mission, u.s. state department spokesman john kirby said.  in moscow, putin said russian air strikes in syria would be limited in scope and that he hoped assad was ready for political reform and a compromise for the sake of his country and people.  “i know that president assad understands that and is ready for such a process. we hope that he will be active and flexible and ready to compromise in the name of his country and his people,” he told reporters.  u.s. secretary of state john kerry said washington would have “grave concerns” if russia hit syrian targets where islamic state fighters were not present. speaking at the u.n. security council, kerry also said the militant group, which is also known as isil and isis , “cannot be defeated as long as bashar al-assad remains president of syria.”  striking homs and opposition groups but not is showed the kremlin’s primary aim was to prop up assad, a french diplomatic source said.  areas of the province of homs struck by the russians are controlled by an array of rebel groups including several operating under the banner of the “free syrian army”, activists, locals and rebels said. none of the sources named islamic state as one of the groups operating in the areas hit on wednesday. assad views all the forces opposing him in the civil war as terrorist groups.  the homs area is crucial to assad’s control of western syria. insurgent control of that area would bisect the assad-held west, separating damascus from the coastal cities of latakia and tartous, where russia operates a naval facility.  iyad shamse, leader of an fsa syrian rebel group, the asala and tanmieh front, told reuters: “there is no islamic state in this area. the russians are applying great pressure on the revolution. this will strengthen terrorism, everyone will head towards extremism. any support for assad in this way is strengthening terrorism.”  he put the death toll from the russian air strikes at 50 civilians, including children.  according to a pro-syrian government military source, there were “five strikes against five areas in syria’s homs.” he said other areas may have been bombed too.  proxy  war   moscow’s intervention means the conflict in syria has been transformed in a few months from a proxy war, in which outside powers were arming and training mostly syrians to fight each other, to an international conflict in which the world’s main military powers except china are directly involved in fighting.  \\xa0\\xa0\\xa0 that raises the risks of military accidents between outside powers and raises pressure for a diplomatic solution, without making it any easier.  \\xa0\\xa0\\xa0 russia joined the united states and its arab allies, turkey, france, iran and israel in direct intervention, with britain expected to join soon, if it gets parliamentary approval.  russian jets went into action after the upper house of the russian parliament gave putin unanimous backing for strikes following a request for military assistance from assad.  in a barely concealed jibe at washington, a spokesman for putin said later the vote meant moscow would be practically the only country in syria to be conducting operations “on a legitimate basis” and at the request of “the legitimate president of syria”.  the last time the russian parliament granted putin the right to use military force abroad, a technical requirement under russian law, moscow seized crimea from ukraine last year.  putin said russia’s military involvement in the middle east would involve only its air force and would be temporary. one of the reasons for getting involved was the need to stop russian citizens who had joined the ranks of islamic state from later returning home to cause trouble, he said.  a u.s.-led coalition has already been bombing islamic state  in iraq and syria. but putin derided u.s. efforts on monday in a speech at the united nations, suggesting a broader and more coordinated coalition was needed to defeat the militants.  “the military aim of our operations will be exclusively to provide air support to syrian government forces in their struggle against isis (islamic state),” sergei ivanov, the kremlin’s chief-of-staff, said before reports that the strikes had begun.  russia has been steadily dispatching more and more military aircraft to a base in latakia, regarded as an assad stronghold, after the syrian government suffered a series of battlefield reverses.  moscow has already sent military experts to a recently established command centre in baghdad which is coordinating air strikes and ground troops in syria, a russian official told reuters.  russia’s involvement in syria will be a further challenge for moscow, which is already intervening in ukraine at a time when its own economy is suffering from low oil prices and western sanctions.  (additional reporting by lidia kelly, daria korsunskaya, alexander winning, gabriela baczynska, vladimir soldatkin, maria tsvetkova and tom perry and mariam karouny in beirut, sylvia westall, jean-baptiste vey in paris, will dunham in washington; writing by andrew osborn and will dunham; editing by giles elgood and frances kerry)  euronews provides breaking news articles from reuters as a service to its readers, but does not edit the articles it publishes.'}\n",
      "\n",
      " - Index: news_data_custom\n",
      "   ID: 4969c6ec-3fdc-455d-af2f-70330ed29cf9\n",
      "   Score: 112.43882\n",
      "   Source: {'id': '4969c6ec-3fdc-455d-af2f-70330ed29cf9', 'source': 'Fargo Forum', 'published': '2015-09-30T17:49:08Z', 'title': 'MOSCOW, WASHINGTON OFFER CONFLICTING REPORTS ON SYRIAN TARGETS HIT IN AIR STRIKES', 'media-type': 'News', 'content': 'the air strikes plunged the four-year-old civil war in syria into a volatile new phase as president vladimir putin moved forcefully to assert russian influence in the unstable region. moscow and washington offered conflicting accounts of which targets had been struck, underlining growing tensions between the two former cold war foes over russia\\'s decision to intervene. washington is concerned that moscow is more interested in propping up syrian president bashar al-assad than in beating islamic state. the russian defense ministry said the strikes targeted military equipment, communication facilities, arms depots, ammunition and fuel belonging to islamic state. u.s. officials said targets in the homs area appeared to have been struck, but not areas held by islamic state. russia warned the united states ahead of the strikes to keep its aircraft out of syrian airspace, but the united states pressed forward with its campaign of air strikes against islamic state forces and said it had targeted islamic state near the syrian city of aleppo. a u.s. official said moscow gave washington just an hour\\'s notice of its strikes, which the kremlin said were designed to help assad, its closest regional ally, push back islamist militants. notice of the attack came from a russian official in baghdad who asked the u.s. air force to avoid syrian airspace during the mission, u.s. state department spokesman john kirby said. in moscow, putin said russian air strikes in syria would be limited in scope and that he hoped assad was ready for political reform and a compromise for the sake of his country and people. \"i know that president assad understands that and is ready for such a process. we hope that he will be active and flexible and ready to compromise in the name of his country and his people,\" he told reporters. u.s. secretary of state john kerry said washington would have \"grave concerns\" if russia hit syrian targets where islamic state fighters were not present. speaking at the u.n. security council, kerry also said the militant group, which is also known as isil and isis, \"cannot be defeated as long as bashar al-assad remains president of syria.\" striking homs and opposition groups but not is showed the kremlin\\'s primary aim was to prop up assad, a french diplomatic source said. areas of the province of homs struck by the russians are controlled by an array of rebel groups including several operating under the banner of the \"free syrian army\", activists, locals and rebels said. none of the sources named islamic state as one of the groups operating in the areas hit on wednesday. assad views all the forces opposing him in the civil war as terrorist groups. the homs area is crucial to assad\\'s control of western syria. insurgent control of that area would bisect the assad-held west, separating damascus from the coastal cities of latakia and tartous, where russia operates a naval facility. iyad shamse, leader of an fsa syrian rebel group, the asala and tanmieh front, told reuters: \"there is no islamic state in this area. the russians are applying great pressure on the revolution. this will strengthen terrorism, everyone will head toward extremism. any support for assad in this way is strengthening terrorism.\" he put the death toll from the russian air strikes at 50 civilians, including children. according to a pro-syrian government military source, there were \"five strikes against five areas in syria’s homs.” he said other areas may have been bombed too. proxy war moscow’s intervention means the conflict in syria has been transformed in a few months from a proxy war, in which outside powers were arming and training mostly syrians to fight each other, to an international conflict in which the world’s main military powers except china are directly involved in fighting. that raises the risks of military accidents between outside powers and raises pressure for a diplomatic solution, without making it any easier. russia joined the united states and its arab allies, turkey, france, iran and israel in direct intervention, with britain expected to join soon, if it gets parliamentary approval. russian jets went into action after the upper house of the russian parliament gave putin unanimous backing for strikes following a request for military assistance from assad. in a barely concealed jibe at washington, a spokesman for putin said later the vote meant moscow would be practically the only country in syria to be conducting operations \"on a legitimate basis\" and at the request of \"the legitimate president of syria\". the last time the russian parliament granted putin the right to use military force abroad, a technical requirement under russian law, moscow seized crimea from ukraine last year. putin said russia\\'s military involvement in the middle east would involve only its air force and would be temporary. one of the reasons for getting involved was the need to stop russian citizens who had joined the ranks of islamic state from later returning home to cause trouble, he said. a u.s.-led coalition has already been bombing islamic state in iraq and syria. but putin derided u.s. efforts on monday in a speech at the united nations, suggesting a broader and more coordinated coalition was needed to defeat the militants. \"the military aim of our operations will be exclusively to provide air support to syrian government forces in their struggle against isis (islamic state),\" sergei ivanov, the kremlin\\'s chief-of-staff, said before reports that the strikes had begun. russia has been steadily dispatching more and more military aircraft to a base in latakia, regarded as an assad stronghold, after the syrian government suffered a series of battlefield reverses. moscow has already sent military experts to a recently established command center in baghdad which is coordinating air strikes and ground troops in syria, a russian official told reuters. russia\\'s involvement in syria will be a further challenge for moscow, which is already intervening in ukraine at a time when its own economy is suffering from low oil prices and western sanctions.'}\n",
      "\n",
      " - Index: news_data_custom\n",
      "   ID: 5390519b-73f0-423d-bc80-826b2f7d678d\n",
      "   Score: 110.27671\n",
      "   Source: {'id': '5390519b-73f0-423d-bc80-826b2f7d678d', 'source': 'MyInforms', 'published': '2015-09-24T22:25:12Z', 'title': 'SYRIAN ARMY HITS ISLAMIC STATE GROUP TARGETS WITH NEW RUSSIAN JETS', 'media-type': 'News', 'content': \"the syrian government, which has lost ground to insurgents in the syrian civil war recently, renewed its assault on the islamic state group in aleppo province thursday using newly arrived russian jets, according to an independent monitoring group. russia recently supplied the beleaguered syrian regime with military equipment such as helicopter gunships, fighter jets, artillery and ground… \\r the syrian government, which has lost ground to insurgents in the syrian civil war recently, renewed its assault on the islamic state group in aleppo province thursday using newly arrived russian jets, according to an independent monitoring group. russia recently supplied the beleaguered syrian regime with military equipment such as helicopter gunships, fighter jets, artillery and ground forces. the fresh airstrikes, which began earlier this week, preceded ground assaults near the kweiris air base east of aleppo, where syrian president bashar assad's troops had previously been outnumbered and outgunned by isis, according to britain's syrian observatory for human rights. “it’s unknown whether the pilots of the warplanes which arrived from russia are russian or syrian pilots,” noted a report from the syrian observatory. russian military expenditure over time | findthedata moscow’s increased involvement in the syrian civil war has worried the u.s. and other western nations, who believe russia’s involvement could further destabilize the conflict and possibly lead to a clash between the u.s. and russian militaries. russia has been delivering humanitarian and military aid to syria for over three weeks, while the u.s. has led a bombing coalition against isis for more than a year. moscow claims that syria is a russian ally and that the authoritarian assad regime should be included in efforts to fight isis. the coalition bombing group, which contains a load of european …\"}\n",
      "\n",
      " - Index: news_data_custom\n",
      "   ID: 80659b81-3b92-464a-9505-1b83f0820267\n",
      "   Score: 109.44293\n",
      "   Source: {'id': '80659b81-3b92-464a-9505-1b83f0820267', 'source': 'Reuters', 'published': '2015-09-10T09:14:30Z', 'title': 'RUSSIA JOINS SYRIAN COMBAT', 'media-type': 'News', 'content': 'russian forces have begun participating in military operations in syria in support of government troops, three lebanese sources familiar with the political and military situation there said on wednesday. the sources, speaking to reuters on condition they not be identified, gave the most forthright account yet from the region of what the united states fears is a deepening russian military role in syria\\'s civil war, though one of the lebanese sources said the number of russians involved so far was small. u.s. officials said russia sent two tank landing ships and additional cargo aircraft to syria in the past day or so and deployed a small number of naval infantry forces. the u.s. officials, who also spoke on condition of anonymity, said the intent of russia\\'s military moves in syria was unclear. one suggested the focus may be on preparing an airfield near the port city of latakia, a stronghold of syrian president bashar al-assad. u.s. officials have not ruled out the possibility that russia may want to use the airfield for air combat missions. u.s. secretary of state john kerry spoke to his russian counterpart for the second time in four days to express concern over reports of russian military activities in syria, warning that it could fan more violence. the white house said it was closely monitoring the situation. russia says the syrian government must be incorporated into a shared global fight against islamic state, the islamist group that has taken over large parts of syria and iraq. the united states and assad\\'s regional foes see him as part of the problem. \"we would welcome constructive russian contributions to the counter-isil effort, but we\\'ve been clear that it would be unconscionable for any party, including the russians, to provide any support to the assad regime,\" white house spokesman eric schultz said, using an acronym for islamic state. syrian troops pulling back assad\\'s forces have faced big setbacks on the battlefield in a four-year-old multi-sided civil war that has killed 250,000 people and driven half of syria\\'s 23 million people from their homes. syrian troops pulled out of a major air base last wednesday, and a monitoring group said this meant government soldiers were no longer present at all in idlib province, most of which slipped from government control earlier this year. moscow confirmed it had \"experts\" on the ground in syria, its long-time ally in the middle east.  but russia has declined to comment on the scale and scope of its military presence. damascus denied russians were involved in combat, but a syrian official said the presence of experts had increased in the past year. reflecting western concern, germany\\'s foreign minister warned russia against increased military intervention, saying the iran nuclear deal and new u.n. initiatives offered a starting point for a political solution to the conflict. nato secretary general jens stoltenberg said reports of growing russian military activity in syria were a cause for concern, while france said it made finding a political solution to the crisis more complicated. two of the lebanese sources said the russians were establishing two bases in syria, one near the coast and one further inland which would be an operations base. \"the russians are no longer just advisors,\" one of the sources said. \"the russians have decided to join the war against terrorism.\" russian naval base  moscow\\'s only naval base in the mediterranean is at tartous on the syrian coast in territory held by assad, and keeping it secure would be an important strategic objective for the kremlin. another of the lebanese sources said that so far any russian combat role was still small: \"they have started in small numbers, but the bigger force did not yet take part ... there are numbers of russians taking part in syria but they did not yet join the fight against terrorism strongly.\" the syrian official said: \"russian experts are always present but in the last year they have been present to a greater degree.\" officials in the united states, which is fighting an air war against the islamist militant group islamic state in syria and also opposes assad\\'s government, have said in recent days that they suspect russia is reinforcing to aid assad. washington has put pressure on countries nearby to deny their air space to russian flights, a move moscow denounced on wednesday as \"international boorishness\". russia has set out the case for supporting assad in the most forthright terms yet in the past few days, likening the western approach to syria to failures in iraq and libya. part of the diplomatic quarrel has centered around use of air space for flights, which moscow says bring humanitarian aid but u.s. officials say may be bringing military supplies.  u.s. officials, speaking on condition of anonymity, told reuters on wednesday that multiple russian flights have passed over the airspace of iran and iraq to reach syria. russian overflights the state department said russian use of iranian airspace would not be surprising, given tehran\\'s past support for assad. spokesman john kirby said the united states had advised \"partners and our friends to ask the russians tough questions about\" overflight requests. he did not elaborate, saying only: \"i’m not gonna detail diplomatic conversations.\" to avoid flying over turkey, one of assad\\'s main enemies, russia has sought to fly planes over balkan states, but washington has urged them to deny moscow permission. on tuesday, bulgaria refused a russian request to use its airspace citing doubts about the cargo on board. it said on wednesday it would allow russian supply flights to syria to use its airspace only if moscow agreed to checks of their cargo at a bulgarian airport. turkey has not officially confirmed a ban on russian flights to syria but says it considers any requests to fly over its air space to syria on a case by case basis. thus far in the war, iran and its lebanese ally hezbollah have been assad\\'s main sources of military support. the momentum turned against assad earlier this year. in the latest setback, state television reported government troops had surrendered an air base in northwestern syria to a rebel alliance after nearly two years under siege. this meant the last government troops had withdrawn from central idlib province, according to the syrian observatory for human rights, a uk-based group that monitors the conflict. (additional reporting by suleiman al-khalidi in amman; mark hosenball and lesley wroughton in washington; writing by tom perry, sylvia westall , peter graff and phil stewart; editing by giles elgood , david storey , grant mccool )'}\n",
      "\n",
      " - Index: news_data_custom\n",
      "   ID: 8f6a9e6a-e992-4c97-808c-c4bdfcc21c12\n",
      "   Score: 108.93301\n",
      "   Source: {'id': '8f6a9e6a-e992-4c97-808c-c4bdfcc21c12', 'source': 'New Indian Express', 'published': '2015-09-22T02:35:14Z', 'title': 'RUSSIA SENDS WAR PLANES AS IT BUILDS UP MILITARY AID TO ASSAD', 'media-type': 'News', 'content': 'moscow: russia has begun its first military operations in syria by sending in 28 war planes as it becomes more deeply involved in the conflict, according to american officials. the officials said 12 fighter jets and 12 close support aircraft had arrived in recent days at a syrian air base in latakia, where four jets were stationed last week. russian drones have also started surveillance flights, the americans said. yesterday (monday) novaya gazeta, an independent russian newspaper, reported that moscow might launch \"demonstrative\" strikes in support of bashar al-assad\\'s embattled syrian government in the coming days, before president vladimir putin is due to speak to the un general assembly next week. the apparent increase in the flow of russian arms and personnel to syria has prompted speculation that the kremlin may be preparing for direct military intervention on assad\\'s side. russian military officials have confirmed that they are expanding and modernising a naval base at tartous and an airbase in nearby latakia, but have denied plans to intervene directly in the war. novaya gazeta quoted an unnamed senior military source saying russia was considering a limited operation that confirms the \"seriousness\" of its intentions. the source said the idea was to carry out a small but highly visible operation, possibly involving air or artillery strikes against isil. alexander golts, an independent russian military analyst, said such an operation, which would not put ground troops at risk, would be \"the most rational approach\" if the kremlin was determined to use its military build-up in syria to score diplomatic points. but he said that a grand international coalition envisaged by mr putin would be almost impossible to put together because of disagreements about whether assad is a legitimate leader of syria. \"all russian policy in syria is very clearly directed at overcoming international isolation because of ukraine,\" mr golts said. \"the idea is to prevent a repetition of the g20 summit in australia in 2014, when mr putin found himself completely alone.\" mr putin defended the military build-up in a meeting about syria with benjamin netanyahu, the israeli prime minister, in moscow. mr putin said russia\\'s actions in the middle east \"have been and always will be very responsible\". he also insisted there was no threat to israel from the russia-syria alliance. meanwhile, the russian foreign ministry called for international action after a mortar shell hit the russian embassy in damascus.'}\n",
      "\n"
     ]
    }
   ],
   "execution_count": 46
  },
  {
   "metadata": {
    "ExecuteTime": {
     "end_time": "2024-06-24T18:07:47.360297Z",
     "start_time": "2024-06-24T18:07:47.187584Z"
    }
   },
   "cell_type": "code",
   "source": [
    "# 4th Search Query: Terror Attacks in Paris\n",
    "paris_terror_attacks_result = search_index(query_four, \"news_data_custom\")\n",
    "print_response(paris_terror_attacks_result)"
   ],
   "id": "4d6ab10941c7506d",
   "outputs": [
    {
     "name": "stdout",
     "output_type": "stream",
     "text": [
      "Search Metadata:\n",
      " - Took: 148 ms\n",
      " - Timed Out: False\n",
      " - Shards: Total - 1, Successful - 1, Skipped - 0, Failed - 0\n",
      " - Hits: Total - 10000 (Relation: gte)\n",
      " - Max Score: 66.50238\n",
      "\n",
      "Hits:\n",
      " - Index: news_data_custom\n",
      "   ID: 0d025613-a36f-40c6-8fff-6548705c6f8a\n",
      "   Score: 66.50238\n",
      "   Source: {'id': '0d025613-a36f-40c6-8fff-6548705c6f8a', 'source': 'Woolwich  Online', 'published': '2015-09-21T11:26:44Z', 'title': 'BOKO HARAM: MORE BOMB EXPLOSIONS IN MAIDUGURI NIGERIA IS A SIGN OF DESPERATION, SAY ARMY.', 'media-type': 'Blog', 'content': \"by vanguard news | nigeria new multiple explosions ripped through nigeria's north eastern city of maiduguri in borno state on sunday, in what was described as the latest act of desperation by boko haram. there has been warning of possible high casualties. it comes days after a suicide-bomber killed 5 in northern cameroon and just within a week after president muhammadu buhari revealed to the nigerian community in paris that he declined an offer by the terror group to exchange school girls kidnapped in april 2014 from their hostel in chibok for one member of the group with expert ied-making experience. according to the a spokesman of the national emergency management agency (nema), ibrahim abdulkadir, sunday's blasts happened shortly after 7:20 pm on sunday, in the gomari and ajilari areas of maiduguri. in a report credited to afp, abdulkadir said: “our team responded promptly by evacuating bodies of victims to the mortuaries and those injured to the hospitals for treatment,” adding “the casualty is high. one of the explosives was planted in a mosque where people were praying.” he gave no details on possible casualties bu warned that casualties may be huge. according to media reports, nigeria’s military confirmed three bombs went off in the city but also did not give any casualty figures. “although details are not clear, it is important to note the attacks signify high level of desperation on the part of the boko haram terrorists,” said army spokesman sani usman.\"}\n",
      "\n",
      " - Index: news_data_custom\n",
      "   ID: dece581e-7f4d-4494-b24a-a8879ef4402c\n",
      "   Score: 65.14121\n",
      "   Source: {'id': 'dece581e-7f4d-4494-b24a-a8879ef4402c', 'source': 'KCRA.com', 'published': '2015-09-11T19:04:04Z', 'title': 'WATCH LIVE: 3 MEN HONORED IN SACRAMENTO HOMETOWN HEROES PARADE', 'media-type': 'News', 'content': 'thousands of people turned out on sacramento\\'s capitol mall to honor three men credited with thwarting a suspected terror attack on a paris-bound train (sept. 11, 2015) thousands of people turned out on sacramento\\'s capitol mall to honor three men credited with thwarting a suspected terror attack on a paris-bound train (sept. 11, 2015) the and festivities will kick off at noon friday on capitol mall to honor sacramento heroes anthony sadler, alek skarlatos and spencer stone. the parade for sadler, skarlatos and stone -- the three men hailed as heroes for helping stop a terrorist plot on aug. 21 aboard a paris-bound train -- will begin on third street and finish with a celebration on the west steps of the state capitol. from appearances on late night tv with jimmy fallon to becoming a competitor on \"dancing with the stars\" to meeting french president francois hollande and receiving france\\'s legion of honor, the trio will now get a chance to bask in the local limelight together -- with a hometown crowd cheering them on. in addition to recognizing the men, who have received international accolades for their bravery and swift action, there will also be a special commemoration for the victims of the sept. 11 attacks and the dedicated service personnel who responded to the terrorist attack. tenth street will be closed to all traffic between n and l streets from 10 a.m. to 3 p.m., and capitol mall will be closed from 11:50 a.m. until 12:50 p.m.parking restrictions will be in place all day on tenth street between n and l streets, and between 6 a.m. and 3 p.m. for ninth street between n and l streets, in addition to areas around crocker park.the city of sacramento and organizers will use #sacheroesparade on social media for the event.mayor kevin johnson\\'s office, the governor\\'s office, california legislature, united states air force and the national guard worked together on the parade details.kcra 3 will carry the parade live during the noon newscast and on kcra.com and the kcra mobile app.'}\n",
      "\n",
      " - Index: news_data_custom\n",
      "   ID: f854bf80-6b2c-4b7f-9b19-bcacb7b41be2\n",
      "   Score: 63.752472\n",
      "   Source: {'id': 'f854bf80-6b2c-4b7f-9b19-bcacb7b41be2', 'source': 'Sham Country', 'published': '2015-09-26T19:48:29Z', 'title': '2 SURVIVORS OF CHARLIE HEBDO TERROR TO LEAVE SATIRICAL PAPER', 'media-type': 'Blog', 'content': 'paris (ap) — two journalists are leaving charlie hebdo, the satirical french newspaper whose staff was decimated in a january terror massacre.'}\n",
      "\n",
      " - Index: news_data_custom\n",
      "   ID: b1c51a45-0707-435b-aca6-4a90756aa375\n",
      "   Score: 61.69844\n",
      "   Source: {'id': 'b1c51a45-0707-435b-aca6-4a90756aa375', 'source': 'Free Republic', 'published': '2015-09-04T23:49:09Z', 'title': 'ISIS IN YOUR BACKYARD', 'media-type': 'Blog', 'content': 'isis in your backyardchattanooga. paris. garland, texas. copenhagen. new york city. ottawa. moore, oklahoma. what do these wildly diverse places have in common? they\\x92re all western cities that have suffered terror attacks at the hands of isis supporters in the past year. since the start of 2015 alone we have had dozens of american citizens arrested for plotting terror and supporting isis (this list from late may has already increased substantially). practically every week comes a new round of homegrown jihadists arrested or some new plot broken up\\x97or not broken up, as we saw most recently in chattanooga. now,...'}\n",
      "\n",
      " - Index: news_data_custom\n",
      "   ID: 61f6b2ed-1b19-41a7-a642-fdd0330411fe\n",
      "   Score: 59.805763\n",
      "   Source: {'id': '61f6b2ed-1b19-41a7-a642-fdd0330411fe', 'source': 'Daily Star', 'published': '2015-09-20T12:45:00Z', 'title': \"EIFFEL TOWER PLACED IN LOCKDOWN AS 'TERROR SUSPECT' SEEN SCALING IT WITH LARGE RUCKSACK\", 'media-type': 'News', 'content': 'a terror alert in paris prompted authorities to shut the eiffel tower.     \\r getty \\r \\r alert: the eiffel tower was evacuated this morning after reports \\r a man thought to be a terror suspect was seen climbing the iconic tourist attraction an hour before it was due to open this morning. reports were made of a man with a \"large rucksack\" at about 9am today.\\xa0 waiting queues of visitors were denied entry as police searched the tower, having moved tourists to the banks of the river seine after forming a cordon.\\xa0 sources in france say police found no explosives after a search, aided by a circling helicopter.\\xa0 guards at the tower spied three people with backpacks and harnesses at about 5.30am this morning, according to le figaro.\\xa0 it is understood the men fled the scene, probably by parachute. the source said: \"it is highly likely the suspects fled early this morning, by jumping off with parachutes or hand gliding before the guards arrived.\" \\r getty \\r \\r alert: authorities closed the eiffel tower this morning \\r \\r it seems likely that the intruders were thrill-seekers wanting to jump off the famous landmark, but officials did not want to take any risks as the tourist destination has been continually threatened by terror groups. the intruders were seen on cctv by guards at around 5.30am. many holidaymakers are still waiting for the popular tourist site to reopen, but it is unclear when it will. the tower has frequently been threatened by terrorist groups, including al-qaeda and isis, with security stepped up since the charlie hebdo attacks in paris in january. in 2005, a norwegian parachutist died while attempting to jump off the tower. the 1,050ft tall iron lattice tower was built for the 1889 world\\'s fair, and is the most visited paid-for monument in the world, with seven million people a year going up it.'}\n",
      "\n",
      " - Index: news_data_custom\n",
      "   ID: 66518789-4416-4551-b760-b1c29877d9d3\n",
      "   Score: 59.629276\n",
      "   Source: {'id': '66518789-4416-4551-b760-b1c29877d9d3', 'source': 'Saudi Gazette', 'published': '2015-09-07T21:00:00Z', 'title': 'FRANCE SENDING FLIGHTS OVER SYRIA AGAINST DAESH', 'media-type': 'News', 'content': 'paris — france’s president says the country will send reconnaissance planes over syria beginning tuesday to help in the fight against the daesh group. president francois hollande says terror attacks have been planned from syria against several countries, including france. he said his responsibility is to be better informed about the threats, and he ruled out ground operations. hollande spoke monday in a wide-ranging news conference. he said coping with the flow of refugees also requires addressing the problem of terrorism and the reconnaissance flights will help inform air strikes against the daesh group. — ap'}\n",
      "\n",
      " - Index: news_data_custom\n",
      "   ID: c044631b-7ede-489f-ae75-a9f52043ae77\n",
      "   Score: 57.51946\n",
      "   Source: {'id': 'c044631b-7ede-489f-ae75-a9f52043ae77', 'source': 'KYTX CBS 19', 'published': '2015-09-22T13:57:00Z', 'title': 'DPS TROOPER INVOLVED SHOOTING IN PARIS LEAVES ONE PERSON DEAD', 'media-type': 'News', 'content': 'paris ( kytx) – dps has confirmed that one person is dead in an officer-involved shooting monday night in downtown paris.at approximately 7:30 pm monday, a highway patrol trooper saw a white male sitting on the concrete barrier in the center of u.s. 82 near the paris regional medical center. the trooper approached the individual near the hospital parking lot to check on his welfare.according to the preliminary investigation, the suspect became belligerent and an altercation ensued. the trooper used his taser which had no effect on the individual. the trooper was injured during the confrontation to the point that he feared for his life. the trooper discharged his weapon, the suspect died at the scene.the trooper was taken to the paris regional medical center where he was treated for a dislocated shoulder.the incident is currently under investigation by the texas rangers.'}\n",
      "\n",
      " - Index: news_data_custom\n",
      "   ID: 7c222de6-fdc0-42c3-9b51-95c168693c7c\n",
      "   Score: 57.13598\n",
      "   Source: {'id': '7c222de6-fdc0-42c3-9b51-95c168693c7c', 'source': 'Monterey Herald', 'published': '2015-09-11T18:19:35Z', 'title': 'NOTABLE COMMEMORATIONS MARKING 14 YEARS SINCE 9/11 ATTACKS', 'media-type': 'News', 'content': 'americans marked the 14th anniversary of the sept. 11 attacks in countless ceremonies, small and large, on friday. governors ordered flags flown at half-staff. military commanders laid wreaths and servicemen fired 21-gun salutes. here is a look at some notable commemorations:   shanksville, pennsylvania   hundreds of people, including homeland security secretary jeh johnson, gathered at the memorial park in western pennsylvania where united airlines flight 93 was brought down by hijackers. this year\\'s ceremony took place outside a new $26 million visitor center honoring the slain passengers and crew. it was dedicated tuesday.   ___  \\r\\r   washington   president barack obama and first lady michelle obama observed a moment of silence at 8:46 a.m. with hundreds of white house employees and administration staff. a bugler played taps. across the potomac river, defense secretary ash carter attended a wreath ceremony at the pentagon where 184 people died.   ___   sacramento, california   a parade was held in california\\'s capital city to remember victims of the sept. 11 terror attacks and to celebrate three hometown heroes who foiled a gunman\\'s attack on a high-speed passenger train while they vacationed in europe. the streets were awash with american flags and many people held signs reading \"sacramento proud\" and thanking the men for their courage. college student anthony sadler, oregon national guard spc. alek skarlatos and u.s. airman spencer stone tackled a gunman on a french train heading from belgium to paris three weeks ago.   ___   boston   a wreath was laid at the 9/11 memorial in boston\\'s public garden and the names of 200 attack victims with ties to massachusetts were read during a ceremony inside the state capitol building. officials presented a civilian bravery award named for madeline amy sweeney, a flight attendant aboard hijacked american airlines flight 11, to a livery driver who grabbed a gun from a kidnapping suspect.   ___   the persian gulf   sailors aboard the u.s.s. theodore roosevelt tossed a wreath into the persian gulf and fired a rifle salute to commemorate the attacks.   ___   ann arbor, michigan   students at the university of michigan placed 2,977 small american flags in a grassy mall on campus, each representing a victim of the terror attacks. in benton harbor, michigan, a 500-pound steel beam from the world trade center was put on display.   ___   columbus, ohio   a field of nearly 3,000 flags was on display at the ohio statehouse, this one arranged in the shape of the world trade center towers, the pentagon and a strip representing the flight 93 crash site.   ___   morrison, colorado   more than 1,000 firefighters and other supporters, many in full bunker gear and carrying hoses, climbed the steps of the red rocks amphitheatre outside denver to honor firefighters killed on 9/11. each participant carried a card with the name of a firefighter who died. the trek up and down the steps of the concert venue is the equivalent of climbing 110 stories.'}\n",
      "\n",
      " - Index: news_data_custom\n",
      "   ID: 42ff7149-a2d6-4a88-b07a-469de0220c21\n",
      "   Score: 55.386627\n",
      "   Source: {'id': '42ff7149-a2d6-4a88-b07a-469de0220c21', 'source': 'Israel National News', 'published': '2015-09-17T22:38:30Z', 'title': 'TWO PEOPLE CRITICALLY INJURED IN FIRE IN GAN YAVNE', 'media-type': 'News', 'content': 'man and woman in their 60s injured in a fire believed to have been caused by a gas canister that exploded. a man and woman in their 60s were critically injured on thursday night in a fire that broke out their house in gan yavne. authorities believe the fire broke out as a result of the explosion of a gas canister at the home. the couple are suffering from second and third degree burns to 70% of their bodies. another man in his 40s was moderately injured in the fire, suffering burns to his hands as well as from smoke inhalation. magen david adom paramedics who were called to the scene evacuated the three victims the intensive care unit at the tel hashomer hospital. another man, in his 60s, who was lightly injured by smoke inhalation was treated at the scene. gas canister explosions have made headlines in israel several times over the past few years. in may, four people were injured in a gas explosion in a private home on silwan blvd. near the dung gate in jerusalem. in january of 2014, a horrific explosion in the southern jerusalem neighborhood of gilo killed four, including a couple and their infant son, as well as a 60-year-old woman who was the primary caretaker of her aged holocaust-survivor parents. gas lines were cut in a terror attempt in march of 2014, in the armon hanatziv neighborhood of eastern jerusalem. that incident was discovered to be a terror attack; terrorist aziz awisat was indicted for planning the incident, as well as several other attacks on israelis. tags: fire fightinggan yavnegas explosion'}\n",
      "\n",
      " - Index: news_data_custom\n",
      "   ID: 675e387c-15c6-4f84-95aa-cc0014a7b5da\n",
      "   Score: 54.297157\n",
      "   Source: {'id': '675e387c-15c6-4f84-95aa-cc0014a7b5da', 'source': 'KPNews.com', 'published': '2015-09-10T18:59:07Z', 'title': 'NO SURRENDER', 'media-type': 'News', 'content': 'french president francois hollande might as well build a replica of the armistice railway carriage in which france surrendered to germany in 1940 to hold meetings in when ukrainian president petro poroshenko visits paris on oct. 2 along with russian president vladimir putin and german chancellor angela merkel. as soon as official kyiv started reporting that fighting in eastern ukraine had eased to its lowest levels since russia’s war started 18 months ago, hollande decided to invite his three counterparts to paris to discuss the minsk truce. noting that the ceasefire has “almost been respected” in the donbas, hollande said: “i will ask for sanctions to be lifted” against russia once local elections and decentralization reform is complete in ukraine, the bbc reported on sept. 7. despite ukrainian military reports that enemy attacks have dropped to single-digit incidents over the past two weeks, international monitors on the ground are witnessing the opposite. for example, a recent organization for security and cooperation in europe report stated that its monitors heard or saw 247 explosions and 15 separate shots fired on sept. 8 in eastern ukraine, classifying them as “ceasefire violations.” on the ground, reuters on sept. 9 reported witnessing a new military base being built near the russian city of belgorod, close to the border of ukraine’s kharkiv oblast. the huge base will house ammunition depots and barracks for several thousand soldiers. the project suggests that the “kremlin is digging in for a prolonged standoff with kyiv,” the news agency reported. the news came a day after the un said that the war’s death toll has approached 8,000, a figure that the international institution cautions is “conservative.” russia continues to violate ukraine’s borders by sending convoys of vehicles that kyiv says contains weapons and supplies for the russian-separatist forces. thirty-six illegal convoys have been sent across ukraine’s borders since august 2014, the latest one on aug. 27, by the osce’s count. thus, we see no evidence of russia’s willingness to comply with the truce deal. it has yet to start removing its soldiers and weapons from ukraine’s territory and it hasn’t stopped building fortifications and other engineering obstacles near the front line. let’s not forget why the west imposed sanctions on russia in the first place: for annexing crimea in march 2014. we would like to remind hollande that until russia starts to match actions with words, there should be no talk of removing the restrictive measures. otherwise, he’d be surrendering – and persuading poroshenko to as well – to putin, in a war in which france isn’t even a party.'}\n",
      "\n"
     ]
    }
   ],
   "execution_count": 47
  },
  {
   "metadata": {
    "ExecuteTime": {
     "end_time": "2024-06-24T18:07:47.470308Z",
     "start_time": "2024-06-24T18:07:47.360297Z"
    }
   },
   "cell_type": "code",
   "source": [
    "# 5th Search Query: Earthquake in Nepal\n",
    "nepal_earthquake_result = search_index(query_five, \"news_data_custom\")\n",
    "print_response(nepal_earthquake_result)"
   ],
   "id": "46852c655e1475ec",
   "outputs": [
    {
     "name": "stdout",
     "output_type": "stream",
     "text": [
      "Search Metadata:\n",
      " - Took: 84 ms\n",
      " - Timed Out: False\n",
      " - Shards: Total - 1, Successful - 1, Skipped - 0, Failed - 0\n",
      " - Hits: Total - 10000 (Relation: gte)\n",
      " - Max Score: 173.55121\n",
      "\n",
      "Hits:\n",
      " - Index: news_data_custom\n",
      "   ID: 4eb2ef55-0bd6-47d4-b2b3-94f72177a526\n",
      "   Score: 173.55121\n",
      "   Source: {'id': '4eb2ef55-0bd6-47d4-b2b3-94f72177a526', 'source': 'Kathmandu Post', 'published': '2015-09-25T13:27:59Z', 'title': '[INFOGRAPHIC] HOW MUCH DOES NEPAL NEED FOR RECONSTRUCTION?', 'media-type': 'News', 'content': 'last week the international community called for finalisation of reconstruction bill immediately so that the work on reconstruction can begin.\\xa0 so what are the needs according to sectors?\\xa0 according to the post disaster a post disaster needs assessment (pdna) report reveals. nepal has faced cumulative losses worth rs700 billion ($7 billion) due to the april 25 earthquake and its aftershocks. the economic losses were estimated at rs187.08 billion. the loss means the impact on the economy due to the slowdown in economic activities in the aftermath of the earthquake. the report also states that \\xa0nepal will need a little less in resources than total losses for the post-quake rebuilding process. according to the report, rs666.3 billion ($6.66b) will be required in the rebuilding and new building process. some sectors such as industry and commerce also have portions of personal losses which are expected to be borne by individuals. these are also not included in the needs assessment, according to dangal. at rs350.37 billion, housing and human settlement faced the highest amount of losses, which is almost half the total losses caused by the quake.\\xa0according to the home ministry, the jolts destroyed 510,762 private homes and damaged 291,707 homes partially. rebuilding of the damages houses and resettlement will require a total of rs327.76 billion.'}\n",
      "\n",
      " - Index: news_data_custom\n",
      "   ID: 4cfc5589-0bce-425b-b9f0-1ffe5071a747\n",
      "   Score: 169.91922\n",
      "   Source: {'id': '4cfc5589-0bce-425b-b9f0-1ffe5071a747', 'source': 'Great Falls Tribune', 'published': '2015-09-16T04:02:57Z', 'title': 'GREAT FALLS NATIVE TRAVELS TO NEPAL TO CLIMB AND HELP', 'media-type': 'News', 'content': 'great falls native ryan hollow summitted nepal’s 23,375-foot himlung himal in november 2012. he’s returning to nepal for another climbing expedition and to help with earthquake relief. (photo: courtesy photo) when ryan hollow visited nepal in 2012, he was struck by how much the friendliness of the locals reminded him of the culture in montana’s small mountain towns. “everyone you meet stops and says hello,” said hollow, who grew in great falls. “i’ve felt that same kind of camaraderie and kinship in east glacier and red lodge.” hollow was devastated by the news of the earthquake that hit nepal in april, killing more than 9,000 people. “i can’t even describe the feeling,” hollow said of hearing about the quake. “just the scale of it.” hollow wanted to give money to the relief cause but had a hard time finding an organization to which he felt confident donating. so instead, hollow decided to organize a trip to nepal and bring his donation in person. even before the earthquake, hollow knew he wanted to return to nepal. however, the natural disaster inspired him to plan more than just a climbing trip. “we just had such good support, such good generosity when we were there,” hollow said. “we wanted to do something more.” in october, hollow will return to nepal with two friends from east glacier, one from big sky and his girlfriend, who lives in choteau. they’ll be climbing ama dablam, a 22,349-foot-tall mountain in the himalaya region of eastern nepal. along the way, at each village, the climbers will stop and distribute jackets, hats and gloves to children. black diamond has agreed to sell the items at cost to the climbers. the group started a crowdsourcing fundraising campaign to raise money to buy the winter clothing. “himalayan winter is setting in, villagers are battling food and clean water shortages and are without adequate permanent homes and shelter,” hollow explains on the indiegogo fundraising website. “throughout the khumbu the rebuilding process is underway, it will be a long hard road, and basic survival items are in dire need for the people of nepal.” a young boy tries on ryan hollow’s backpack during his last trip to nepal in 2012. \\xa0 (photo: photo courtesy of ryan hollow) the campaign was launched about a week ago and with $900 already raised, the group is more than halfway to its $1,500 goal. “i just have been overwhelmed by people’s generosity,” hollow said. hollow’s last trip to nepal took him to the annapurna region where he climbed 23,375-foot himlung himal. this time he’ll be traveling to the khumbu region, which is home to mount everest and is one of the most visited areas of nepal. “it was also the hardest hit,” hollow said. “it damaged a lot of really famous monasteries. they’re rebuilding it.” during the trek, hollow and his fellow climbers will carry the jackets and other gear themselves, which will allow them to bring more supplies than if porters were carrying everything. “we commit to bringing as much free gear as we can afford to fly or ship to kathmandu,” hollow wrote. “our expedition team will carry the loads alongside our porters en route to basecamp.” during his last trip, hollow was embarrassed that young men and women were carrying his gear for his trek. “when we made friends with them along the trail they told us they are very proud to have these jobs, and they bring home more money than their parents by ... portaging gear,” hollow wrote. “now being able to carry loads full of gifts for the people in the khumbu i feel very fortunate.” after the group returns to montana, they plan to host slideshows to share what they saw and learned in nepal, “just to get people interested in another mountain culture,” hollow explained. he hopes to hold presentations at outdoor organizations and local schools. while in nepal, hollow will be posting photos and stories to facebook, so people can follow along on his journey. his guides tell him he’ll have 3g cell service for the entire trek. cell service is used on the mountain for emergency communication. to donate, visit life.indiegogo.com/fundraisers/nepal-earthquake-relief-khumbu-region--2 . to follow along on the journey, visit rockymtnry.blogspot.com or follow ryan hollow on facebook. contact him on facebook to arrange a presentation after he returns. read or share this story: http://gftrib.com/1uu'}\n",
      "\n",
      " - Index: news_data_custom\n",
      "   ID: f8d0690e-75f5-4b6a-bc36-7fd0813b5e2e\n",
      "   Score: 167.69666\n",
      "   Source: {'id': 'f8d0690e-75f5-4b6a-bc36-7fd0813b5e2e', 'source': 'Plymouth Daily', 'published': '2015-09-18T10:52:20Z', 'title': 'PLYMOUTH DENTIST HEADS TO NEPAL WITH DENTAID', 'media-type': 'News', 'content': 'a plymouth dentist is travelling to nepal with the charity dentaid in the aftermath of the devastating earthquake which hit the country in april.  simon crewe, will visit kathmandu and the mountainous region of damilakuwa to assess how dentaid can provide clinics, teeth screening, oral health advice and education programmes, working alongside the country’s dental professionals.  the charity hopes to be able to send a team of volunteers to nepal in early 2016.  dentaid has already supported projects in nepal but many of the clinics were destroyed in  the  earthquake. a dentaid box - a wheelie bin containing a mobile dental surgery that can be operated without electricity or water - did survive but the charity wants to send more equipment and dental expertise to support the relief effort.  \"after a natural disaster people\\'s first priority is housing, water and food followed by dentistry and eye care and we know there is a great need in nepal,\" said simon.  \"there will be lots of people who have been living with dental pain that we can help. there is also the opportunity to work with young families. many children in nepal have four or five serious cavities before they even start school.\"  it is hoped the volunteers will also be able to offer oral health advice in post-natal clinics and pre-schools and support an on-going project based in kathmandu  simon, a former maxillofacial surgeon, has volunteered on dentaid\\'s trip to cambodia, east timor and morocco in the past. he hopes the charity can make a real difference in nepal in 2016 which is dentaid\\'s 20th anniversary year.  \"just being there creates a real buzz and people are wildly appreciative,\" he said. \"they will often walk for a day or two to see us. this trip is about doing the groundwork and i hope that before long dentaid will be making a real difference in nepal.\"  to find out more about dentaid visit www.dentaid.org'}\n",
      "\n",
      " - Index: news_data_custom\n",
      "   ID: 65e7b7a4-f0ac-4899-8dcf-1a76d0ce871c\n",
      "   Score: 165.07788\n",
      "   Source: {'id': '65e7b7a4-f0ac-4899-8dcf-1a76d0ce871c', 'source': 'Yahoo! News Australia', 'published': '2015-09-17T14:24:26Z', 'title': \"FACEBOOK ACTIVATES 'SAFETY CHECK' FOR CHILE QUAKE (AFP)\", 'media-type': 'News', 'content': 'facebook activates \\'safety check\\' for chile quake  santiago (afp) - facebook has activated a geolocation tool allowing people in chile to reassure friends and loved ones after a powerful magnitude 8.3 quake shook the country, killing at least eight. the \"safety check\" tool, which first launched in october 2014, is automatically accessible through facebook\\'s regular user interface. it informs members whether any of their facebook contacts are in a particular disaster zone, and allows people to signal their presence in the area, and let others know they are safe and well. facebook was inspired to launch the product after people turned to technology and social media in the aftermath of the 2011 earthquake and tsunami in japan. the social network deployed the tool following the april earthquake in nepal that killed more than 8,800 people across the himalayan nation.'}\n",
      "\n",
      " - Index: news_data_custom\n",
      "   ID: aacc3e71-0a0d-490e-a6be-4255b16cd3da\n",
      "   Score: 164.25102\n",
      "   Source: {'id': 'aacc3e71-0a0d-490e-a6be-4255b16cd3da', 'source': 'EIN News', 'published': '2015-09-21T13:46:22Z', 'title': 'NEPAL QUAKE SURVIVORS TURN PORTERS TO DELIVER AID', 'media-type': 'News', 'content': '05:11 gmt  today, the operat\\xadion is respon\\xadsible for delive\\xadring aid to 40,000 quake victim\\xads                      photo: reuters                      nepal:\\xa0her back hunched over, nepali villager sanchimaya thami strained to make the last stretch of a five-hour trek to deliver critical relief supplies to other victims of april’s devastating earthquake.                      the 36-year-old is one of some 10,000 survivors of the disaster hired as porters …                      ( continue reading )'}\n",
      "\n",
      " - Index: news_data_custom\n",
      "   ID: d00b2048-0ab4-4d08-ae50-0560d5f3e933\n",
      "   Score: 160.92612\n",
      "   Source: {'id': 'd00b2048-0ab4-4d08-ae50-0560d5f3e933', 'source': 'Rappler', 'published': '2015-09-27T00:08:31Z', 'title': 'JAPANESE CLIMBER ATTEMPTING MOUNT EVEREST SUMMIT TURNS BACK', 'media-type': 'News', 'content': 'thirty-three year-old nobokazu kuriki is the only mountaineer pursuing the summit this year      rappler.com     published 8:19 am, september 27, 2015  updated 8:19 am, september 27, 2015       a file picture dated 14 september 2013 shows the 8,848 m (29,028 feet) high mount everest as seen from an aircraft over nepal. photo by narendra shrestha/ epa  kathmandu, nepal – a japanese climber who was attempting the first summit of mount everest since a deadly quake-triggered avalanche destroyed part of base camp in april said sunday, september 27, he had turned back.  thirty-three year-old nobokazu kuriki, who lost nine fingers to frostbite during a 2012 attempt to climb everest, was the only mountaineer pursuing the summit this year after an avalanche set off by a massive quake killed 18 people at base camp.  the disaster saw hundreds of climbers abandon their bids to ascend the 8,848-meter (29,029-foot) peak, marking a second spring season with virtually no one reaching the summit.  the deaths of 16 nepali guides in an avalanche in 2014 sparked a shutdown that year.  it was kuriki\\'s fifth attempt to climb the world\\'s highest mountain. (read: nepal ice doctors risk all for sole everest hopeful )  \"i decide to descend,\" he posted on his official facebook page in the early hours of sunday.  \"i tried hard taking all my energy, but it took too much time to move in deep deep snow. i realized if i kept going, i wouldn\\'t be able to come back alive, so i decided to descend.  \"thank you so much for all your support. i appreciate you all from bottom of my heart.\"  without the aid of bottled oxygen, a determined kuriki had planned to tackle the final stretch alone overnight, ascending into the \"death zone\" – located above 8,000 meters, notorious for its difficult terrain and thin air.  the risks are higher than usual thanks to regular aftershocks increasing the chance of avalanches, while mountaineering experts say climbing in the autumn is more dangerous than spring due to high winds and lower temperatures.  mountaineers usually begin their summit attempts late at night, which allows them to descend in daylight, lowering the risk of them falling to their deaths due to exhaustion.  kuriki had originally planned to summit in mid-september before bad weather forced him to delay.  mountaineering is a major revenue-earner for impoverished nepal, home to eight of the world\\'s 14 peaks over 8,000 meters.  the april 25 earthquake killed nearly 8,900 people in the himalayan nation. apart from the everest avalanche it destroyed the popular langtang trekking route, raising fears for the immediate future of the tourism industry.  kuriki has previously said he wanted to help nepal.  \"everest has seen tragedies in the last two years, and i want to help nepal revive its tourism,\" he said. - rappler.com'}\n",
      "\n",
      " - Index: news_data_custom\n",
      "   ID: a57d8e56-46e9-4e93-bf18-22f0f0f50256\n",
      "   Score: 160.65884\n",
      "   Source: {'id': 'a57d8e56-46e9-4e93-bf18-22f0f0f50256', 'source': 'AndhraNews.net', 'published': '2015-09-19T18:54:31Z', 'title': 'GIONEE PLEDGED NPR 5.6 MILLION IN AID TO NEPAL EARTHQUAKE', 'media-type': 'News', 'content': 'commentskathmandu, nepal, july 1, 2015 /prnewswire/ -- gionee, a leading global provider of mobile devices, pledged rs 5,600,000 to aid nepal earthquake recovery.on june 30th, william lu, the president of gionee handed over the cheque of rs 5,000,000 to nepalese prime minister sushil koirala.\"gionee feels huge sorrow and sympathy for the victims of the tragic earthquake,\" said william lu. \"we have being working to help nepal cope with the quake and its aftermath.\"the prime minister sushil koirala expressed his gratitude towards gionee for supporting nepal in its time of need. and he praised gionee, a chinese enterprise that has created many job opportunities for the local nepalese.gionee entered nepal last september and has opened more than 600 retail stores all over the country. now it ranks top 5 in nepal\\'s mobile phone market, and it aims to be number 1 in 2017, according to william lu.gionee also set up gionee sahayogi haat kosh foundation and deposited rs 500,000 to initiate the fund. it has been used to build 25 temporary houses for the earthquake victims at bhaktapur and gionee will help to build more temporary houses in the next months.in addition, for every smartphone sold in nepal in the next 3 months, 50 rupees will be donated to the local orphanage bal mandir. the amount raised in this fund will go towards supporting children who have lost their parents in the recent earthquake.to date, gionee has donated 5.6 million rupees to nepal for the earthquake relief.about gioneeestablished in 2002, gionee communication equipment co., ltd. is a hi-tech company engaging in mobile device designing, r&d, manufacturing, sales in global markets, and mobile internet application services.facebook: https://www.facebook.com/gioneeglobal twitter: https://twitter.com/gioneeglobalphoto - http://photos.prnasia.com/prnh/20150701/08615'}\n",
      "\n",
      " - Index: news_data_custom\n",
      "   ID: a4af7339-ca55-4d08-9d4b-8b1f43e3c58b\n",
      "   Score: 159.61635\n",
      "   Source: {'id': 'a4af7339-ca55-4d08-9d4b-8b1f43e3c58b', 'source': 'IndiaPost', 'published': '2015-09-03T12:56:05Z', 'title': 'NEPAL’S FIRST BILLIONAIRE ON FORBES COVER', 'media-type': 'News', 'content': 'binod chaudhary  kathmandu: binod chaudhary, a nepali businessman of indian-origin, has found place on the cover of forbes asia’s september issue for his efforts to rebuild the quake-hit nation.  forbes magazine had listed him as the first billionaire of the country in 2013.  60-year-old chaudhary, president of chaudhary group is working on a project that would construct 10,000 earthquake proof houses for the quake victims in the country, after buildings were damaged in the devastating earthquake that rocked the country on april 25 and killed nearly 9,000 people.  chaudhary, a former mp has pledged usd 2.5 million through his chaudhary foundation to restore schools and homes destroyed or damaged by the quake, according to the forbes. he handed over 76 shelters to the affected people in dolalghat area of kavre district, 80 km east of kathmandu at a function.  so far, he has handed over 500 such shelters to the earthquake victims of nepal. he hopes to complete some 3,000 houses and hand over to the people in the 14 earthquake affected districts of nepal by october 2015.  chaudhary group is the largest business chain of nepal, which produces popular wai wai noodles, which is popular in india.  “if we put all our energy together we are able to carry out such a gigantic task,” chaudhary, the current president of the confederation of nepalese industries (cni) told reporters. chaudhary hails from a business clan with indian roots.  his grandfather, a textile trader from rajasthan, migrated to nepal in the 19th century. he has been listed as the 1,460th richest persons in the world in 2014 by the forbes. -pti'}\n",
      "\n",
      " - Index: news_data_custom\n",
      "   ID: 66bc5e52-64ff-4862-bb1f-790d8dbfce19\n",
      "   Score: 157.0595\n",
      "   Source: {'id': '66bc5e52-64ff-4862-bb1f-790d8dbfce19', 'source': 'Port Stephens Examiner', 'published': '2015-09-15T07:53:00Z', 'title': 'NEPAL TREKKER NO ORDINARY TOURIST', 'media-type': 'News', 'content': 'trekking the himalayas had been on isabel rios\\' mind long before earthquakes rattled nepal earlier this year. trekking the himalayas had been on isabel rios\\' mind long before earthquakes rattled nepal earlier this year. but it was the disaster that spurred the raymond terrace woman into setting out to realise her dream and to do something extra to help the country rebuild.ms rios will leave for nepal on october 11 and during her stay will help rebuild one of the 5000 schools that were destroyed during the earthquakes.\"i searched for the best way to help and came across world expeditions\\' efforts,\" ms rios said.\"initially they focused on distributing food and shelter to remote mountain communities, and now more recently the focus has shifted to assisting mountain communities rebuild their schools.\"ms rios will help rebuild the manju shree primary school, in the solu khumbu region of eastern nepal.before she goes she hopes to raise some much-needed funds for the people of nepal.ms rios has started a fundraising page under her name on makingadifference.gofundraise.com.au.donations $10 and over are automatically entered into a raffle, to be drawn after ms rios returns to australia in late november.ms rios has organised the namaste fundraiser gig for nepal, which will be held at the great northern hotel in newcastle from 8.30pm on october 3.an eclectic group of musicians and dancers will perform plus authentic nepalese food will be available.tickets cost $10, plus booking fee, through oztix or $15 at the door on the night.for more information find the namaste fundraiser gig for nepal page on facebook.all money raised will go to world expeditions\\' nepal earthquake appeal.'}\n",
      "\n",
      " - Index: news_data_custom\n",
      "   ID: 62b3ca15-e1c2-4d68-892e-5d80c2c93dbb\n",
      "   Score: 153.96696\n",
      "   Source: {'id': '62b3ca15-e1c2-4d68-892e-5d80c2c93dbb', 'source': 'Google Earth Blog', 'published': '2015-09-25T10:21:54Z', 'title': 'SURFACE DEFORMATION AFTER CHILE EARTHQUAKE', 'media-type': 'Blog', 'content': 'on september 16th, 2015 a magnitude 8.3 earthquake struck just off the coast of chile . it was more energetic than the nepal earthquake earlier this year, but resulted in far less casualties because chile has more frequent large earthquakes and is better prepared. for the nepal earthquake we showed you a map from nasa showing surface deformation resulting from the earthquake.  now the european space agency has released a similar map showing the surface deformation from the chile earthquake.   to see it in google earth download this kml file  the ‘earthquakes’ layer in google earth does not show the chilean earthquake yet. however, the usgs provides up to date kml files on this web page  we chose this one , which shows all earthquakes over magnitude 2.5 from the last 30 days.  as you can see below, the main quake (largest circle) was further south than you might have expected it to be based on the deformation pattern. the cluster of aftershocks, however, do seem to centre on the same location as the deformation pattern.   the post surface deformation after chile earthquake appeared first on google earth blog .'}\n",
      "\n"
     ]
    }
   ],
   "execution_count": 48
  },
  {
   "metadata": {
    "ExecuteTime": {
     "end_time": "2024-06-24T18:07:47.547578Z",
     "start_time": "2024-06-24T18:07:47.470308Z"
    }
   },
   "cell_type": "code",
   "source": [
    "# 6th Search Query: Greece Crisis\n",
    "greece_crisis_result = search_index(query_six, \"news_data_custom\")\n",
    "print_response(greece_crisis_result)"
   ],
   "id": "b7ef3a1d854acf86",
   "outputs": [
    {
     "name": "stdout",
     "output_type": "stream",
     "text": [
      "Search Metadata:\n",
      " - Took: 51 ms\n",
      " - Timed Out: False\n",
      " - Shards: Total - 1, Successful - 1, Skipped - 0, Failed - 0\n",
      " - Hits: Total - 10000 (Relation: gte)\n",
      " - Max Score: 89.815254\n",
      "\n",
      "Hits:\n",
      " - Index: news_data_custom\n",
      "   ID: 23dbe1f8-2d3e-4909-99b4-bd7c8eaef8da\n",
      "   Score: 89.815254\n",
      "   Source: {'id': '23dbe1f8-2d3e-4909-99b4-bd7c8eaef8da', 'source': 'Latest Nigerian News.com', 'published': '2015-09-03T04:02:56Z', 'title': 'GREEK AMERICANS CONTINUE FIGHT FOR GREECE AFTER DEBT DEAL', 'media-type': 'News', 'content': \"greece may be out of the headlines, but it is not off the greek-american communitys agenda.that was the message of a briefing call conducted by former california state treasurer and renowned finance expertphil angelides on tuesday for members of the hellenic american leadership council, a chicago-based greek-american political action group.'angelides offered analysis of the latest events and discussed ideas for how greek americans can mobilize to help greece.angelides, who chaired the u.s.-government mandated commission to investigate the 2008 financial crisis, framed the greek debt crisis as a product of the same financial industry abuses that felled the u.s. economy years earlier.the only difference, angelides argued, is that unlike the united states, years of austerity have prevented greece from recovering.the only other time in recent modern history when a country that has lost as much as greece has been asked to send money overseas was germany after world war i, which was a disaster, angelides said.angelides echoes a wide array of economistswho have argued that the terms of greeces debt repayments to its international creditors have been disastrous, regardless of the greek economys long-term need for reforms.but organizations representing the nearly 1.3 million americans of greek descent have been at pains to leverage american influence on behalf of greece in what is primarily a european affair. the hellenic american leadership council, the american hellenic institute and veteran greek-american power brokers like andy manatos have been limited to lobbying president barack obama and congress to ask the international monetary fund and european leaders to provide debt relief for greece. the imf has said that the latest greek bailout package will not succeed if the country does not receive significant debt relief -- a position many observers believe it has taken as a result of u.s. pressure.angelides acknowledged the limits of greek americans power given the fundamental political realities of the eurozone, saying it was greek americans job to do our level best to help greece recover in the construct in which they are operating.greece secured a new $95 billion bailout package from its creditors in mid-august, after a months-long standoff that nearly precipitated the collapse of the greek banking system.the future of the bailout deal may depend on the results of greeces sept. 20 election,the countrys second general elections in less than a year.angelides recommended that regardless of election results, greek-americans continue to lobby the obama administration and congress to push hard on its european allies to secure debt relief for greece. he added that the community can press the u.s. government to look at all u.s. programs on a cabinet level by cabinet level basis to see how they can be harnessed to help the people of greece.the hellenic american leadership councils efforts to assist greece combine humanitarian efforts with political lobbying. the group has raised $232,000 in aid for greeces children in the last month alone that it plans to distribute through a partnership with the ngo sos childrens villages.it has planned a stand with greece summit on capitol hill from sept. 30 to oct. 2 to rally support for greece in congress, including on matters like the european migration crisis, for which greece continues to a shoulder a disproportionate share of costs. the gathering will also allow greek-american investors to discuss opportunities for projects that could help the country. rena dorou, the governor of attica -- greeces largest state and home to the city of athens -- has indicated to the hellenic american leadership council that she will attend the summit. -- this feed and its contents are the property of the huffington post, and use is subject to our terms. it may be used for personal consumption, but may not be distributed on a website. click here to read full news..\"}\n",
      "\n",
      " - Index: news_data_custom\n",
      "   ID: d042833c-0981-4d22-bf9a-3b7f54486f1b\n",
      "   Score: 85.297646\n",
      "   Source: {'id': 'd042833c-0981-4d22-bf9a-3b7f54486f1b', 'source': 'EIN News', 'published': '2015-09-22T03:55:40Z', 'title': 'GREECE’S BANKS COULD STILL TIP THE FRAGILE COUNTRY INTO DISASTER', 'media-type': 'News', 'content': '03:55 gmt  when the eurozone crisis first erupted five years ago, it was a crisis of confidence in the ability of peripheral countries (greece, spain, portugal) to pay back the debt incurred in financing their swollen government deficits. those countries, including greece, have since virtually eliminated their fiscal deficits and, following the re-election of alexis tsipras as greek prime  …                      ( continue reading )'}\n",
      "\n",
      " - Index: news_data_custom\n",
      "   ID: 1e5efd92-4d31-4e63-9d7f-03f447fbbdae\n",
      "   Score: 85.259026\n",
      "   Source: {'id': '1e5efd92-4d31-4e63-9d7f-03f447fbbdae', 'source': 'World Bulletin', 'published': '2015-09-29T09:08:36Z', 'title': \"GREEK OPP. SLAMS TSIPRAS' UN 'DEBT REFORM' SPEECH\", 'media-type': 'News', 'content': \"world bulletin / news desk  greek opposition parties have slammed prime minister alexis tsipras for urging debt restructuring during his speech at the united nations in new york.  in his speech on monday,\\xa0tsipras\\xa0declared that global development was not possible without addressing debt restructuring. he called on world leaders to learn from the experience of greece which faced not only an economic crisis but also a security and refugee crisis,\\xa0simultaneously.  after his party syriza won the elections last week, tsipras’ coalition government refocused on implementation of a series of harsh austerity measures. their progress is set to be evaluated by international creditors in october.  “historical experience shows that the debt restructure is necessary for development even for developing countries like germany of 1933,” tsipras said. “we cannot talk about sustainability and growth without talking about the debt,” he tweeted after his speech.  tsipras’s speech at the un is said to be\\xa0part of a broader goal by his administration to internationalize greece’s debt problem.\\xa0attracting investors is another goal for the greek government. at the annual clinton global initiative on sunday, tsipras said: “it is necessary to make reforms in taxation, in the public administration and to create a friendly environment for investments. the message to investors is that they are welcome in greece,” adding that the discussion about grexit (or\\xa0greece's exit from eu)\\xa0was over.  tsipras’ words at the un were, however,\\xa0not welcomed by opposition parties in greece.  the largest opposition party, new democracy, accused tsipras’ of using “communication tactics” while referring to debt restructuring at the “wrong forum”.  “mr. tsipras should know that most of the greek public debt is in the hands of our official creditors in the eu and imf [international monetary fund].\\xa0 does he ignore what he has signed?” the party said in a statement. tsipras was also accused of intensifying uncertainty and damaging the country with his alleged inconsistency.  socialist pasok party also criticized tsipras. “his presence in the u.s.a. marked an unexploited opportunity. as for the debt, there is nothing new. only wishes and generalizations,” it said.  the socialist and liberal potami party also accused tsipras of being inconsistent and pointed out that many of syriza’s members had been using anti-reform language for years.  the greek communist party also chimed in, warning that tsipras was now trying to convince greeks that debt restructuring\\xa0would reverse poverty and unemployment after he signed an €82 billion bailout agreement in july.\\xa0  meanwhile, on the sidelines of the un’s general assembly in new york on monday, the greek premier met with brazil’s president dilma rousseff and ecuador's president rafael correa, according to athens-macedonian press agency.  tsipras also spoke by telephone with the head of the organization for economic cooperation and development, angel gurria, who is offering greece technical advice on economic reforms, according to kathimerini newspaper.  legal notice: copyright, trade marks and other intellectual property rights in this website can not be reproduced without the prior permission.\"}\n",
      "\n",
      " - Index: news_data_custom\n",
      "   ID: 02d887c5-ad98-4256-a4b6-67c2df48cc98\n",
      "   Score: 84.94886\n",
      "   Source: {'id': '02d887c5-ad98-4256-a4b6-67c2df48cc98', 'source': 'EthiXbase', 'published': '2015-09-30T12:00:13Z', 'title': 'GREECE: GREEK BUSINESSMAN ARRESTED ON ARMS DEAL BRIBERY CHARGES-COURT', 'media-type': 'News', 'content': 'september 30th, 2015  europe , global news  \\r (photo: the toc)  a greek businessman has been arrested and charged with money laundering and bribery as part of an investigation into suspicious arms deals, court officials said on tuesday.  greece has promised to crack down on corruption and reform its spendthrift state, which many greeks blame for the country’s worst debt crisis. prosecutors are investigating alleged financial scandals spanning decades in the debt-laden country.  thomas liakounakos, described as a commercial agent for swedish company ericsson in greece more than a decade ago, is accused of paying a bribe of up to 2 million euros ($2.25 million) to a greek official to secure a deal in 1999, court officials said.  the original article can be found at\\xa0 www.reuters.com'}\n",
      "\n",
      " - Index: news_data_custom\n",
      "   ID: 7618a0e9-8a80-4518-b6f4-ea976a14dd10\n",
      "   Score: 84.18412\n",
      "   Source: {'id': '7618a0e9-8a80-4518-b6f4-ea976a14dd10', 'source': 'Irish Times', 'published': '2015-09-21T07:19:23Z', 'title': 'GREEK CABINET TO BE ANNOUNCED ON WEDNESDAY, SAYS KAMMENOS', 'media-type': 'News', 'content': 'greece’s new syriza-led cabinet will be announced by wednesday morning, the leader of the independent greeks party said on monday after meeting election winner alexis tsipras .  “it will be a progressive government, a government which will continue the task we undertook these six months, and i hope lawmakers will realise the greek people’s message for national unity,” panagiotis kammenos told reporters.  tsipras’s syriza party won about 35 per cent of the vote in sunday’s election to give it 145 seats in the 300-seat parliament, while kammenos’s party took 3.7 per cent and 10 seats.  \\r \\r greece’s former finance minister euclid tsakalotos is “most likely” to be reappointed, a source in the leftist syriza said on monday.  tsakalotos led negotiations for greece on the terms of a bailout worth up to 86 billion euros in august.  returned prime minister tsipras is determined to secure debt relief from the country’s creditors in his “first and most important battle” after scoring an unexpectedly clear election victory.  but easing greece’s debt burden is just one of many items on a dauntingly long “to do” list ranging from how to revive a crippled economy while implementing austerity polices to dealing with the wave of migrants landing on greek shores.  in sunday’s election voters gave tsipras and his syriza party a second chance to tackle greece’s problems, despite his summer u-turn when he ditched his anti-austerity platform to secure a new bailout deal and avert a greek exit form the euro zone.  the extent of the win means that, rather than needing a patchwork of partners, syriza will be able to govern with only a single ally, the independent greeks.  the small right-wing party was also the junior partner in the tsipras coalition which governed for seven turbulent months until he resigned last month, forcing the election.  with society fractured by years of austerity, tsipras wants to build a broader consensus as he tries to steer greece through the tough reforms demanded by the euro zone in the bailout agreement - the country’s third.  a presidency source said tsipras would be sworn in on monday afternoon. initially, negotiating debt relief will dominate his agenda, a senior syriza source said.  “we will continue negotiations in the coming period, with the debt issue being the first and most important battle,” the party source said. “we will ask all political forces to support our efforts.”  tsipras - along with most greek political leaders and many international economists - argues that the country cannot recover from years of crisis without easing its huge debt burden.  in his victory speech to cheering athens crowds late on sunday, tsipras promised a new phase of stability in a country that has held five general elections in six years but did not mention the €86 billion euro bailout.  however, syriza campaigned on a pledge to implement the programme, which includes more tax rises and pensions cuts, while promising to introduce measures to protect vulnerable groups.  with the first review of the bailout programme due next month, tsipras must work fast to oversee a recapitalisation of the country’s banks - closed for three weeks at the height of the summer crisis and still subject to capital controls - while trying to stave off a recession and tackling the migrant crisis.  his first international summit is on wednesday in brussels to discuss the hundreds of thousands of refugees and migrants pouring into europe , many via greek islands that border turkey .  in a reminder of that crisis, 13 migrants died in turkish waters on sunday when a boat carrying 46 people en route to greece collided with a cargo vessel and capsized, a turkish coast guard source said.  emboldened  in a financial market that looked to have factored in a syriza win, greek shares lost ground on monday and government bond yields edged higher - mirroring a generally cautious reaction elsewhere to tsipras’s second incarnation as leader.  european council president donald tusk said many of the biggest problems facing the european union were the same as greece’s - the refugee crisis and creating economic growth and jobs. “i trust that greece, with your new government will contribute constructively in seeking solutions to all those challenges,” he said in a letter to tsipras.  tsipras plans to form a national council for european policy, including representatives of parties other than syriza and the independent greeks and which would advise the finance minister, the syriza source said.  centre-left daily newspaper ethnos on monday tipped euclid tsakalotos, the former finance minister who brokered terms of the bailout accord in august, to be re-appointed.  citigroup economist giada giani said the risk remained that greece - having flirted with grexit during fraught bailout negotiations in the spring and early summer - might still leave the euro zone.  jp morgan analyst malcolm barr said tsipras was likely to feel emboldened by the election result, which “provides a platform upon which syriza will continue to challenge significant parts of the (bailout) programme”.  some form of restructuring of greece’s euro zone debt should be in place by the end of march, he wrote in a note.  some european governments, particularly germany, are opposed to writing off part of greece’s debt - a so-called haircut - but not averse to stretching out its repayment schedule.  ralph brinkhaus, a senior parliamentary ally of german chancellor angela merkel, urged tsipras to stick to the reform agenda and implement the bailout measures.  euro zone officials told reuters last week that governments are ready to cap greece’s annual debt-servicing costs at 15 percent of its economic output over the long term. that would mean the nominal payment would be lower if the greek economy struggled, higher if it was more robust, they said.  reuters'}\n",
      "\n",
      " - Index: news_data_custom\n",
      "   ID: 7fd58505-f73b-4c33-a4bb-c069cf97316b\n",
      "   Score: 80.923904\n",
      "   Source: {'id': '7fd58505-f73b-4c33-a4bb-c069cf97316b', 'source': 'Modern Ghana', 'published': '2015-09-18T01:50:20Z', 'title': 'ORWELLIAN HYPOCRISY OF CAPITALISTS: LESSONS FOR GHANAIAN TECHNOCRATS–4 � FRANCIS KWARTENG', 'media-type': 'News', 'content': 'this article continues the discussion on the orwellian hypocrisy of capitalists, a piece which contributes to the negative role capitalism plays in financial crisis around the world. it seems an irony of unimaginable proportion when hypocritical free-market fundamentalists do not allow free-market mechanism to work when it stands in the way of the “mentality of profit,” to borrow pope francis’ phraseology. these shameless free-market fundamentalists publicly preach free market to themselves and to the rest of the world but go all the way out to behave otherwise in the halls of secrecy.these wall street free-market fundamentalist technocrats are the first to go to government for financial bailout in times of crisis, the first to lobby against regulations that improve the environment for the smooth operationalization of market mechanism, and the first to help other capitalists to cheat the system (title of the piece is “wall st. helped to mask debt fueling europe’s crisis.” authors: louis story, nelson d. schwartz, and landon thomas, jr. feb. 13, 2013). that is, they know the concept of free-market mechanism can grossly undermine a tendency toward profit generation in many a situation. thus they throw the concept to the dogs when doing so actually preserves their humungous profit margins. read on:“wall street tactics akin to the ones that fostered subprime mortgages in america have worsened the financial crisis shaking greece and undermining the euro by enabling european governments to hide their mounting debts.“as worries over greece rattle world markets, records and interviews show that with wall street’s help, the nation engaged in a decade-long effort to skirt european debt limits. one deal created by goldman sachs helped obscure billions in debt from the budget overseers in brussels.“even as the crisis was nearing the flashpoint, banks were searching for ways to help greece forestall the day of reckoning. in early november—three months before athens became the epicenter of global financial anxiety—a team from goldman sachs arrived in the ancient city with a very modern proposition for a government struggling to pay its bills, according to two people who were briefed on the meeting.“the bankers, led by goldman’s president, gary d. cohn, held out a financing instrument that would have pushed debt from greece’s health care system far into the future, much as when strapped homeowners take out second mortgages to pay off their credit cards.“it had worked before. in 2001, just after greece was admitted to europe’s monetary union, goldman helped the government quietly borrow billions, people familiar with the transaction said. that deal, hidden from public view because it was treated as a currency trade rather than a loan, helped athens to meet europe’s deficit rules while continuing to spend beyond its means.“athens did not pursue the latest goldman proposal, but with greece groaning under the weight of its debts and with its richer neighbors vowing to come to its aid, the deals over the last decade are raising questions about wall street’s role in the world’s latest financial drama.“as in the american subprime crisis and the implosion of the american international group, financial derivatives played a role in the run-up of greek debt. instruments developed by goldman sachs, jpmorgan chase and a wide range of other banks enabled politicians to mask additional borrowing in greece, italy and possibly elsewhere.“in dozens of deals across the continent, banks provided cash upfront in return for government payments in the future, with those liabilities then left off the books. greece, for example, traded away the rights to airport fees and lottery proceeds in years to come.“critics say that such deals, because they are not recorded as loans, mislead investors and regulators about the depth of a country’s liabilities.“some of the greek deals were named after figures in greek mythology. one of them, for instance, was called aeolos, after the god of the winds.“the crisis in greece poses the most significant challenge yet to europe’s common currency, the euro, and the continent’s goal of economic unity. the country is, in the argot of banking, too big to be allowed to fail. greece owes the world $300 billion, and major banks are on the hook for much of that debt. a default would reverberate around the globe.“a spokeswoman for the greek finance ministry said the government had met with many banks in recent months and had not committed to any bank’s offers. all debt financings “are conducted in an effort of transparency,” she said. goldman and jpmorgan declined to comment.“while wall street’s handiwork in europe has received little attention on this side of the atlantic, it has been sharply criticized in greece and in magazines like der spiegel in germany.“politicians want to pass the ball forward, and if a banker can show them a way to pass a problem to the future, they will fall for it,” said gikas a. hardouvelis, an economist and former government official who helped write a recent report on greece’s accounting policies.“wall street did not create europe’s debt problem. but bankers enabled greece and others to borrow beyond their means, in deals that were perfectly legal. few rules govern how nations can borrow the money they need for expenses like the military and health care. the market for sovereign debt—the wall street term for loans to governments—is as unfettered as it is vast.“if a government wants to cheat, it can cheat,” said garry schinasi, a veteran of the international monetary fund’s capital markets surveillance unit, which monitors vulnerability in global capital markets.“banks eagerly exploited what was, for them, a highly lucrative symbiosis with free-spending governments. while greece did not take advantage of goldman’s proposal in november 2009, it had paid the bank about $300 million in fees for arranging the 2001 transaction, according to several bankers familiar with the deal.“such derivatives, which are not openly documented or disclosed, add to the uncertainty over how deep the troubles go in greece and which other governments might have used similar off-balance sheet accounting.“the tide of fear is now washing over other economically troubled countries on the periphery of europe, making it more expensive for italy, spain and portugal to borrow.“for all the benefits of uniting europe with one currency, the birth of the euro came with an original sin: countries like italy and greece entered the monetary union with bigger deficits than the ones permitted under the treaty that created the currency. rather than raise taxes or reduce spending, however, these governments artificially reduced their deficits with derivatives.“derivatives do not have to be sinister. the 2001 transaction involved a type of derivative known as a swap. one such instrument, called an interest-rate swap, can help companies and countries cope with swings in their borrowing costs by exchanging fixed-rate payments for floating-rate ones, or vice versa. another kind, a currency swap, can minimize the impact of volatile foreign exchange rates.“but with the help of jpmorgan, italy was able to do more than that. despite persistently high deficits, a 1996 derivative helped bring italy’s budget into line by swapping currency with jpmorgan at a favorable exchange rate, effectively putting more money in the government’s hands. in return, italy committed to future payments that were not booked as liabilities.“derivatives are a very useful instrument,” said gustavo piga, an economics professor who wrote a report for the council on foreign relations on the italian transaction. “they just become bad if they’re used to window-dress accounts.”“in greece, the financial wizardry went even further. in what amounted to a garage sale on a national scale, greek officials essentially mortgaged the country’s airports and highways to raise much-needed money.“aeolos, a legal entity created in 2001, helped greece reduce the debt on its balance sheet that year. as part of the deal, greece got cash upfront in return for pledging future landing fees at the country’s airports. a similar deal in 2000 called ariadne devoured the revenue that the government collected from its national lottery. greece, however, classified those transactions as sales, not loans, despite doubts by many critics.“these kinds of deals have been controversial within government circles for years. as far back as 2000, european finance ministers fiercely debated whether derivative deals used for creative accounting should be disclosed.“the answer was no. but in 2002, accounting disclosure was required for many entities like aeolos and ariadne that did not appear on nations’ balance sheets, prompting governments to restate such deals as loans rather than sales.“still, as recently as 2008, eurostat, the european union’s statistics agency, reported that “in a number of instances, the observed securitization operations seem to have been purportedly designed to achieve a given accounting result, irrespective of the economic merit of the operation.”“while such accounting gimmicks may be beneficial in the short run, over time they can prove disastrous.“george alogoskoufis, who became greece’s finance minister in a political party shift after the goldman deal, criticized the transaction in the parliament in 2005. the deal, mr. alogoskoufis argued, would saddle the government with big payments to goldman until 2019.“mr. alogoskoufis, who stepped down a year ago, said in an e-mail message last week that goldman later agreed to reconfigure the deal “to restore its good will with the republic.” he said the new design was better for greece than the old one.“in 2005, goldman sold the interest rate swap to the national bank of greece, the country’s largest bank, according to two people briefed on the transaction.“in 2008, goldman helped the bank put the swap into a legal entity called titlos. but the bank retained the bonds that titlos issued, according to dealogic, a financial research firm, for use as collateral to borrow even more from the european central bank.“edward manchester, a senior vice president at the moody’s credit rating agency, said the deal would ultimately be a money-loser for greece because of its long-term payment obligations.“referring to the titlos swap with the government of greece, he said: “this swap is always going to be unprofitable for the greek government.”source:http://www.nytimes.com/2010/02/14/business/global/14debt.html?pagewanted=all&_r=0more feature article » comments:this article has 1 comments, leave your comment.'}\n",
      "\n",
      " - Index: news_data_custom\n",
      "   ID: 8a3b4322-8107-405b-9000-5551d3176204\n",
      "   Score: 79.91347\n",
      "   Source: {'id': '8a3b4322-8107-405b-9000-5551d3176204', 'source': 'Daily Times', 'published': '2015-09-22T01:03:39Z', 'title': 'TRIUMPHANT TSIPRAS RETURNS TO FIGHT FOR GREEK ECONOMY, DEBT RELIEF : SEPTEMBER 22, 2015, 5:04 AM', 'media-type': 'News', 'content': 'athens: alexis tsipras took the oath of office for a second term as greek prime minister on monday, promising to revive the crippled economy while demanding debt relief from creditors as his “first big battle” following an unexpectedly clear election victory. the firebrand leftist solidified his position as greece’s dominant political figure in sunday’s election, but faces a dauntingly long “to do” list that includes implementing austerity polices and dealing with migrants landing on greek shores. voters gave tsipras and his syriza party the benefit of the doubt over a dramatic summer u-turn, when he ditched his anti-austerity platform to secure a new bailout and avert ‘grexit’, a greek exit from the euro zone. his first comments upon taking the oath of office were not about his country’s economic woes but about europe’s migration crisis, the worst on the continent since the balkan wars of the 1990s. greece has been the main point of entry for tens of thousands of migrants who arrive on its shores by sea and mostly continue onwards over land across the balkan peninsula to richer eu countries further north. it complains that it lacks the capacity to enforce eu rules which would require it to register all arrivals and has sought more help from the bloc. tsipras will represent greece at an emergency summit of european leaders to discuss the migration crisis on wednesday. it is one of three countries, alongside italy and hungary, that would receive help from the rest of the eu resettling 160,000 refugees under a plan backed by brussels and germany but opposed by eastern european countries. “europe has unfortunately not taken steps to protect reception countries from a (migration) wave which has taken on uncontrolled dimensions,” tsipras said. with the first review of greece’s 86 billion euro bailout program due next month, tsipras must work fast to recapitalize greek banks and stave off recession. he received a raft of congratulatory messages from european leaders urging him to move swiftly on reforms. a syriza party official said his first domestic goal would be to stabilize banks and the wider economy, still reeling from three weeks when banks were shut before tsipras accepted the bailout. tsipras had described as his “first crucial battle” the quest for debt relief from the creditors, the official added. tsipras says greece’s economy cannot recover from one of the worst depressions to hit an industrialized country in modern times unless the burden of servicing its debt is eased. some european governments, particularly germany, are opposed to writing off part of greece’s debt but less averse to stretching out its repayment schedule. euro zone officials told reuters last week that governments were ready to cap greece’s annual debt-servicing costs at 15 percent of its economic output over the long term, so that nominal payments would be lower if the greek economy struggles.\\xa0'}\n",
      "\n",
      " - Index: news_data_custom\n",
      "   ID: 7814cafb-a2dd-480d-8ce0-f8abedbc5201\n",
      "   Score: 79.71944\n",
      "   Source: {'id': '7814cafb-a2dd-480d-8ce0-f8abedbc5201', 'source': \"Monty Pelerin's World\", 'published': '2015-08-17T00:00:31Z', 'title': 'TOOTH FAIRY ECONOMICS', 'media-type': 'Blog', 'content': 'pretending that the greek crisis can be solved is akin to believing in the tooth fairy. keith dicker puts matters into perspective with just a few sentences and a simple table: … the greek debt crisis has been spinning in and out of control for 5 years and counting. why should it be any different this time? everyone knows there is no way on this earth that greece will ever be able to repay these debts. unless the greek economy can grow faster and longer than it has ever grown before, and it can avoid the political temptation to never again spend more money than it collects in taxes – then just maybe it stands a chance of paying off some of the over $400 billion it owes. the title of his article was “guess what happens next?” which is so simple that even a caveman can understand it. perhaps cavemen should be running the eu instead of the morons who are. ditto for politicians elsewhere! the points made in dicker’s article are not unique to greece. they are applicable to most countries, including the united states. tooth fairy economics does not work in greece, the other parts of europe, the us, china or anywhere else. “there ain’t no such thing as a free lunch” (tanstaafl) is an immutable law of human behavior (economics). the rate at which this law is experienced differs only in the particulars of the excesses and the timing of the events. no country is immune. all countries are headed toward a greek disaster. tooth fairy economics is a political scam that is impoverishing the world.'}\n",
      "\n",
      " - Index: news_data_custom\n",
      "   ID: c81141ce-6091-405a-ae35-7600aedacddd\n",
      "   Score: 78.46657\n",
      "   Source: {'id': 'c81141ce-6091-405a-ae35-7600aedacddd', 'source': 'Ανιχνεύσεις', 'published': '2015-09-16T08:22:04Z', 'title': 'MYTHS, MISINFORMATION AND TRUTHS ABOUT THE GREEK CRISIS: SCIOLISM1 IN AN ERA OF SPECIALIZATION', 'media-type': 'Blog', 'content': 'by thanos catsambas*  with the third bailout program in five years approved by eurozone countries on august 20, 2015 to help greece avoid bankruptcy and an inevitable disorderly exit from the eurozone, one can reasonably wonder, “what will be different this time?” without a dramatic change in greece’s political decision-making, the answer is “nothing,” because the greek political system is run by sciolist decision-makers supported by media that continue to feed myths and misinformation about the origin, developments and possible resolution of the greek economic crisis. while the greek crisis was triggered by the inability of the government to meet its obligations on international bonds in 2010, it was caused by long-standing structural weaknesses and the gradual loss of competiveness in the areas of textiles, light manufacturing, shipping repairs, and even an array of agricultural products and fisheries. the decline in greece’s competitiveness was, in turn, due to the inability of the country to respond effectively to globalization, and find alternative comparative advantages in the new global division of labor. this much is well understood and accepted by serious analysts. but what followed in the five years after the outbreak of the crisis is a testimonial to how difficult it is, even for credible international commentators, to analyze an economy from a distance, without sufficient knowledge of the internal workings and true constraints of the economy in question. in my view, the greek crisis has been frequently analyzed without due regard to two major factors: first, the rigid financing constraints faced by greece as soon as it lost access to private capital markets; second, the multiple structural rigidities and distortions in greece, which would be inconceivable in an advanced capitalist economy2 . in this commentary, i shall highlight the most pervasive myths that have accompanied the first five years of the greek crisis, offer an explanation of their persistence and 1 sciolism: the superficial display of knowledge and learning 2 a comprehensive analytical article that sets the record straight on many misconceptions is hanswerner sinn, “the greek tragedy”, cesifo forum, special issue, june 2015. page 2 of 8 conclude with what i believe is the only potentially viable solution. my analysis is a narrative about “myths”, not only because of greece’s preeminent position in international mythology, but, more importantly, because of the decisive role they played in impeding progress and helping political parties with obsolete economic concepts gain and maintain power in greek society. myth i: there were painless alternatives to the adjustment path that greece had to follow in 2010. this myth has been a recurring theme of many domestic and international debates since 2010 and has been the archetypal myth promulgated by syriza (both when it was in the opposition, and after it became the main party of the coalition that formed a new government in january 2015). before its complete capitulation at the july 17 eurozone summit, the present greek government argued formally and informally that austerity was the cause of the crisis and that it must end. the reality, of course, is the reverse: the latent crisis in the years preceding 2010 was the cause of the subsequent austerity, because any economy that reaches the point of default must go through a period of adjustment to stabilize its faltering macroeconomic imbalances. simply stated, a country that has been living beyond its means for decades, and for which the day of judgment has arrived, must go through a period of fiscal consolidation with a decline in its standard of living. this simple truth was never explained in straightforward terms by any responsible decision maker, and reflects one of the biggest failures of the papandreou, papademos and samaras governments in terms of their respective communication policies. there was never an attempt to explain the implications of the point that greece had reached by the end of 2009, why the country had reached that point, where the country wanted to go in the future, and what was the (necessary and one-way) path that it would have to follow to achieve its future objectives. part of the blame must be attributed to the international partners (the former “troika”), who also spoke in obscure terms (“internal devaluation” etc.) instead of simplifying the issue. the greek people were led to believe that their government had the power to page 3 of 8 relieve them of the austerity measures, if only it could negotiate more effectively with its international partners. in fact, the only area where the government could and should have exercised control was to ensure a fair distribution of the burden of adjustment among its citizens. but there was no other option. once a country has gone bankrupt, as greece did in 2010, the standard of living that its citizens had enjoyed thanks to abundant and cheap borrowing from capital markets until then, must decline to a level compatible with the productive capacity of the country and its ability to repay its debts. myth ii: the troika-supported program failed. an extensive misinformation campaign, especially perpetuated by the greek media, has focused on the axiom that the program “failed”. there is little doubt that what commentators have in mind when they speak about “failure” is the decline in gdp, the rise in unemployment, the closing of several small businesses, the decline in property values and, more generally, the decline in the standard of living of the greek population compared to what it was before 2010. but this interpretation reflects precisely the failure of greek authorities to explain that a retrenchment was unavoidable and that the purpose of the program was to reset the economy on new, modern pillars that would ensure longterm viable growth. the myth of the program failure is also linked with the assertion that bailout programs caused the serious austerity that the greek economy experienced in the past five years. the traditional argument against a fund-supported program fails to realize that austerity would have been more severe without a program3 . the reason is that a country that essentially has gone bankrupt (and cannot tap capital markets anymore) will have to adjust its expenditures to available resources, which, in the absence of loans, will be only available domestic revenues, notably tax collections. in a collapsing economy with declining revenues there is no way that a government can finance the earlier level of expenditures. in the case of greece, the 2009 budget deficit was 15.6% of gdp, or about 3 an interesting article that analyzes this question in some depth is daniel gros, “the greek austerity myth”, project syndicate, february 10, 2015. page 4 of 8 €32 billion. without the may 2010 loan from the then troika, greece would have had to reduce its spending by €32 billion immediately. instead, greece received the biggest loan in the history of the imf and of the eurozone (the first at the time), in the amount of €110 billion, which helped smooth out the adjustment process. moreover, two years later, in 2012, greece was granted the highest sovereign debt haircut in recorded world history, equivalent to 53% of nominal debt. both the loan and the debt operation definitely helped greece begin the adjustment at a much milder pace than it would have been possible without them. objectively speaking, one can argue that one part of the adjustment program fully succeeded while the other part succeeded only to a limited extent. the part of the program for which the imf was primarily responsible, i.e. the fiscal adjustment, not only did not fail, but in fact was very successful, as a primary surplus of 0.8% of gdp was achieved one year earlier than programmed, namely in 2013 instead of 2014. and the fiscal adjustment was also “progressive”, because most of the burden fell on the higher salary and pension earners. the program, however, was not successful in terms of unleashing the productive capacity of the economy, because most of the mandated structural reforms were either not implemented or were implemented only partially or ineffectively. the european commission, which was primarily responsible for the structural aspects of the program, was partly to blame, because it imposed too many requirements in too short a time, without taking into account the administrative capacity of the country: in other words, the problem with implementation was not so much a question of political will, as it was an issue of capability—at least until the middle of 2014. myth iii: public expenditures in an economy under financial distress can always be set according to national priorities. one of the major weaknesses in the reasoning of many greek politicians and even academic economists is that they do not understand the importance of below-the-line accounts in the budget, namely the constraints imposed by available financing. elementary economic theory (especially keynesian theory) essentially assumes that there page 5 of 8 are no financing constraints and that movements in output and employment can be influenced by government intervention. under normal circumstances, a government would submit to parliament a budget whose expenditures would be determined by projected revenues and whatever deficit would be estimated to be compatible with debt sustainability over the medium term. the deficit would then be financed by private capital markets—domestic or international. but when a country is facing severe financing constraints (e.g. has gone bankrupt, like greece), external financing is not available through the capital markets and is only provided by international official creditors. under these circumstances, the government can only fulfill national priorities to the extent such funds are available. public expenditures are a residual and are determined by domestic revenues and available official financing; in other words, while they can be prioritized, their total amount cannot be increased at the discretion of the government. this is a reality check that the current greek government was unprepared to accept, and as late as june 2015 it decided to default on its obligations to the imf, rather than reduce its expenditures. if decision makers do not respect this simple arithmetic calculation and continue to retain (on paper) fictional obligations regardless of the financing constraints, then the economy moves into the realm of domestic arrears, where in reality employees and companies do not get paid. there are numerous receivables and payables on all sides and eventually the domestic economy is full of arrears from one economic agent to another, which results in a very messy situation that may take years to unwind. that was indeed the situation in the new cis countries (the republics of the former soviet union), after the collapse of the latter in the early 1990s. myth iv: the political cost impaired the implementation of reforms for many years, analysts of the greek economy and its travails have argued that the deterioration and eventual collapse of the greek economy was due to government policies that ignored technocratic constraints, and that necessary “tough” decisions where delayed or never taken due to the proverbial “political cost”. page 6 of 8 this analysis is partially correct. political considerations were (and shall always be) present in a representative democracy, but the case of greece transcends pure politics and descends to lack of competence by both politicians and civil servants alike. the months following the february 25, 2015 agreement, which extended the european program until june 30, 2015, were a surrealistic experience for all those involved in the negotiations between the new syriza government and greece’s creditors. as a sign of respect to the outcome of the january elections, the creditors accepted a series of childish requests by the greek government, notably the change of the term “troika” to “institutions” and the shifting of the locus of negotiations from athens to brussels (hence the name brussels group). the imf has rarely accepted the conduct of discussions with authorities outside the capital city and normally only for reasons of security. the conduct of discussions outside a country’s capital is not explicitly disallowed by the fund’s articles of agreement, but it is clearly a very inefficient process—as was shown in practice by many incidents during the greek negotiations, for example, rotating counterparts, incomplete information, changing positions, and, at the end of the day, lack of authority by the greek officials to negotiate in good faith. by the end of april, the imf, the ecb, the european commission and the us government (the latter had played an increasingly important role in the resolution of the greek crisis behind the scenes) had all concluded that the greek side was so inexperienced and ignorant about fundamental concepts of macroeconomic management, that further negotiations in good faith would be a waste of time. therefore, they decided to present the greek authorities with “take it or leave it” proposals, albeit in the beginning gradually and in a measured pace. as a result of this process, the greek government capitulated at the july 12 summit of eurozone leaders after a 17-hour acrimonious session with prime minister tsipras. the summit statement, which began with an unorthodox sentence about the “crucial need to rebuild trust” between greece and its partners, included every point that the greek government had sought to avoid until then, and in addition made a direct reference against the possibility of a nominal haircut of greece’s sovereign debt—a point the greek government had desperately attempted to include. in short, greece lost on both inclusions and omissions in the statement. the new memorandum of understanding, signed between greece and its creditors three weeks later and approved by the eurogroup on august 14, was a more detailed version of the summit statement. page 7 of 8 conclusion and recommendation after six months of interactions between the new greek government and the country’s creditors, which the authorities had triumphantly called “negotiations leading to an honest compromise,” greece finds itself at square one: continued fiscal adjustment, further austerity and reforms, more supervision by the creditors (e.g. in the area of privatizations), stricter banking and npl rules, and still unclear prospects about the extent and nature of the much-sought debt restructuring. what, then, did the syriza government accomplish? sadly, the syriza government succeeded only in convincing the european partners and the imf that the fundamental problem with the greek political landscape, particularly as reflected since january 2015, was not political choices but, simply, incompetence and disrespect for international rules. part of that conclusion transcends the present government. surely, the decision makers of syriza (who, it is now revealed, were surrounded by inexperienced, ineffective, and well-paid “international advisors”) showed an amazing unfamiliarity with applied macroeconomics while promulgating advanced theoretical concepts coupled with a contempt for down-to-earth arithmetic. but the opposition parties and the notoriously inept greek media (gratefully with a handful of exceptions) demonstrated an equal detachment from common sense. where do recent developments leave greece and what are its prospects for steady and sustainable growth? in the first paragraph of this analysis, i indicated that nothing will be different this time unless a dramatic change takes place in greece’s decision-making process. it is now time for me to define what i mean by “dramatic change.” i call for a two-pronged, concurrent approach: first, a government based on the broadest possible coalition, with an economic team comprising internationally recognized specialists (economists, businessmen, lawyers, tax accountants and privatization experts); second, a government granted legislative authority, which would enable it to decree laws with only broad parliamentary supervision until the end of the bailout program. such extraordinary powers appear necessary to by-pass bureaucratic hurdles and parliamentary roadblocks during a period that timely decisions and implementation would be of the essence. the stabilization, fiscal consolidation, and banking recapitalization aspects of the program would need to be a complemented by a conscious effort (in the form of a dedicated task page 8 of 8 force) to identify the new comparative advantages of greece in the global division of labor and help advance a new mindset that will attract international investors and nurture domestic enterprises. in my view, this radical strategy is a necessary condition for greece to remain in the eurozone. the upcoming general elections are the last hope for the implementation of such a strategy. ******************************************************************** * thanos catsambas, a yale ph.d. in economics, is a former alternate executive director of the imf board representing italy, greece, portugal, albania, malta and san marino. september 11, 2015'}\n",
      "\n",
      " - Index: news_data_custom\n",
      "   ID: 6e461545-0e6a-469d-928c-fc552593ff8e\n",
      "   Score: 78.34394\n",
      "   Source: {'id': '6e461545-0e6a-469d-928c-fc552593ff8e', 'source': 'MyInforms', 'published': '2015-09-25T11:38:24Z', 'title': \"GREECE MUST 'QUICKLY IMPLEMENT' BAILOUT DEAL: TSIPRAS\", 'media-type': 'News', 'content': 'greek prime minister alexis tsipras has said the country quickly needs to enforce economic reforms. tsipras won snap elections earlier this week after signing up for a third aid package with international… \\r greek prime minister alexis tsipras has said the country quickly needs to enforce economic reforms. tsipras won snap elections earlier this week after signing up for a third aid package with international creditors. speaking at his first cabinet meeting since sunday\\'s election, tsipras said, \"we face the obligation to quickly implement what has been agreed.\" he told his ministers that he hoped to have greece out of the crisis by the end of his four-year term. \"we are aware of the difficult points of the deal…we know how to find the right antidote where there are side effects,\" tsipras said on friday. his strategies included addressing debt restructuring, which would \"make our economy once again attractive to investors\" and a recapitalization of greece banks, which \"if done correctly, can give our economy badly needed liquidity,\" tsipras told his ministers. greece\\'s previous government, also led by tsipras, agreed to a tough set of reforms in august , including ending tax breaks, pension and labor reforms and privatizations, in return for a loan of 86 billion euros ($96 billion) from the eu. around 25 billion euros have been set aside to strengthen the capital of banks that have suffered from deposit flight over the past six years. tsipras also addressed the refugee crisis, which has particularly impacted the greek islands of kos and lesbos, which have become main points of entry into europe for migrants fleeing conflict and poverty in the middle east and africa. \"we have to decide what europe we want…do we want a europe of solidarity or one which throws teargas showing people its hard side?\" tsipras asked. the leftist leader resumed his role as prime minister af…'}\n",
      "\n"
     ]
    }
   ],
   "execution_count": 49
  },
  {
   "metadata": {
    "ExecuteTime": {
     "end_time": "2024-06-24T18:07:47.675249Z",
     "start_time": "2024-06-24T18:07:47.549144Z"
    }
   },
   "cell_type": "code",
   "source": [
    "# 7th Search Query: Pope Visit in the USA\n",
    "pope_visit_result = search_index(query_seven, \"news_data_custom\")\n",
    "print_response(pope_visit_result)"
   ],
   "id": "245951409ac07d5f",
   "outputs": [
    {
     "name": "stdout",
     "output_type": "stream",
     "text": [
      "Search Metadata:\n",
      " - Took: 100 ms\n",
      " - Timed Out: False\n",
      " - Shards: Total - 1, Successful - 1, Skipped - 0, Failed - 0\n",
      " - Hits: Total - 10000 (Relation: gte)\n",
      " - Max Score: 153.76437\n",
      "\n",
      "Hits:\n",
      " - Index: news_data_custom\n",
      "   ID: 46e1c12c-0c30-46ba-8630-772a0b50021a\n",
      "   Score: 153.76437\n",
      "   Source: {'id': '46e1c12c-0c30-46ba-8630-772a0b50021a', 'source': 'Daily Vidette', 'published': '2015-09-28T17:17:20Z', 'title': 'POPE’S VISIT SYMBOLIZES CHANGING CHURCH', 'media-type': 'News', 'content': 'nathan penn / columnist  pope francis’ visit to the united states last week symbolizes not only a changing roman catholic church, but a changing religious culture in the united states.  in a nation where religion has always been a significant cultural value, the pope’s visit comes during a time when a growing number of americans claim no religion at all. despite his popularity, pope francis will have to work hard to make the catholic church appear welcoming, and in step with modern values.  the u.s. still remains home to more christians than any other nation in the world. what it means to be christian is changing for many people. christians, along with the majority of americans, are embracing a more tolerant perspective. gay rights, feminist values and social equality are becoming important ideals christians now look for in religion.  this is why the catholic church has fallen short for many religious people today. failing to modernize, the church has driven away many progressive thinkers. the catholic church’s stance on homosexuality and women’s role in the church has repelled those who value equality.  concerns over these issues were largely left unaddressed until pope francis was appointed to the papacy in 2013. since then, pope francis has gained popularity for his progressive stances on social justice, his tolerance toward gay christians and his role in international diplomacy. despite keeping in line with many traditional catholic and christian views on contraception, abortion and euthanasia, the pope’s views are progressive for the papacy. with this brand of catholicism, the pope has attracted attention for bringing a progressive quality to one of the world’s most powerful leadership positions.  the pope’s progressive policies have not been met with enthusiasm by everyone. many people still hide behind christianity as a way to acceptably voice intolerance. the pope’s outspoken stance on climate change and social issues have also been controversial among the american religious right, where capitalism has become intertwined with christianity. but the pope’s message can succeed in america with a younger generation who is more concerned with social justice and tolerance.  the progressive tenants of pope francis’ message resonate most with young people. illinois state university, which has over 20 religious organizations, has a diverse and thriving religious culture that already emphasizes a message of acceptance and the importance of social issues. even as christianity’s reputation for intolerance and bigotry is driving more americans away, young people are still finding ways to celebrate their faith while not discriminating against others. this is why pope francis’ open-minded teachings are meaningful to people around the world. people no longer are looking to religion to tell them what is right and wrong, they are looking to find a welcoming community that focuses on acceptance.  last week’s papal visit solidified the success of pope francis’ forward thinking vision for the catholic church. as the united states becomes more diverse and tolerant, discriminatory forms of christianity are seen as unacceptable by a growing number of people. pope francis’ efforts to rebrand the catholic church are necessary for it to survive in the modern world.  nathan penn is a junior political science major and a columnist for the vidette. any questions or comments regarding his column can be sent to njpenn@ilstu.edu. follow him on twitter @natejpenn.'}\n",
      "\n",
      " - Index: news_data_custom\n",
      "   ID: 69dcef94-c7b7-46d8-920a-098783bd7d3a\n",
      "   Score: 138.71927\n",
      "   Source: {'id': '69dcef94-c7b7-46d8-920a-098783bd7d3a', 'source': '6abc.com RSS Feed', 'published': '2015-09-25T14:23:49Z', 'title': 'PHOTOS: POPE FRANCIS SPEAKS AT THE UNITED NATIONS', 'media-type': 'Blog', 'content': \"pope us visit\\tphotos: pope francis speaks at the united nations friday, september 25, 2015 10:23am pope francis addressed more than 100 world leaders and diplomats at the united nations friday, becoming the fourth pontiff to speak before the general assembly. related topics:religion pope pope francis pope us visit united nations u.s. & world environment new york city load comments related live updates: pope francis in the united states photos: pope francis in the united states pope us visit pope francis to bring his message to world leaders at un photos: pope francis in the united states pope's visit inspires man to return to faith pope francis leads evening prayers in new york more pope us visit religion & spirituality pope francis to bring his message to world leaders at un photos: pope francis in the united states pope's visit inspires man to return to faith pope francis leads evening prayers in new york more religion & spirituality top stories live video: pope francis speaking to the u.n. general assembly pope francis to bring his message to world leaders at un gop lawmakers: speaker boehner to resign end of october live updates: pope francis in the united states photos: pope francis in the united states more road, septa station closures go into effect timeline: highway, bridge, road closures for papal visit show more security getting tighter in center city ahead of papal visit argentinian couple makes journey to see pope in philly good samaritan gives papal tickets to grateful group pope francis leads evening prayers in new york video: previewing action news coverage of papal visit more news map my news photos photos: pope francis arrives in new york check out the red carpet fashion from the 2015 emmy awards photos: pennsville building explosion photos: miss america 2016 pageant more photos\"}\n",
      "\n",
      " - Index: news_data_custom\n",
      "   ID: 5b7b02ce-8c1d-4553-82b9-db6b6d32eaa7\n",
      "   Score: 137.36726\n",
      "   Source: {'id': '5b7b02ce-8c1d-4553-82b9-db6b6d32eaa7', 'source': 'Nat Geo Education Blog', 'published': '2015-09-23T11:00:26Z', 'title': 'HOW ARE LATINOS CHANGING CATHOLIC COMMUNITIES IN THE U.S.?', 'media-type': 'Blog', 'content': 'united states the latino influence on u.s. catholic church is a backdrop for\\xa0pope francis’ visit to the united states. (los angeles times) asses the religious landscape of the u.s. with mapmaker interactive’s “major religions” layer. teachers, scroll down for a quick list of key resources, including today’s simple mapmaker interactive map. discussion ideas read through the l.a. times article and take a look at the second bookmark on today’s mapmaker interactive map. where are the largest catholic communities in the u.s.? the west coast, southwest, upper midwest, and northeast. \\xa0 what historic and contemporary immigration patters influenced this religious landscape? historic: according to the l.a. times, “the bedrock of american catholicism for generations was in east coast strongholds from boston to baltimore, where irish, polish, german and italian immigrants dominated the church.” contemporary: the west’s growing catholic communities have largely been influenced by immigration from latin america, primarily mexico and central america. \\xa0 how are latino catholics changing the general political traditions of the historically european u.s. catholic community? language: latino-led congregations often celebrate more masses in spanish rather than english. immigration reform: more latino catholics support immigration reform “as a matter of justice,” says los angeles archbishop jose horacio gomez, while more european-led catholic organizations (such as the catholic league) oppose immigration reform. many catholics argue that a greater latino presence is not changing catholicism in the u.s., reminding readers that “the hispanic presence in the church is the original face of the church in this country. the first non-indigenous language spoken in this country was not english. it was spanish. we shouldn’t think about hispanics as newcomers to our society or to the church. hispanics were here from the beginning.” \\xa0 if latinos make up the majority of the u.s. catholic population, why is the church concerned with bolstering the community’s growth? according to the l.a. times, “the number of latinos who consider themselves catholic has actually declined in recent years, from 67% in 2010 to 55% in 2015.” the growth of latino catholic communities may reflect a growth in latino communities overall. younger people are “choosing their own forms of private spirituality, or abandoning religion altogether.” older people are leaving catholicism for more evangelical branches of christianity. \\xa0 teachers’ toolkit los angeles times: latino influence on catholic church is a backdrop to pope francis’ visit nat geo: who are u.s. catholics? numbers show a surprising shift nat geo: where is pope francis visiting? map nat geo: major religions of the world map'}\n",
      "\n",
      " - Index: news_data_custom\n",
      "   ID: 35559d30-7023-4775-93c6-14d3ab82ea02\n",
      "   Score: 131.74281\n",
      "   Source: {'id': '35559d30-7023-4775-93c6-14d3ab82ea02', 'source': 'Baxter Bulletin', 'published': '2015-09-02T22:30:02Z', 'title': 'PAPAL MASS IN WASHINGTON WILL BE IN SPANISH', 'media-type': 'News', 'content': 'a man looks at an exhibition on junipero serra at the basilica of the national more a man looks at an exhibition on junipero serra at the basilica of the national shrine of the immaculate conception in washington on aug. 20, 2015. pope francis will be celebrating mass at the national shrine on sept. 23, 2015, and will canonize serra, the spanish missionary who introduced christianity to california in the 18th century.  less l\\'osservatore romano/pool photo via ap) pope francis celebrates mass at the vatican\\'s santa marta hotel on aug. 31, 2015. pope francis celebrates mass at the vatican\\'s santa marta hotel on aug. 31, 2015.  less washington\\xa0—\\xa0\\xa0when pope francis celebrates a canonization mass at for a spanish-american missionary in washington this month, he will do so in a language that the new saint,\\xa0junípero serra,\\xa0would recognize: spanish. there\\'s a number of reasons for that, said cardinal donald wuerl, the archbishop of washington who will be hosting the pope on the washington leg of his three-city u.s. visit later this month. first, spanish is the pope\\'s mother tongue, having been born in argentina. \"but it’s also a recognition of how large the hispanic\\xa0population in the united states is,\" wuerl said. \"and also because he is canonizing\\xa0a spanish speaker. and he\\'s coming as the first pope from the new world, and the language, the predominant language of the western hemisphere is spanish.\" hispanics make up one-third of the u.s. catholic church. \"they\\'re the biggest source of population growth in the church,\" said julia young, a professor at the catholic university of america, a pontifically chartered university in washington, who has written about the history of hispanic catholics in america. \"but\\xa0most latinos and hispanics,\\xa0coming here from counties that are majority catholic, are facing challenges to their catholic identity.\\xa0there have been a number of pentecostal\\xa0denominations\\xa0that have been appealing to that community and have been making inroads,\" she said.\\xa0\"so from the perspective of the institutional church, which obviously wants to keep people in the church, there\\'s a real need to reach out to the next generation of latinos and make sure they’re becoming part of the church.\" usa today report: catholic church losing ground in latin america the canonization mass is also a reminder that \"the latino catholic church in the united states is actually older than the united states itself,\" young said. \"so as a\\xa0historian, it\\'s interesting that this is a nod to the deep latino history of catholicism.\" serra was born on the spanish island of\\xa0mallorca in 1713, became a franciscan friar, and sailed to mexico in 1749. he\\xa0later established a series of missions along the california coast. john paul ii set his cause for sainthood into motion by beatifying him in 1988, but\\xa0his sainthood is controversial among some native american groups for the sometimes coercive methods he used to convert tribes to christianity. the canonization mass will be outdoors, at the basilica of the national shrine of the immaculate conception and the adjoining campus of the catholic university of america. tickets are being distributed by the archdiocese to parishes, mostly in the washington area, and wuerl said he\\'s had 10 requests for every ticket. \"i have found that i have far more dear friends that i ever realized,\" he said. \"so the balancing act is how do you get an equitable distribution of those seats. ... that\\'s a good problem to have.\" the 25,000 capacity is smaller than previous papal masses in the nation\\'s capital\\xa0— a 1979 mass by pope john paul ii on the national mall that drew 175,000, and a 2008 mass by pope benedict xvi at the newly opened nationals park attended by 50,000. \"a huge, mall-type mass is not what the holy father was looking for\" in washington,\\xa0wuerl said.\\xa0instead, there will be an open-to-the-public\\xa0mass on the\\xa0benjamin franklin parkway in philadelphia during the world meeting of families sept. 27. but if you\\'re one of the 25,000 people with a ticket to the washington mass and you don\\'t speak spanish,\\xa0be not afraid: \"it will not be solely in spanish. and we do intend to have the jumbotron translation,\" wuerl said.'}\n",
      "\n",
      " - Index: news_data_custom\n",
      "   ID: 85b4b1ed-54f9-444d-9d8d-056f2daf2f9c\n",
      "   Score: 130.79726\n",
      "   Source: {'id': '85b4b1ed-54f9-444d-9d8d-056f2daf2f9c', 'source': 'Catholic Courier', 'published': '2015-09-29T20:38:17Z', 'title': 'POPE HAS BEEN INVITED TO CANADA, BUT VATICAN SAYS NOTHING CONFIRMED', 'media-type': 'News', 'content': 'by philippe vaillancourt  catholic news service  philadelphia (cns) -- now that pope francis\\' trip to the united states has ended, many wonder when he will visit canada, as he has been invited to visit montreal in 2017.  asked about this possibility, jesuit father federico lombardi, vatican spokesman, said there is no plan to visit canada at the moment.  \"i understand your desire to see the pope in your city (montreal), and you have the right to hope,\" a smiling father lombardi said in french during a news conference in philadelphia sept. 27.  he immediately added that he is not aware of any \"concrete plan for a trip to canada.\"\\xa0  earlier this year, pope francis was invited to visit montreal in 2017 by montreal mayor denis coderre, montreal archbishop christian lepine and quebec prime minister philippe couillard. the biggest french canadian city will celebrate the 375th anniversary of its foundation in 2017.  father lombardi reminded that, for now, only two papal trips are confirmed: africa in november, and poland in july for world youth day. he said other papal trips are just \"suppositions.\"  invited to comment on the possibility that pope francis might visit canada\\'s \"peripheries,\" father lombardi said pope francis cares \"for everyone.\" he added that, just like the pope did in the united states and latin america, he would surely pay close attention to canada\\'s \"peripheries\" if he ever visits.  in philadelphia for the world meeting of families and papal visit, archbishop paul-andre durocher of gatineau, quebec, said there was no confirmation from rome for a canadian trip.\\xa0  \"what i see from francis is a desire to meet the peripheries, the marginalized,\" said archbishop durocher, immediate past president of the canadian conference of catholic bishops. \"if he comes to canada to visit these peripheries, it would be wonderful.\"  when asked what those peripheries would be, the archbishop mentioned people from the first nations, immigrants, the poor, and victims of sex abuse by clergy members.  archbishop lepine noted that pope francis \"just completed a 10-day trip in cuba and the united states that no one saw coming,\" adding that people need to expect the unexpected with this pope.  st. john paul ii visited canada three times as pope: 1984, 1987 and 2'}\n",
      "\n",
      " - Index: news_data_custom\n",
      "   ID: a03a78de-605a-4f2e-acf0-cb5ef88d40c8\n",
      "   Score: 129.60684\n",
      "   Source: {'id': 'a03a78de-605a-4f2e-acf0-cb5ef88d40c8', 'source': 'Breitbart.com', 'published': '2015-09-28T15:16:15Z', 'title': 'POPE FRANCIS: AMERICANS ‘SO LOVABLE’', 'media-type': 'News', 'content': 'john moore/  by . 28 sep 2015 0   after his historic, first-ever visit to the united states, pope francis said he was surprised by “the warmth of the people, who are so lovable.”  the pope spent 45 minutes speaking with the media aboard the american airlines flight that carried him back to rome after his nine-day visit to cuba and the united states, and answered a series of questions.  he said the trip was “beautiful” and summed up the welcome he received in the three cities of his tour by saying that in washington the welcome was “warm but more formal”; in new york the people were “exuberant” and in philadelphia they were “very expressive.”  the pope also said he was “very struck” by the kindness of the people and by their “piety and religiosity,” evidenced during the religious ceremonies.  “you could see the people pray and this struck me a lot,” he said. it was “beautiful.”  the pope also said that everything about the trip went smoothly and there were no provocations, insults or anything of the sort.  the pope reserved special praise for the work of the religious sisters in the united states.  “the sisters in the united states have done marvels in the field of education and in the field of health. the people of the united states love the sisters. i don’t know how much they love the priests (laughter), but they love the sisters, they love them so much.”  “they are great, they are great, great, great women,” he said. “and that’s why i felt the obligation to say thank you for all they have done.”  francis said that the challenge now for the church in the united states is “to accompany people in their growth—through the good times but also through the difficult ones—accompanying people in their joy and in their bad moments, in their difficulties when there is no work or ill health.”  “the church’s challenge is to stay close to the people, close to the people of the united states. not a church detached from the people but one that is close to them, close, close and this is something that the church in america has understood, and understood well,” he said.  follow thomas d. williams twitter@tdwilliamsrome   read more stories about:  big government , faith , pope francis , christianity , catholic church , us papal visit , us papal trip'}\n",
      "\n",
      " - Index: news_data_custom\n",
      "   ID: 17869afc-d37c-4d3f-942b-1e6d22ada669\n",
      "   Score: 129.42525\n",
      "   Source: {'id': '17869afc-d37c-4d3f-942b-1e6d22ada669', 'source': 'McAllen Monitor', 'published': '2015-09-23T09:45:00Z', 'title': \"COMMENTARY: THE POPE'S VISIT AND ITS IMPORTANCE TO HISPANICS\", 'media-type': 'News', 'content': 'the first latin american pope has arrived in the united states for an historic, six-day apostolic visit — his first to the united states as pontiff. pope francis’s visit, which started on tuesday in washington, d.c., will include trips to new york city and philadelphia and has officially been scheduled to coincide with the celebration of the world meeting of families. pope francis also on friday is schedule to address the united nations general assembly on its 70th anniversary and is expected to discuss climate change.   for hispanic catholics, however, the most significant part of the pope’s visit may lie elsewhere, in the his symbolically key visit on friday to our lady queen of angels school in east harlem, new york, a catholic school with a student population that is 70 percent latino and 22 percent black.  the pontiff’s presence at the school will represent a public show of papal concern for the more socially and economically vulnerable members of american society, many of whom are young, catholic hispanics. but it is also a wake up call for the u.s. catholic church to involve itself more actively in the everyday realities of the lives of hispanics, because the future of the catholic church in the united states will itself be increasingly hispanic.  the school visit is even more significance in light of the pope’s recent protests against the global economic inequalities that have led to what he called a “tragic rise” in the number of migrants fleeing poverty worldwide. on wall street, the pope will use his visit to place a disadvantaged, largely hispanic school community of migrant origin on the world’s center stage.  this approach marks a clear departure from the papacy of john paul ii, who was a more conservative pope for whom hispanic and latin american catholics were key pieces in a global fight against communism. in contrast, pope francis has chosen to highlight the marginalization and uprootedness that are experienced by many hispanics largely as a result of the global economic model endorsed by the united states.  this pope believes that the continued exclusion of poorer hispanics in the united states degrades america. in washington, d.c., pope francis is scheduled to canonize the 18th-century franciscan missionary junípero serra, the “apostle of california,” during a mass at the basilica of the national shrine of the immaculate conception. serra toiled among the indigenous people in mexico after arriving from spain; he then spent 15 years in california, founding missions at san diego, san francisco and elsewhere before his death in 1784.  what possible relevance does the canonization of an obscure mallorcan (indeed migrant) saint have in 2015? according to pope francis, serra should be seen as “one of the founding fathers of the united states” by virtue of his missionary zeal and protection of his indigenous and hispanic flock. by following his legacy, the pope has said: “may all americans rediscover their own dignity and unite themselves ever more closely to christ and his church.”  the force of language is striking. pope francis is saying that the denial of dignity to hispanics is not merely wrong, but wrong because it compromises the dignity of all americans.  since it is unlikely that pope francis’ visit will lead to sudden conversions among world policymakers over climate change, it may be that its greatest impact is felt in his call for greater recognition of migrants’ humanity. pope francis is clearly priming american catholics to take a stronger position on questions such as migration reform and the social inclusion of hispanics.  as the u.s. catholic church becomes ever more hispanic, while hispanics themselves become more diverse in their religious choices, the pope clearly is making a renewed pitch for the spiritual loyalties of migrant communities. and that might just be the most impactful message of this papal trip — a very public recognition by the pontiff of the individual identity of hispanics, the problems that they face and their value to the catholic church.  matthew butler is an associate professor of modern mexican history and is also affiliated with the department of religious studies in the college of liberal arts at the university of texas at austin.'}\n",
      "\n",
      " - Index: news_data_custom\n",
      "   ID: c5143304-6367-4044-be25-0e7a67ce3d80\n",
      "   Score: 128.15889\n",
      "   Source: {'id': 'c5143304-6367-4044-be25-0e7a67ce3d80', 'source': 'International Business Times', 'published': '2015-09-23T12:30:54Z', 'title': \"POPE WASHINGTON DC PRAYER LIVE STREAM: FRANCIS' ST. MATTHEW'S CATHEDRAL PRAYER, MASS INFO\", 'media-type': 'News', 'content': 'pope francis is expected to\\xa0both deliver a prayer and celebrate mass in the nation\\'s capital this week. francis is scheduled to first participate in\\xa0the prayer wednesday, which is expected to be private,\\xa0at 11:3o a.m. \\xa0with u.s.\\xa0bishops at\\xa0st. matthew\\'s cathedral in washington. st. matthews cathedral is a historic church, the fourth established in the city when it was dedicated on\\xa0nov.\\xa01, 1840. it also held the funeral of president john f. kennedy, the first-ever catholic u.s. president,\\xa0on nov. 25 1963.  after the prayer, francis is scheduled to celebrate mass at 4:15 p.m. wednesday at\\xa0the basilica of the national shrine of the immaculate conception. the church website calls it\\xa0\\xa0\"america\\'s catholic church,\" and claims it is \"the largest roman catholic church in the united states and north\\xa0america\" and \"one of the ten largest churches in the world.\"   pope francis | findthebest  some 25,000 people were allowed to get\\xa0tickets to attend the mass. it is expected to be the first canonization mass on united states\\' soil as francis recognizes a new saint in spanish-american missionary\\xa0junípero serra. it is also expected that francis, a native of argentina,\\xa0will celebrate mass in spanish, the language of serra, according to usa today .\\xa0  hispanics make up about one-third of the catholic church\\'s total congregation in the united states and washington\\xa0is 10.4 percent hispanic, according to census data .\\xa0about 25 percent of u.s. catholic churches celebrate\\xa0mass in spanish at least once per month, according to georgetown university data .\\xa0\"[hispanics are]\\xa0the biggest source of population growth in the church,\" said julia young, a professor at the\\xa0catholic university of america, according to usa today.\\xa0  there are a couple of ways to\\xa0follow along with the papal visit\\xa0events in washington\\xa0online. the united states conference of catholic bishops will live stream all events, which can be found here . time warner cable news will have around the clock coverage online, which can be found here .'}\n",
      "\n",
      " - Index: news_data_custom\n",
      "   ID: 2e86aa48-6028-4378-9d82-ca21819adf8e\n",
      "   Score: 127.85887\n",
      "   Source: {'id': '2e86aa48-6028-4378-9d82-ca21819adf8e', 'source': 'Social Dashboard', 'published': '2015-09-21T02:07:45Z', 'title': 'POPE FRANCIS CAREFUL IN NAVIGATING CUBAN POLITICS - NEW YORK TIMES', 'media-type': 'News', 'content': 'havana — revolution square is the political stage of revolutionary cuba. fidel castro held huge rallies here to castigate the imperialists up north. looming over the square are immense portraits of the revolutionaries che guevara and camilo cienfuegos.  into this charged atmosphere on sunday came pope francis, celebrating an outdoor mass attended by president raúl castro, the leadership of his communist government and tens of thousands of cuban people. for those hoping francis would speak about political freedom during his visit to cuba, the moment seemed ripe.  and francis did speak about politics. colombian politics. he encouraged that country’s peace talks.  as for cuban politics, francis has so far spoken in what might be called pope code. at the plaza and other events on sunday, as he did at the airport welcoming ceremony the day before, francis refrained from any direct criticisms of the cuban government but made the sort of oblique asides that could be interpreted as disapproval — or explained away as anything but.  “service is never ideological,” francis said at the plaza soaked in ideology, after summoning cubans to embrace the christian ideal of service, “for we do not serve ideas. we serve people.”  in visiting cuba, francis is following his predecessors — both pope john paul ii and pope benedict xvi held mass in revolution square — and charting a new path. as the first latin-american pope, francis is enormously influential in his native region, which has raised expectations and pressures that he will wade into regional politics. his role in brokering the diplomatic breakthrough between cuba and the united states has only raised his credibility.  yet he is careful to avoid seeming too political and is being especially careful in navigating the politics of cuba. this cautiousness has frustrated some cuban dissidents who want a public meeting with the pope. on sunday, the police stopped three men trying to distribute leaflets near revolution square.  “i wouldn’t say we are disappointed — it simply doesn’t appear to us to be right or just that the pope doesn’t have a little time to meet with those cubans who are defending human rights,” said josé daniel ferrer, the head of nation’s largest dissident organization, the patriotic union of cuba.  mr. daniel said that more than 60 people had been arrested before and during the pope’s visit, including three prominent female activists who were in contact with the pope’s delegation. but he noted that the detentions had been conducted carefully, a sign of the changing times.  francis has dipped into some issues in latin america, and avoided getting directly involved in others in the region. during his visit to south america in july, francis endorsed dialogue between bolivia and chile over landlocked bolivia’s demands for an access route to the sea. he gave prominence on sunday to the colombia peace talks — though the vatican has rejected calls to directly intervene in the negotiations between the government and the farc rebel group. francis has also resisted requests that he support argentina’s claims on the falkland islands.  “there has never been such resonance for the papacy in latin america,” said gianni la bella, an expert in rome on latin-american catholicism. “you could almost say that francis is considered as an alternate united nations in the region.”  for many cubans, those living on the island as well as the diaspora, the role of the pope is more than merely spiritual. as an argentine, francis lived through dictatorship and the political turmoil that ensued, giving him more than just a linguistic and historical affinity for the people of cuba, said hugo cancio, a cuban-american businessman.      multimedia feature | francis in america latest news and features on pope francis’ visit to washington, new york and philadelphia in september.    “he is one of us, in many ways,” mr. cancio said. “he understands the desires of cubans.”  he added: “his message cannot be spiritual alone — there has to be some political component. but he is doing it in a soft and careful way.”  the welcoming ceremony on saturday offered a small example of this balancing act. first, francis thanked president castro and conveyed his respects to fidel castro. then, in a nod to dissidents and the diaspora, he added that he “would like my greeting to embrace especially all those who, for various reasons, i will not be able to meet, and to cubans throughout the world.”  after the mass on sunday, francis met for more than a half-hour with fidel castro and members of his family for what the vatican spokesman described as an informal and familial chat. the two men exchanged books, as francis recalled that the former cuban leader had asked for reading materials during pope benedict’s visit in 2012.  francis also had a private meeting with president castro at the palace of revolution, though neither man made any public remarks.  once heavily catholic, cuba has long mattered to the vatican, just as cuba has long influenced south america. during the 1970s, fidel castro and other cuban revolutionaries helped inspire and train the guerrilla movements in argentina and elsewhere across the continent. more recently, populist leftist leaders in venezuela, ecuador and bolivia have embraced cuba and the castro political legacy.  mr. la bella, the analyst, said that francis did not endorse the politics of those leftist leaders but that he recognized they have tapped into a sentiment shared by many people across latin america.  “francis wants to connect with that hope for change that these movements express,” mr. la bella said. “for francis, cuba is a strategic front line for the new relationship with south american countries.”  in his speeches, francis has at times sought to help steer cuba in a new direction at a moment when many analysts expect the thaw with the united states to accelerate political and economic change on the island.  since arriving in cuba, he has emphasized the importance of service to others, holding out christianity as something greater than ideology.\\xa0 at his last appearance\\xa0on sunday, he went off script, challenging the cuban youth in attendance to dream boldly and chastising nations that rob their young of opportunities to work. a day earlier,\\xa0he also sought to link cuba’s independence with its legacy of catholicism.  “he’s trying to link nationality with faith,” said austen ivereigh, author of “the great reformer,” a biography of francis.  whether francis’ approach to cuba can further revive the cuban church remains unclear. many people in the crowd for the outdoor mass recognized the pope’s mission went beyond preaching catholicism to the masses, perhaps none more than the secular cubans in attendance.  ramon trullo, 69, said he came to see the mass because the pope was someone he considered “a personality on the world stage.”  “his ideas are religious ones, but they are also ones that anyone in the world can identify with,” mr. trullo said. “why shouldn’t we accept his words of justice and equality?”'}\n",
      "\n",
      " - Index: news_data_custom\n",
      "   ID: 5e7e5437-f57a-492e-9df5-417f25f665db\n",
      "   Score: 126.05965\n",
      "   Source: {'id': '5e7e5437-f57a-492e-9df5-417f25f665db', 'source': '6abc.com RSS Feed', 'published': '2015-09-26T15:18:00Z', 'title': \"POPE FRANCIS' HOMILY AT CATHEDRAL BASILICA OF SAINTS PETER AND PAUL\", 'media-type': 'Blog', 'content': 'pope us visit\\tpope francis\\' homily at cathedral basilica of saints peter and paul saturday, september 26, 2015 10:16am philadelphia -- read the full text of pope francis\\' homily from his mass at pope francis\\' homily at cathedral basilica of saints peter and paul in philadelphia.-----this morning i learned something about the history of this beautiful cathedral: the story behind its high walls and windows. i would like to think, though, that the history of the church in this city and state is really a story not about building walls, but about breaking them down. it is a story about generation after generation of committed catholics going out to the peripheries, and building communities of worship, education, charity and service to the larger society.that story is seen in the many shrines which dot this city, and the many parish churches whose towers and steeples speak of god\\'s presence in the midst of our communities. it is seen in the efforts of all those dedicated priests, religious and laity who for over two centuries have ministered to the spiritual needs of the poor, the immigrant, the sick and those in prison. and it is seen in the hundreds of schools where religious brothers and sisters trained children to read and write, to love god and neighbor, and to contribute as good citizens to the life of american society. all of this is a great legacy which you have received, and which you have been called to enrich and pass on.most of you know the story of saint katharine drexel, one of the great saints raised up by this local church. when she spoke to pope leo xiii of the needs of the missions, the pope - he was a very wise pope! - asked her pointedly: \"what about you? what are you going to do?\". those words changed katharine\\'s life, because they reminded her that, in the end, every christian man and woman, by virtue of baptism, has received a mission. each one of us has to respond, as best we can, to the lord\\'s call to build up his body, the church.\"what about you?\" i would like to dwell on two aspects of these words in the context of our particular mission to transmit the joy of the gospel and to build up the church, whether as priests, deacons, or members of institutes of consecrated life.first, those words - \"what about you?\" - were addressed to a young person, a young woman with high ideals, and they changed her life. they made her think of the immense work that had to be done, and to realize that she was being called to do her part. how many young people in our parishes and schools have the same high ideals, generosity of spirit, and love for christ and the church! do we challenge them? do we make space for them and help them to do their part? to find ways of sharing their enthusiasm and gifts with our communities, above all in works of mercy and concern for others? do we share our own joy and enthusiasm in serving the lord?one of the great challenges facing the church in this generation is to foster in all the faithful a sense of personal responsibility for the church\\'s mission, and to enable them to fulfill that responsibility as missionary disciples, as a leaven of the gospel in our world. this will require creativity in adapting to changed situations, carrying forward the legacy of the past not primarily by maintaining our structures and institutions, which have served us well, but above all by being open to the possibilities which the spirit opens up to us and communicating the joy of the gospel, daily and in every season of our life.\"what about you?\" it is significant that those words of the elderly pope were also addressed to a lay woman. we know that the future of the church in a rapidly changing society will call, and even now calls, for a much more active engagement on the part of the laity. the church in the united states hasalways devoted immense effort to the work of catechesis and education. our challenge today is to build on those solid foundations and to foster a sense of collaboration and shared responsibility in planning for the future of our parishes and institutions. this does not mean relinquishing the spiritual authority with which we have been entrusted; rather, it means discerning and employing wisely the manifold gifts which the spirit pours out upon the church. in a particular way, it means valuing the immense contribution which women, lay and religious, have made and continue to make, to the life of our communities.dear brothers and sisters, i thank you for the way in which each of you has answered jesus\\' question which inspired your own vocation: \"what about you?\". i encourage you to be renewed in the joy of that first encounter with jesus and to draw from that joy renewed fidelity and strength. i look forward to being with you in these days and i ask you to bring my affectionate greetings to those who could not be with us, especially the many elderly priests and religious who join us in spirit.during these days of the world meeting of families, i would ask you in a particular way to reflect on our ministry to families, to couples preparing for marriage, and to our young people. i know how much is being done in your local churches to respond to the needs of families and to support them in their journey of faith. i ask you to pray fervently for them, and for the deliberations of the forthcoming synod on the family.now, with gratitude for all we have received, and with confident assurance in all our needs, let us turn to mary, our blessed mother. with a mother\\'s love, may she intercede for the growth of the church in america in prophetic witness to the power of her son\\'s cross to bring joy, hope and strength into our world. i pray for each of you, and i ask you, please, to pray for me. related topics:religion pope pope francis pope us visit world meeting of families 2015 u.s. & world center city philadelphia load comments related live updates: pope francis in the united states pope us visit video: local family to participate in mass pope francis is in philadelphia | here\\'s his itinerary video: pope francis lands in philadelphia for final us stop video: dann cuellar waits for pope francis at airport more pope us visit religion & spirituality video: local family to participate in mass pope francis is in philadelphia | here\\'s his itinerary video: pope francis lands in philadelphia for final us stop video: dann cuellar waits for pope francis at airport more religion & spirituality top stories live video: action news coverage of pope francis\\' visit live video: live cameras from papal visit video: pope francis lands in philadelphia for final us stop pope francis is in philadelphia | here\\'s his itinerary live updates: pope francis in the united states accuweather: breezy, mild for start of papal visit live traffic conditions on 6abc.com/traffic show more major highways shut down due to papal visit video: erin o\\'hearn reports from eakins oval on papal visit video: katherine scott reports from logan square on papal visit video: dann cuellar waits for pope francis at airport video: nydia han gets ready for papal visit coverage more news map my news photos photos: philadelphia on eve of papal visit video: erin o\\'hearn reports from eakins oval on papal visit photos: pope francis visits 9/11 memorial photos: pope francis in the united states more photos'}\n",
      "\n"
     ]
    }
   ],
   "execution_count": 50
  },
  {
   "metadata": {
    "ExecuteTime": {
     "end_time": "2024-06-24T18:07:47.865127Z",
     "start_time": "2024-06-24T18:07:47.675249Z"
    }
   },
   "cell_type": "code",
   "source": [
    "# 8th Search Query: FIFA Corruption Scandal\n",
    "fifa_corruption_result = search_index(query_eight, \"news_data_custom\")\n",
    "print_response(fifa_corruption_result)"
   ],
   "id": "aaf7d8e25c3aeffa",
   "outputs": [
    {
     "name": "stdout",
     "output_type": "stream",
     "text": [
      "Search Metadata:\n",
      " - Took: 163 ms\n",
      " - Timed Out: False\n",
      " - Shards: Total - 1, Successful - 1, Skipped - 0, Failed - 0\n",
      " - Hits: Total - 10000 (Relation: gte)\n",
      " - Max Score: 239.29791\n",
      "\n",
      "Hits:\n",
      " - Index: news_data_custom\n",
      "   ID: 51c4afc4-973d-4e94-99bb-9cb0af5d29f5\n",
      "   Score: 239.29791\n",
      "   Source: {'id': '51c4afc4-973d-4e94-99bb-9cb0af5d29f5', 'source': 'MyInforms', 'published': '2015-09-15T11:06:33Z', 'title': 'TROUBLED SOUTH AMERICAN CONFEDERATION APPROVES REFORM PLAN', 'media-type': 'News', 'content': 'south america\\'s troubled football confederation conmebol has approved a reform plan after it was caught up in the corruption scandal that has swept the sport and plunged governing body fifa into… \\r asuncion: south america\\'s troubled football confederation conmebol has approved a reform plan after it was caught up in the corruption scandal that has swept the sport and plunged governing body fifa into crisis. conmebol said its executive committee had approved a \"comprehensive review of the management model and the organisational structure\". ernst & young had been called in to implement the reforms and the audit firm started work at the confederation\\'s headquarters in asuncion, paraguay on monday. conmebol, an influential grouping that includes traditional football powers like brazil and argentina, is heavily embroiled in the corruption probe led by the u.s. federal bureau of investigation (fbi). of 14 football officials and sports marketing executives indicted in the united states in may on bribery, money laundering and wire fraud charges involving more than us$150 million in payments, eight were from south america. they included two former conmebol presidents, eugenio figueredo and nicolas leoz, plus the venezuelan federation president rafael esquivel, the former head of the brazilian confederation and three argentine and one brazilian executives. figueredo and esquivel, still being held in a swiss prison pending extradition proceedings after they were…'}\n",
      "\n",
      " - Index: news_data_custom\n",
      "   ID: 026b96ca-775b-4da7-aeba-f4f751895dfe\n",
      "   Score: 227.84917\n",
      "   Source: {'id': '026b96ca-775b-4da7-aeba-f4f751895dfe', 'source': 'Sky News', 'published': '2015-09-29T13:38:09Z', 'title': \"GUAM JUDGE TO DECIDE SEPP BLATTER'S FATE\", 'media-type': 'News', 'content': 'sepp blatter\\'s fate lies in the hands of the chief justice of guam robert torres, who has been charged with investigating whether the fifa president should be suspended.  torres is a member of the investigatory chamber of the fifa ethics committee, and will lead the probe into blatter because rules prevent its chairman, swiss lawyer cornel borbely, investigating a compatriot.      blatter and uefa chief platini are both under investigation   torres was appointed to his position in guam - a united states pacific island territory in micronesia - in 2008. he was appointed to the fifa ethics committee in 2013, and previous investigations include that into chuck blazer, the former fifa executive committee member who is now the fbi\\'s chief witness in its football corruption investigation.  torres takes charge of the most sensitive case in the ethics committee\\'s history, as it considers whether to suspend blatter and uefa president michel platini.          play video \"blatter facing criminal probe\"      video:  blatter facing criminal probe    blatter is the subject of a criminal investigation by swiss prosecutors, who are examining the circumstances of a £1.3m payment made to platini in february 2011, for work carried out nine years previously.  both men have denied wrongdoing, but the severity of the allegations, coming in the midst of the ongoing corruption scandal, has triggered an ethics committee investigation.  the committee has the power to suspend both blatter and platini pending a full investigation, a decision that would effectively decapitate fifa and uefa, and could end the career of both blatter and his likely successor.  for blatter, suspension would be an ignominious end to 40 years at fifa, as he has already pledged to stand down on 26 february, when his successor will be elected.  platini\\'s prospects of filling his shoes would also be all but over. the deadline for candidates to enter the election is 26 october, but it is doubtful that anyone under suspension and investigation by the ethics committee would be permitted to stand.          play video \"locals support beleaguered blatter\"      video:  locals support beleaguered blatter    with the stakes so high, the ethics committee is unlikely to rush to judgment. sources with knowledge of the process have told sky news it is likely to take \"several days, probably weeks\".  the final decision on whether to suspend will be taken by german judge hans joachim eckert, chairman of fifa\\'s adjudicatory chamber, who will rule on a recommendation from torres in blatter\\'s case, and borbely when it comes to platini.  the key consideration will be whether blatter or platini have breached article 21 of the fifa code of ethics, regarding bribery and corruption.  this states fifa officials \"must not offer, promise, give or accept any undue pecuniary or other advantage for the execution or omission of an act that is related to their official activities\".  it also has a lower threshold for offences, that: \"persons bound by this code must refrain from any activity or behaviour that might give rise to the appearance or suspicion of improper conduct as described in the foregoing sections, or any attempt thereof.\"          play video \"fifa president faces calls to quit\"      video:  fifa president faces calls to quit    the uncertainty over blatter\\'s status is paralysing fifa\\'s ability to carry out its business, and has left him a peripheral figure with deputy general secretary marcus kattner and general counsel marco villiger in charge of day-to-day affairs, with guidance from external lawyers acting for fifa but not blatter.  on monday blatter addressed staff in his personal capacity, reading a statement prepared by his lawyers after the legal department prevented him issuing a statement in his capacity as president.  he was then asked to leave and kattner and villiger spoke to staff, attempting to calm their anxiety about the status of the organisation.  until the ethics committee rules, that uncertainty is unlikely to lift.'}\n",
      "\n",
      " - Index: news_data_custom\n",
      "   ID: 1fd05ea1-85d1-437e-bff7-2b9867791401\n",
      "   Score: 227.20079\n",
      "   Source: {'id': '1fd05ea1-85d1-437e-bff7-2b9867791401', 'source': '3FM Isle of Man', 'published': '2015-09-29T13:47:45Z', 'title': \"GUAM JUDGE TO DECIDE SEPP BLATTER'S FATE\", 'media-type': 'News', 'content': 'sepp blatter\\'s fate lies in the hands of the chief justice of guam robert torres, who has been charged with investigating whether the fifa president should be suspended. torres is a member of the investigatory chamber of the fifa ethics committee, and will lead the probe into blatter because rules prevent its chairman, swiss lawyer cornel borbely, investigating a compatriot.  torres was appointed to his position in guam - a united states pacific island territory in micronesia - in 2008. he was appointed to the fifa ethics committee in 2013, and previous investigations include that into chuck blazer, the former fifa executive committee member who is now the fbi\\'s chief witness in its football corruption investigation.  torres takes charge of the most sensitive case in the ethics committee\\'s history, as it considers whether to suspend blatter and uefa president michel platini.  blatter is the subject of a criminal investigation by swiss prosecutors, who are examining the circumstances of a £1.3m payment made to platini in february 2011, for work carried out nine years previously.  both men have denied wrongdoing, but the severity of the allegations, coming in the midst of the ongoing corruption scandal, has triggered an ethics committee investigation.  the committee has the power to suspend both blatter and platini pending a full investigation, a decision that would effectively decapitate fifa and uefa, and could end the career of both blatter and his likely successor.  for blatter, suspension would be an ignominious end to 40 years at fifa, as he has already pledged to stand down on 26 february, when his successor will be elected.  platini\\'s prospects of filling his shoes would also be all but over. the deadline for candidates to enter the election is 26 october, but it is doubtful that anyone under suspension and investigation by the ethics committee would be permitted to stand.  with the stakes so high, the ethics committee is unlikely to rush to judgment. sources with knowledge of the process have told sky news it is likely to take \"several days, probably weeks\".  the final decision on whether to suspend will be taken by german judge hans joachim eckert, chairman of fifa\\'s adjudicatory chamber, who will rule on a recommendation from torres in blatter\\'s case, and borbely when it comes to platini.  the key consideration will be whether blatter or platini have breached article 21 of the fifa code of ethics, regarding bribery and corruption.  this states fifa officials \"must not offer, promise, give or accept any undue pecuniary or other advantage for the execution or omission of an act that is related to their official activities\".  it also has a lower threshold for offences, that: \"persons bound by this code must refrain from any activity or behaviour that might give rise to the appearance or suspicion of improper conduct as described in the foregoing sections, or any attempt thereof.\"  the uncertainty over blatter\\'s status is paralysing fifa\\'s ability to carry out its business, and has left him a peripheral figure with deputy general secretary marcus kattner and general counsel marco villiger in charge of day-to-day affairs, with guidance from external lawyers acting for fifa but not blatter.  on monday blatter addressed staff in his personal capacity, reading a statement prepared by his lawyers after the legal department prevented him issuing a statement in his capacity as president.  he was then asked to leave and kattner and villiger spoke to staff, attempting to calm their anxiety about the status of the organisation.  until the ethics committee rules, that uncertainty is unlikely to lift. (c) sky news 2'}\n",
      "\n",
      " - Index: news_data_custom\n",
      "   ID: d9143bee-4f85-4ad5-806b-5bce7c73cebf\n",
      "   Score: 221.41518\n",
      "   Source: {'id': 'd9143bee-4f85-4ad5-806b-5bce7c73cebf', 'source': 'National Updates', 'published': '2015-09-29T11:13:59Z', 'title': 'FIFA BAN WARNER FROM FOOTBALL FOR LIFE', 'media-type': 'Blog', 'content': 'advertisement 29 september 2015 at 12:13pm fifa ban warner from football for life jack warner has been under investigation for a while. credit: pa fifa\\'s ethics committee has banned the governing body\\'s former vice-president jack warner from taking part in any football-related activity for life. mr warner, who is fighting extradition from trinidad to the united states on corruption charges, was described by the committee as a \"key player\" involved in illegal payments. the committee said mr warner had been found to have committed \"many and various acts of misconduct continuously and repeatedly during his time as an official in different high-ranking and influential positions at fifa and [confederation of north, central american and caribbean association football] concacaf,\" the committee said in a statement. mr warner resigned from fifa in 2011 following a bribery scandal and has not been involved with the body since then. last updated tue 29 sep 2015 sport fifa football share tweet plus reddit advertisement related news four players miss man united training man city quadrupled de bruyne wages - wolfsburg bournemouth striker out for minimum of six months top stories sanctions move \\'could stop families reporting extremism fears\\' jeremy corbyn to tell labour conference: i love my country jean mcconville murder: no charges for gerry adams and others nhs 111 helpline \\'dangerously understaffed\\' fifa ban warner from football for life angry rail passengers stop train and walk down tracks \\'fake sheikh\\' charged over tulisa drugs trial putin: russia could join air strikes against islamic state stem cell \\'patch\\' used to treat age-related blindness weather: another fine day after early mist and fog'}\n",
      "\n",
      " - Index: news_data_custom\n",
      "   ID: 7ce5e30b-b273-4701-8232-502a84594978\n",
      "   Score: 221.40706\n",
      "   Source: {'id': '7ce5e30b-b273-4701-8232-502a84594978', 'source': 'Wilmslow Guardian', 'published': '2015-09-29T12:17:28Z', 'title': 'FIFA ETHICS COMMITTEE BANS JACK WARNER FROM FOOTBALL FOR LIFE', 'media-type': 'News', 'content': 'disgraced former fifa vice-president jack warner has been banned for life by fifa\\'s ethics committee and described as a \"key player\" involved in illegal payments.  warner, who is fighting extradiction from trinidad to the usa on corruption charges, resigned from fifa in 2011 following a bribery scandal and has not been involved since then.  fifa\\'s ethics committee opened an investigation into warner earlier this year and has now banned him for life from football-related activities.  a statement from the ethics committee said: \"mr warner was found to have committed many and various acts of misconduct continuously and repeatedly during his time as an official in different high-ranking and influential positions at fifa and concacaf.  \"in his positions as a football official, he was a key player in schemes involving the offer, acceptance, and receipt of undisclosed and illegal payments, as well as other money-making schemes.\"     share article'}\n",
      "\n",
      " - Index: news_data_custom\n",
      "   ID: d72941b8-df11-4bb8-9343-3acfcb9ac01d\n",
      "   Score: 219.6054\n",
      "   Source: {'id': 'd72941b8-df11-4bb8-9343-3acfcb9ac01d', 'source': 'Harrogate Advertiser', 'published': '2015-09-29T15:37:22Z', 'title': 'FIFA ETHICS COMMITTEE BANS JACK WARNER FROM FOOTBALL FOR LIFE', 'media-type': 'News', 'content': 'disgraced former fifa vice-president jack warner has been banned for life by fifa\\'s ethics committee and described as a \"key player\" involved in illegal payments.warner, who is fighting extradiction from trinidad to the usa on corruption charges, resigned from fifa in 2011 following a bribery scandal and has not been involved since then.fifa\\'s ethics committee opened an investigation into warner earlier this year and has now banned him for life from football-related activities.a statement from the ethics committee said: \"mr warner was found to have committed many and various acts of misconduct continuously and repeatedly during his time as an official in different high-ranking and influential positions at fifa and concacaf.\"in his positions as a football official, he was a key player in schemes involving the offer, acceptance, and receipt of undisclosed and illegal payments, as well as other money-making schemes.\"copyright pa sport 2015, all rights reserved'}\n",
      "\n",
      " - Index: news_data_custom\n",
      "   ID: 5f767aaf-593c-4e43-8ec8-6e1ab1610452\n",
      "   Score: 219.47075\n",
      "   Source: {'id': '5f767aaf-593c-4e43-8ec8-6e1ab1610452', 'source': 'Reuters UK', 'published': '2015-09-15T10:30:25Z', 'title': 'TROUBLED SOUTH AMERICAN CONFEDERATION APPROVES REFORM PLAN', 'media-type': 'News', 'content': 'asuncion south america\\'s troubled football confederation conmebol has approved a reform plan after it was caught up in the corruption scandal that has swept the sport and plunged governing body fifa into crisis. conmebol said its executive committee had approved a \"comprehensive review of the management model and the organisational structure\". ernst & young had been called in to implement the reforms and the audit firm started work at the confederation\\'s headquarters in asuncion, paraguay on monday. conmebol, an influential grouping that includes traditional football powers like brazil and argentina, is heavily embroiled in the corruption probe led by the u.s. federal bureau of investigation (fbi). of 14 football officials and sports marketing executives indicted in the united states in may on bribery, money laundering and wire fraud charges involving more than $150 million in payments, eight were from south america.  they included two former conmebol presidents, eugenio figueredo and nicolas leoz, plus the venezuelan federation president rafael esquivel, the former head of the brazilian confederation and three argentine and one brazilian executives. figueredo and esquivel, still being held in a swiss prison pending extradition proceedings after they were arrested in zurich on the eve of a fifa congress, were both conmebol executive committee members at the time.  the core charges in the case focus on the alleged payment of bribes to secure commercial and broadcasting contracts for major tournaments in the americas.  in june, paraguay\\'s congress approved a measure withdrawing immunity from the conmebol\\'s headquarters. the building, on a  40-hectare site near asuncion\\'s airport, had enjoyed immunity from search since it was opened in 1997. (writing by brian homewood in berne; editing by mark trevelyan )'}\n",
      "\n",
      " - Index: news_data_custom\n",
      "   ID: 0e67ed5d-b825-40b8-8673-6379cfc1c6d8\n",
      "   Score: 219.25119\n",
      "   Source: {'id': '0e67ed5d-b825-40b8-8673-6379cfc1c6d8', 'source': 'Gnom.es', 'published': '2015-09-29T10:12:44Z', 'title': 'PRESIDENTIAL CANDIDATE CHUNG SAYS FIFA SHOULD STILL RUN FOOTBALL', 'media-type': 'News', 'content': 'fifa presidential candidate chung mong-joon speaks during a news conference in seoul, south korea, september 3, 2015. news.gnom.es/kim hong-ji  south korean fifa presidential candidate chung mong-joon insists soccer’s embattled governing body is still the right organisation to run the world’s most popular sport, but only if the current leadership is ousted. in a statement pushing his case that he was the right man to lead change, chung said he supported the ongoing investigations taking place into alleged corruption in fifa, but believed the running of the sport should not be given to “outsiders”. “the most urgent task at hand is to root out corruption from within fifa,” he said. “justice must be served. resuscitating fifa, however, should be left to those who love football. the future of football should not be left in the hands of outsiders.” chung, the 63-year-old billionaire scion of south korea’s hyundai industrial conglomerate, formally announced last month that he was running for the fifa presidency. the incumbent, sepp blatter, is to stand down in february.  chung has been heavily critical of blatter, who has run fifa for the past 17 years and recently become the focus of a criminal investigation. blatter has denied any wrongdoing and has not been charged with any crimes. but chung said fifa was “facing an unprecedented crisis” and could not continue under the same leadership in the wake of the ongoing scandal. “under such circumstances, fifa and regional confederations should consider convening extra-ordinary sessions of their respective executive committee as well as congress to set up an emergency task force that will enable fifa secretariat to function without interruption,” he said.  “fifa should not be an institution that provides for the opulent life style of a powerful few. “rather, it should be transformed into an organisation dedicated to providing footballers and football fans with the experience of joy and hope that only football can provide, all the while instilling the spirit of fair play.” chung is one of several men who have announced they plan to run for the fifa presidency. the others are uefa president michel platini, jordan’s prince ali and musa bility, the liberian football association boss.  former brazilian great zico, former trinidad and tobago international midfielder david nakhid, segun odegbami, a former nigerian player have also said they will stand. south african businessman tokyo sexwale and nigerian businessman orji uzor kalu are also considering a bid. if elected, chung said he would only serve a single four year term, time enough to reform fifa, then step aside. “i will use the first two years to undertake a complete structural and operational reform of fifa. the other two years will be devoted to bringing about unity and harmony to the organization,” he said. “forty years of culture of corruption can be eradicated in four years. there is no reason why it cannot be done. in fact, that is the only way it can be done.” (reporting by julian linden)'}\n",
      "\n",
      " - Index: news_data_custom\n",
      "   ID: b459bfff-b462-4af5-af09-a9759db3748b\n",
      "   Score: 217.1016\n",
      "   Source: {'id': 'b459bfff-b462-4af5-af09-a9759db3748b', 'source': 'Sports Mole', 'published': '2015-09-29T12:53:00Z', 'title': 'FIFA BANS FORMER VICE-PRESIDENT JACK WARNER FROM FOOTBALL FOR LIFE', 'media-type': 'News', 'content': 'former fifa vice-president jack warner has been banned for life from football by the organistation\\'s ethics committee.warner, who resigned from fifa in 2011 following a bribery scandal, was described as a \"key player\" involved in illegal payments.a statement from the ethics committee read: \"mr warner was found to have committed many and various acts of misconduct continuously and repeatedly during his time as an official in different high-ranking and influential positions at fifa and concacaf.\"in his positions as a football official, he was a key player in schemes involving the offer, acceptance, and receipt of undisclosed and illegal payments, as well as other money-making schemes.\"warner is currently fighting extradition from trinidad to the usa on corruption charges.'}\n",
      "\n",
      " - Index: news_data_custom\n",
      "   ID: 8f033ae2-9223-42b9-abc0-507953bcf7f7\n",
      "   Score: 214.53296\n",
      "   Source: {'id': '8f033ae2-9223-42b9-abc0-507953bcf7f7', 'source': 'DailyMe.Com', 'published': '2015-09-29T12:36:07Z', 'title': 'FIFA SLAPS FORMER VICE PRESIDENT JACK WARNER WITH LIFETIME BAN', 'media-type': 'News', 'content': 'jack warner, one of the top officials in international soccer\\'s governing body, has received a lifetime ban on participating in any football-related activity, whether at a national or international level, fifa said tuesday. the ruling was handed down by fifa\\'s ethics committee, which began investigating warner\\'s activities after allegations of a corruption scandal broke in the spring. warner had been a fifa vice president and member of the executive committee. \"mr. warner was found to have co...  read the full article'}\n",
      "\n"
     ]
    }
   ],
   "execution_count": 51
  },
  {
   "metadata": {
    "ExecuteTime": {
     "end_time": "2024-06-24T18:07:48.007360Z",
     "start_time": "2024-06-24T18:07:47.866862Z"
    }
   },
   "cell_type": "code",
   "source": [
    "# 9th Search Query: Iran Nuclear Deal\n",
    "iran_nuclear_deal_result = search_index(query_nine, \"news_data_custom\")\n",
    "print_response(iran_nuclear_deal_result)"
   ],
   "id": "14bff2f1ae294a5a",
   "outputs": [
    {
     "name": "stdout",
     "output_type": "stream",
     "text": [
      "Search Metadata:\n",
      " - Took: 116 ms\n",
      " - Timed Out: False\n",
      " - Shards: Total - 1, Successful - 1, Skipped - 0, Failed - 0\n",
      " - Hits: Total - 10000 (Relation: gte)\n",
      " - Max Score: 247.84875\n",
      "\n",
      "Hits:\n",
      " - Index: news_data_custom\n",
      "   ID: ac0840c2-74d3-4226-8222-2caeb9c9efc9\n",
      "   Score: 247.84875\n",
      "   Source: {'id': 'ac0840c2-74d3-4226-8222-2caeb9c9efc9', 'source': 'Keep It Fresh', 'published': '2015-09-05T15:40:16Z', 'title': 'JAPAN, IRAN TO START INVESTMENT TALKS NEXT WEEK – FINANCIAL EXPRESS', 'media-type': 'Blog', 'content': 'the news international japan, iran to start investment talks next week financial express japan and iran will start talks next week to negotiate a bilateral investment treaty, as washington moves to ease sanctions against tehran and tokyo looks to step up its interests in the resource rich nation. by: afp | tokyo | september 5, 2015 9:10 pm\\xa0... three lessons from the iran deal newsday ernest istook: blame congress, not just obama, for awful iran nuclear deal washington times iran mps to have say on nuclear deal in late sept: speaker the guardian nigeria (satire) (press release) (blog) all 1,496 news articles\\xa0»'}\n",
      "\n",
      " - Index: news_data_custom\n",
      "   ID: 1327d9f0-73b8-4a3e-bbd7-5aaa3903b27a\n",
      "   Score: 243.30443\n",
      "   Source: {'id': '1327d9f0-73b8-4a3e-bbd7-5aaa3903b27a', 'source': 'Sputnik', 'published': '2015-09-03T10:06:00Z', 'title': \"IRAN'S SUPREME LEADER WARNS NUCLEAR DEAL TO COLLAPSE IF SANCTIONS REMAIN\", 'media-type': 'News', 'content': 'islamic republic\\'s supreme leader ayatollah ali khamenei said that there will be no nuclear deal on iran\\'s nuclear deal unless sanctions against iran are lifted. moscow (sputnik)\\xa0— the iran nuclear deal will collapse unless sanctions against\\xa0the country are completely removed, the islamic republic\\'s supreme leader ayatollah ali khamenei said thursday. \"there will be no deal unless sanctions against\\xa0iran are lifted,\" khamenei was quoted as\\xa0saying by\\xa0press tv.'}\n",
      "\n",
      " - Index: news_data_custom\n",
      "   ID: d3308ba7-8f59-4ba5-b73c-32a2ee8cdec2\n",
      "   Score: 242.35869\n",
      "   Source: {'id': 'd3308ba7-8f59-4ba5-b73c-32a2ee8cdec2', 'source': 'NigerianHerald.com', 'published': '2015-09-03T00:12:00Z', 'title': 'OBAMA SCORES POLICY WIN IN SECURING VOTES FOR IRAN NUCLEAR DEAL - REUTERS', 'media-type': 'News', 'content': \"reutersobama scores policy win in securing votes for iran nuclear dealreuterswashington u.s. president barack obama scored a major foreign policy victory on wednesday by securing enough senate votes to protect the iran nuclear deal in congress, but republicans pledged to keep up their fight against the pact with new\\xa0...iran nuclear deal figures big in 'day 1' presidential candidate promisescnnfew senators are undecided on iran, but cardin is still strugglingwashington postdemocrats and the ayatollahswall street journalusa today\\xa0-christian science monitor\\xa0-the australianall 3,645 news articles\\xa0»...  published by: google news - today\"}\n",
      "\n",
      " - Index: news_data_custom\n",
      "   ID: 1f5e0216-71ac-4562-8ea7-6ff4ac5262cd\n",
      "   Score: 241.91797\n",
      "   Source: {'id': '1f5e0216-71ac-4562-8ea7-6ff4ac5262cd', 'source': '92.9 WLMI', 'published': '2015-09-01T17:33:45Z', 'title': 'DEMOCRAT CASEY BECOMES 32ND U.S. SENATOR TO SUPPORT IRAN NUCLEAR DEAL', 'media-type': 'News', 'content': '1:33 p.m. edt  washington (reuters) - democratic u.s. senator bob casey said on tuesday he would support the nuclear deal with iran, calling it the best option available to prevent iran from acquiring a nuclear weapon.  \"it places strict limitations on iran\\'s nuclear program, requires robust monitoring and verification measures, and grants relief only from nuclear sanctions in exchange for verified actions on iran\\'s part,\" casey said in a statement.  casey became the 32nd u.s. senator, including 30 democrats and two independents who vote with democrats, to support the deal, increasing the odds that president barack obama will muster enough support for the agreement to ensure it will survive congressional review.  (reporting by patricia zengerle; editing by emily stephenson)'}\n",
      "\n",
      " - Index: news_data_custom\n",
      "   ID: fec783c9-8770-4ddd-8d4f-c030ed5ea74c\n",
      "   Score: 241.68379\n",
      "   Source: {'id': 'fec783c9-8770-4ddd-8d4f-c030ed5ea74c', 'source': 'Jewish Journal of Greater Los Angeles', 'published': '2015-09-10T21:24:00Z', 'title': 'OBAMA HAILS SENATE VOTE PROTECTING IRAN NUCLEAR DEAL', 'media-type': 'News', 'content': 'president barack obama welcomed a senate vote blocking a republican-backed measure to derail the iran nuclear agreement, saying it was a victory for diplomacy and u.s. and international security. read more . related entries  september 10, 2015 senate democrats block effort to kill iran nuclear deal  september 10, 2015 the finale iran deal senate vote tally  september 10, 2015 obama wants u.s. to prepare for 10,000 syrian refugees next year  september 9, 2015 on iran deal, biden tells jews, ‘i promise you it will be enforced’  september 9, 2015 khamenei says israel will not last 25 more years; will not negotiate with u.s. beyond nuclear talks'}\n",
      "\n",
      " - Index: news_data_custom\n",
      "   ID: b4507f62-82f1-4841-9c7f-fd02dcd0cf30\n",
      "   Score: 239.76129\n",
      "   Source: {'id': 'b4507f62-82f1-4841-9c7f-fd02dcd0cf30', 'source': 'Bayou Buzz', 'published': '2015-09-09T17:33:48Z', 'title': 'HILLARY CLINTON TAKES TOUGH TONE ON IRAN NUCLEAR DEAL', 'media-type': 'News', 'content': 'washington—hillary clinton said wednesday that if elected president, she would vigorously enforce the nuclear pact with iran while challenging tehran’s influence in the middle east and its human rights record at home, and said she would not hesitate to use military action if necessary against the regime.  the democratic front-runner, in a major address, said that the contentious nuclear accord, negotiated by the obama administration...     washington—hillary clinton said wednesday that if elected president, she would vigorously enforce the nuclear pact with iran while challenging tehran’s influence in the middle east and its human rights record at home, and said she would not hesitate to use military action if necessary against the regime.  the democratic front-runner, in a major address, said that the contentious nuclear accord, negotiated by the obama administration...'}\n",
      "\n",
      " - Index: news_data_custom\n",
      "   ID: 24521bf7-b05f-4f5f-988c-67d14b8ae992\n",
      "   Score: 237.72049\n",
      "   Source: {'id': '24521bf7-b05f-4f5f-988c-67d14b8ae992', 'source': 'US.NewsHub.org', 'published': '2015-09-03T10:36:45Z', 'title': \"IRAN'S KHAMENEI BACKS PARLIAMENTARY VOTE ON NUCLEAR DEAL WITH POWERS: STATE TV\", 'media-type': 'News', 'content': 'ankara iran\\'s supreme leader said on thursday he backed a parliamentary vote on a historic nuclear deal reached with six major powers and said sanctions against his country should be lifted completely rather than suspended, state television reported.  \"the parliament should not be sidelined on the nuclear deal issue ... i am not saying lawmakers should approve the deal or reject it. it is up to them to decide,\" ayatollah ali khamenei said.  \"sanctions imposed on iran should be lifted and not only suspended ... if not, then we will only suspend our nuclear activities ... our officials only discuss the nuclear deal with america ... we will never support america\\'s policies on syria and iraq.\"  also read: obama secures iran nuclear deal with barbara mikulski vote    source: reuters.com'}\n",
      "\n",
      " - Index: news_data_custom\n",
      "   ID: ab0a3759-273b-4e87-b947-15c2e5312eb8\n",
      "   Score: 234.041\n",
      "   Source: {'id': 'ab0a3759-273b-4e87-b947-15c2e5312eb8', 'source': 'MyInforms', 'published': '2015-09-21T11:34:46Z', 'title': 'TWO MONTHS LATER, AMERICAN SUPPORT FOR THE IRAN NUCLEAR DEAL IS NOT LOOKING GOOD', 'media-type': 'News', 'content': 'democrats in congress this week blocked another attempt by republicans to kill the iran nuclear deal.\\xa0but while liberal lawmakers move the deal forward, americans are losing faith in the agreement as time goes by.\\xa0                                                                                         © 2000 - 2015 al bawaba (www.albawaba.com)                read … \\r democrats in congress this week blocked another attempt by republicans to kill the iran nuclear deal. but while liberal lawmakers move the deal forward, americans are losing faith in the agreement as time goes by. a survey by the pew research center in september shows support from americans for the iran nuclear deal fell drastically in the past two months alone, since the deal was struck on july 14. here are the numbers. the declining support also crosses party lines, with democratic support falling 8 percent and independent support…'}\n",
      "\n",
      " - Index: news_data_custom\n",
      "   ID: 826175ae-da5b-45f6-812b-bd592388c1b4\n",
      "   Score: 233.52362\n",
      "   Source: {'id': '826175ae-da5b-45f6-812b-bd592388c1b4', 'source': 'TD Ameritrade', 'published': '2015-09-10T20:31:16Z', 'title': 'SENATE VOTE CLEARS WAY FOR IRAN NUCLEAR DEAL', 'media-type': 'News', 'content': 'senate democrats blocked a republican resolution on thursday that would have rejected the nuclear deal with iran. the vote in the senate means that the deal will take effect without president barack obama having to use his veto pen. the agreement lifts sanctions on iran in exchange for curbs on its nuclear program. -robert schroeder; 415-439-6400; asknewswires@dowjones.com (end) dow jones newswires september 10, 2015 16:18 et (20:18 gmt) copyright (c) 2015 dow jones & company, inc.'}\n",
      "\n",
      " - Index: news_data_custom\n",
      "   ID: 8ceed66e-289c-49de-a6c8-afa6a0dc1c25\n",
      "   Score: 233.51248\n",
      "   Source: {'id': '8ceed66e-289c-49de-a6c8-afa6a0dc1c25', 'source': 'MFS - The Other News', 'published': '2015-09-02T15:58:42Z', 'title': 'VIDEO - JOHN KERRY SPEAKS IN PHILLY ON IRAN NUCLEAR DEAL  READ MORE: HTTP://WWW.NBCPHILADELPHIA.COM/NEWS/LOCAL/JOHN-KERRY-NUCLEAR-DEAL-PHILADELPHIA-NATIONAL-CONSTITUTION-CENTER-IRAN-323876571.HTML#IXZZ3KB6XM33F FOLLOW US: @NBCPHILADELPHIA ON TWITTER | NBC', 'media-type': 'Blog', 'content': \"video - john kerry speaks in philly on iran nuclear deal read more: http://www.nbcphiladelphia.com/news/local/john-kerry-nuclear-deal-philadelphia-national-constitution-center-iran-323876571.html#ixzz3kb6xm33f follow us: @nbcphiladelphia on twitter | nbcphiladelphia on facebook posted by will mfs at 11:58 am email thisblogthis!share to twittershare to facebookshare to pinterestlabels: antisemitic platform, high crimes and misdemeanors, iaea, iran's staunchest ally, nuclear inspections, snapback sanctions, the most anti american pres evah, the most anti israeli pres evah\"}\n",
      "\n"
     ]
    }
   ],
   "execution_count": 52
  },
  {
   "metadata": {
    "ExecuteTime": {
     "end_time": "2024-06-24T18:07:48.110122Z",
     "start_time": "2024-06-24T18:07:48.007360Z"
    }
   },
   "cell_type": "code",
   "source": [
    "# 10th Search Query: Apple introduces the iPhone 6s and iPhone 6s Plus\n",
    "apple_iphone_result = search_index(query_ten, \"news_data_custom\")\n",
    "print_response(apple_iphone_result)"
   ],
   "id": "72307dbbcb5bba2b",
   "outputs": [
    {
     "name": "stdout",
     "output_type": "stream",
     "text": [
      "Search Metadata:\n",
      " - Took: 85 ms\n",
      " - Timed Out: False\n",
      " - Shards: Total - 1, Successful - 1, Skipped - 0, Failed - 0\n",
      " - Hits: Total - 10000 (Relation: gte)\n",
      " - Max Score: 241.92131\n",
      "\n",
      "Hits:\n",
      " - Index: news_data_custom\n",
      "   ID: 47ae6962-dca9-41e8-8439-2979f0e5846d\n",
      "   Score: 241.92131\n",
      "   Source: {'id': '47ae6962-dca9-41e8-8439-2979f0e5846d', 'source': 'EHabari.com', 'published': '2015-09-10T14:10:00Z', 'title': 'BREAKING NEWS : SERENA WILLIAMS STANDING ON THE BRINK OF HISTORY – NEWS TODAY', 'media-type': 'News', 'content': 'late show with stephen colbert, colbert, cbs, colbert late show, the late show with stephen colbert, george clooney, stephen colbert late show, colbert late show date, the late show, the late show with stephen colbert episode 1, late show iphone 6s  sep 8, 2015 apple, apple event, ipad pro, apple pencil, iphone 7, new iphone, iphone, apple tv, ios 9, apple iphone 6s, iphone 6s plus, aapl, apple announcement, apple event september 2015, iphone 6, iphone 6s release, ios 9 release, apple announcement september 2015, apple news, apple stock, ipad, apple keynote, iphone 6s price, iphone 6s release date, […]'}\n",
      "\n",
      " - Index: news_data_custom\n",
      "   ID: 7c779e24-b365-4747-97e0-a48fbdd337ea\n",
      "   Score: 233.97258\n",
      "   Source: {'id': '7c779e24-b365-4747-97e0-a48fbdd337ea', 'source': 'Forwarded Tech News', 'published': '2015-09-10T16:05:41Z', 'title': 'TOP STORIES OF THE DAY // SEPTEMBER 10, 2015', 'media-type': 'Blog', 'content': \"the apple pencil is the ipad pro’s secret\\xa0weapon | apple pencil: hands-on with apple’s stylus for the ipad\\xa0pro | everything you need to know from today’s massive apple\\xa0event | apple introduces the iphone 6s and iphone 6s\\xa0plus | ipad pro: hands-on with apple’s new tablet for professionals and\\xa0creatives | apple unveils the ipad\\xa0pro | here’s how apple’s new surface compares to microsoft’s surface and some\\xa0laptop | dailythursday, september 10 2015 today's top stories: top headline | romain dillet the apple pencil is the ipad pro’s secret\\xa0weapon apple unveiled the ipad pro, a bigger, more powerful ipad. while in many ways it looks and feels like a bigger ipad air, the ipad pro has a secret weapon -- its... read more… lucas matney apple pencil: hands-on with apple’s stylus for the ipad\\xa0pro after talking a good amount of smack over the years about styluses, today apple\\xa0revealed the apple pencil, an input device that allows ipad pro users insanely... read more… sponsored content you're just a cf push away from turning an idea into an app with ibm bluemix try bluemix today to help reduce app development time with pre-built services hosted on the ibm cloud. try a new way to create. learn more… lucas matney everything you need to know from today’s massive apple\\xa0event damn, apple just dropped a ton of new hardware today, including new iphones, ipads and a brand new apple tv. there were a lot of goodies snuck into today's... read more… catch up with crunch report iphone 6s & 6s plus. ipad pro, new apple tv the iphone 6s and iphone 6s plus get 3d touch and an a9 chip, the apple watch will get os2 on september 16th, apple unveils new 12.9 inch ipad pro, the new apple tv streams in 60fps and features voice control, tinder adds “super like” feature. watch now jordan crook apple introduces the iphone 6s and iphone 6s\\xa0plus today, apple has unveiled the latest generation of the iphone in the form of the iphone 6s and the iphone 6s plus. rumors have been swirling for the past few... read more… lucas matney ipad pro: hands-on with apple’s new tablet for professionals and\\xa0creatives apple unveiled its tablet behemoth, the\\xa0ipad pro, today at its event. the gorgeous 12.9″ screen gives users enough screen real estate to engage in the... read more… romain dillet apple unveils the ipad\\xa0pro meet the ipad pro, apple’s latest and greatest tablet. apple introduced the long-rumored device at today’s fall event. as expected, it has a huge... read more… alex wilhelm here’s how apple’s new surface compares to microsoft’s surface and some\\xa0laptop apple announced a new ipad today at its media event. yes, the ipad pro is real, matching\\xa0the various leaked statistics that have rattled around the media-scape... read more… get more stories at techcrunch.com\\xa0 \\xa0 \\xa0 \\xa0 \\xa0 if you do not want to receive this email or you would like to update your preferences click here. 410 townsend street, san francisco, ca 94107© 2015 aol inc. all rights reserved. \\xa0 privacy policy \\xa0 terms of service\"}\n",
      "\n",
      " - Index: news_data_custom\n",
      "   ID: c78cffb3-1be1-4499-a5fa-941e6b26b787\n",
      "   Score: 233.41357\n",
      "   Source: {'id': 'c78cffb3-1be1-4499-a5fa-941e6b26b787', 'source': 'CNET News', 'published': '2015-09-09T19:37:58Z', 'title': 'APPLE DROPS PRICES FOR IPHONE 6, 6 PLUS BY $100', 'media-type': 'Blog', 'content': 'apple drops prices for iphone 6, 6 plus by $100 prices for apple\\'s original iphone 6 models fall as company unveils new iphone 6s and 6s plus. by terry collins @terryscollins september 9, 2015 12:22 pm pdt updated: september 9, 2015 1:14 pm pdt apple is dropping the price of the iphone 6 and 6 plus by $100 as newer models appear. john moore/getty images apple lowered the price of the iphone 6 and 6 plus by $100 on wednesday as the tech giant unveiled updated versions of the two smartphones.with a two-year contract, the iphone 6 will now cost $99 and the iphone 6 plus will be $199, phil schiller, apple\\'s senior vice president of marketing, said at the company\\'s big product-launch event in san francisco. the phones used to cost $199 and $299, respectively. meanwhile, the iphone 5s has become an entry-level iphone of sorts and will be available for free with a two-year contract. apple ceo tim cook called the original iphone 6 and 6 plus the most \"popular and loved phones in the world\" as he introduced their new siblings: the iphone 6s and 6s plus. with a two-year contract, the 6s and 6s plus cost $199 and $299, the original prices of the older models.the iphone is more vital to apple\\'s financial results following the introduction of apple\\'s bigger-screen smartphones a year ago. the device has made up more than two-thirds of the company\\'s sales in the past several quarters since apple released the 4.7-inch iphone 6 and 5.5-inch iphone 6 plus a year ago.check out cnet\\'s complete coverage of today\\'s apple news. tags: apple event apple mobile tech industry previous story seth meyers: hillary clinton is more like betty white than edward snowden next story apple introduces iphone upgrade program about the author terry collins terry writes about social networking giants and legal issues in silicon valley. he joined cnet news from the associated press,... see full bio comments more from cnet'}\n",
      "\n",
      " - Index: news_data_custom\n",
      "   ID: 88d7db48-8bdf-40d9-a83c-b2bf0e32f228\n",
      "   Score: 232.37805\n",
      "   Source: {'id': '88d7db48-8bdf-40d9-a83c-b2bf0e32f228', 'source': 'Pettinga Financial Advisors', 'published': '2015-09-25T23:32:00Z', 'title': 'COMPANY UPDATE: APPLE INC (NASDAQ:AAPL) – APPLE LOOP: IPHONE 6S PLUS REVIEWS, EMBARRASSING BUGS STOP IPHONE UPDATES, THE MANY SECRETS OF IOS 9', 'media-type': 'News', 'content': '[at forbes] – this week’s apple loop includes forbes’ review of the iphone 6s, a round-up of other iphone 6s and 6s plus reviews, thoughts on the ‘incremental’ aspect of the ‘s’ updates, . . . → read more: similar articles: market update (nasdaq:aapl): apple introduces iphone 6s & iphone 6s plus stock update: apple inc (nasdaq:aapl) – apple loop: ipod touch’s hidden cost, the new iphone is full of gimmicks, ios 8.4 forced on users stock update: apple inc (nasdaq:aapl) – jim cramer — apple iphone sales could surprise; hp still a concern'}\n",
      "\n",
      " - Index: news_data_custom\n",
      "   ID: 89a0e58c-6549-4e2a-a6c8-804ffcd38668\n",
      "   Score: 232.37805\n",
      "   Source: {'id': '89a0e58c-6549-4e2a-a6c8-804ffcd38668', 'source': 'Stock Nod', 'published': '2015-09-25T23:32:00Z', 'title': 'COMPANY UPDATE: APPLE INC (NASDAQ:AAPL) – APPLE LOOP: IPHONE 6S PLUS REVIEWS, EMBARRASSING BUGS STOP IPHONE UPDATES, THE MANY SECRETS OF IOS 9', 'media-type': 'News', 'content': '[at forbes] – this week’s apple loop includes forbes’ review of the iphone 6s, a round-up of other iphone 6s and 6s plus reviews, thoughts on the ‘incremental’ aspect of the ‘s’ updates, . . . → read more: similar articles:  market update (nasdaq:aapl): apple introduces iphone 6s & iphone 6s plus  stock update: apple inc (nasdaq:aapl) – apple loop: ipod touch’s hidden cost, the new iphone is full of gimmicks, ios 8.4 forced on users  stock update: apple inc (nasdaq:aapl) – jim cramer — apple iphone sales could surprise; hp still a concern'}\n",
      "\n",
      " - Index: news_data_custom\n",
      "   ID: a8d72217-c40b-4bf3-b4a5-2431d03f333f\n",
      "   Score: 229.74228\n",
      "   Source: {'id': 'a8d72217-c40b-4bf3-b4a5-2431d03f333f', 'source': 'Wall Street Select', 'published': '2015-09-09T19:08:00Z', 'title': 'MARKET UPDATE (NASDAQ:AAPL): APPLE INTRODUCES IPHONE 6S & IPHONE 6S PLUS', 'media-type': 'News', 'content': 'at 15:08 pm edt [business wire] – apple® today announced iphone® 6s and iphone 6s plus, the most advanced iphones ever, adding a powerful new dimension to iphone’s revolutionary multi-touch™ interface. the new iphones introduce 3d touch, . . . → read more: market update (nasdaq:aapl): apple introduces iphone 6s & iphone 6s plus similar articles: market update (nasdaq:aapl): amazon just soared past apple in the streaming tv market stock update: apple inc (nasdaq:aapl) – what jabil earnings say about apple iphone sales stock update: apple inc (nasdaq:aapl) – jim cramer — apple iphone sales could surprise; hp still a concern       related stocks'}\n",
      "\n",
      " - Index: news_data_custom\n",
      "   ID: 639554aa-a987-405f-b25c-9dfbca8380df\n",
      "   Score: 227.94185\n",
      "   Source: {'id': '639554aa-a987-405f-b25c-9dfbca8380df', 'source': 'TheSummitExpress', 'published': '2015-09-09T23:26:06Z', 'title': 'APPLE IPHONE 6S, IPHONE 6S PLUS NOW OFFICIAL: PHOTOS, SPECS, PRICE AND AVAILABILITY IN THE PHILIPPINES', 'media-type': 'Blog', 'content': \"apple iphone 6s, iphone 6s plus now official: photos, specs, price and availability in the philippines thursday, september 10, 2015 posted by admin advertisement iphone 6s and iphone 6s plus are finally here. check out full specifications, photos, expected price and availability in the philippines.manila, philippines - apple officially announced today, september 9, 2015 (september 10 in manila time) its new flagship devices iphone 6s and iphone 6s plus, adding new dimension to iphone’s revolutionary multi-touch interface. the new iphones introduce 3d touch, which senses force to enable intuitive new ways to access features and interact with content. the peek and pop feature allows you to dip in and out of content without losing your place. press lightly to peek at a photo, email, web page or other content, and press a little deeper to pop into the content itself. with quick actions, 3d touch provides shortcuts to the things you do most, so you can send a message or take a selfie with just a simple press from the home screen.apple introduces 3d touch function to iphone 6s and iphone 6s plus iphone 6s and iphone 6s plus are now even better as apple introduced live photos, which go beyond snapshots to capture moments in motion. live photos are 12-megapixel photos that, with just a press, reveal the moments immediately before and after the shot was taken.the new devices boast a9, apple’s third-generation 64-bit chip with 70 percent faster cpu and 90 percent faster gpu performance than the a8, all with gains in energy efficiency for great battery life.“the only thing that has changed with iphone 6s and iphone 6s plus is everything — 3d touch lets users interact with iphone in entirely new and fun ways, and the innovative live photos brings your pictures to life,” said philip schiller, apple’s senior vice president of worldwide marketing. “these are the most advanced iphones ever, with 7000 series aluminum, ion-strengthened glass, the new 64-bit a9 chip, 12-megapixel isight and 5-megapixel facetime hd cameras, faster touch id, lte and wi-fi. customers are going to love them.”iphone 6s and iphone 6s plus are powered by the ios 9, dubbed as the world’s most advanced mobile operating system. it will be available on wednesday, september 16 as a free update for iphone, ipad and ipod touch users.iphone 6s and iphone 6s plus powered by ios 9 “with ios 9 we focused on strengthening the foundation of ios with a deep focus on quality, and with the help of more than one million users who participated in our first ever public beta program, we’re excited to release the best version of ios yet,” said craig federighi, apple’s senior vice president of software engineering.the new iphones will be available in gold, silver, space gray and the new rose gold metallic finishes.apple adds rose gold metallic color to new iphone line-up here's the full specifications of apple iphone 6s and iphone 6s plus:6s plus: 5.5-inch display (1080 x 1920 pixels, 401 ppi) 6s: 4.7-inch display (750 x 1334 pixels, 326 ppi) 3d touch pressure sensitive ion-x scratch resistant glass apple a9 64-bit processor m9 motion coprocessor 12.0 megapixel autofocus main camera with ois (6s plus only) and two-tone led flash 5.0 megapixel front camera with retina (display) flash 16gb/64gb/128gb internal storage single sim (nano) 4g lte-a, 3g hspa+, 2g edge and gprs networks dual band wi-fi and wi-fi hotspot nfc support bluetooth 4.2 a-gps with glonass lightning port 3.5mm audio jack touchid finger print sensor digital compass barometer gyroscope accelerometer proximity sensor ambient light sensor li-ion battery (non-removable) pricing and availabilily in the philippines (for update)iphone 6s and iphone 6s plus will be available in australia, canada, china, france, germany, hong kong, japan, new zealand, puerto rico, singapore, the uk and the us beginning friday, september 25, with pre-orders beginning saturday, september 12.iphone 6s has the same pricing with its predecessor. the 16gb will retail for $199 which comes with two-year contract. meanwhile the 64gb and 128gb models will retail for $299 and $399 respectively.iphone 6s plus is priced at $299 for 16gb, $399 for 64gb and $499 for 128gb.apple has no words yet for the exact pricing and availability in the philippines. thesummitexpress will update this page as we got more details of the local launch. like us on facebook or follow us on twitter to receive updates. labels: 3d touch, apple, availability, iphone 6s, iphone 6s plus, live photos, official specs, photos, technology next you're viewing the most recent article\"}\n",
      "\n",
      " - Index: news_data_custom\n",
      "   ID: b4cc9d0d-257c-4389-b7a2-a37e178cb5fa\n",
      "   Score: 227.31894\n",
      "   Source: {'id': 'b4cc9d0d-257c-4389-b7a2-a37e178cb5fa', 'source': \"Lester Chan's Website\", 'published': '2015-09-16T01:36:25Z', 'title': 'APPLE IPHONE 6S PLUS LEATHER CASE (MIDNIGHT BLUE)', 'media-type': 'Blog', 'content': 'the apple iphone 6s plus leather case is retailing for s$68 and similar to apple iphone 6 plus leather case , it was available for shipping much earlier than the phone itself.  there are five colors available for apple iphone 6s/iphone 6s plus leather case: midnight blue, saddle brown, rose grey, brown and black.  just for comparison, the previous colors for apple iphone 6/iphone 6 plus leather case were: black, (product) red, midnight blue, olive brown and soft pink.  the packaging for the iphone 6s/iphone 6s leather case has changed. previously, for iphone 6/6 plus, the packaging is clear so that you can see the leather case from outside.  apple iphone 6 plus leather case – packaging front  for the iphone 6s/iphone 6s plus, the packaging is now in a box maybe because of environmental reasons.  apple iphone 6s plus leather case (midnight blue) – box front   previously, i didn’t managed to get a gold 128gb for iphone 6 plus due to telco stock availability and hence i settled for a space gray 128gb iphone 6 plus with a black leather case.  this time round, i managed to get a gold 128gb iphone 6s plus because i ordered it online from apple store .  i got the midnight blue leather case to go with it because i think it matches quite well.  i will update this post again with new pictures when i received my gold iphone 6s plus.  just in case you are wondering, the apple iphone 6 leather cases will be compatible with iphone 6s and vice versa. so does your apple iphone 6 plus leather cases with iphone 6s plus and vice versa.  this is because the different in sizes are very marginal as shown in the table below:  iphone 6 vs iphone 6s      measurement  iphone 6  iphone 6s  difference      height  138.1mm  138.3mm  0.2mm    width  67.0mm  67.1mm  0.1mm    depth  6.9mm  7.1mm  0.2mm    weight  129g  143g  14g      iphone 6 plus vs iphone 6s plus      measurement  iphone 6 plus  iphone 6s plus  difference      height  158.1mm  158.2mm  0.1mm    width  77.8mm  77.9mm  0.1mm    depth  7.1mm  7.3mm  0.2mm    weight  172g  192g  20g      again, based on the table above, technically most if not all current iphone 6/6 plus cases should still fit fine with iphone 6s/6s plus.  apple iphone 6s plus leather case (midnight blue) – box back  apple iphone 6s plus leather case (midnight blue) – box  apple iphone 6s plus leather case (midnight blue) – box open  apple iphone 6s plus leather case (midnight blue) – box open  apple iphone 6s plus leather case (midnight blue) – back  apple iphone 6s plus leather case (midnight blue) – front  apple iphone 6s plus leather case (midnight blue)'}\n",
      "\n",
      " - Index: news_data_custom\n",
      "   ID: 27b8ded6-87b3-43e2-9ee1-4c345580f928\n",
      "   Score: 226.16101\n",
      "   Source: {'id': '27b8ded6-87b3-43e2-9ee1-4c345580f928', 'source': 'Northern Voices Online', 'published': '2015-09-03T16:41:57Z', 'title': 'BEFORE APPLE IPHONE 6S, IPHONE 6S PLUS LAUNCH, ELITE VERSION PREORDER BEGINS AT $3,844', 'media-type': 'Blog', 'content': 'before apple iphone 6s, iphone 6s plus launch, elite version preorder begins at $3,844 sep 3, 2015 | filed under: business | posted by: admin before apple iphone 6s, iphone 6s plus launch, elite version preorder begins at\\xa0$3,844 while apple iphone 6s and iphone 6s plus haven’t been launched and we don’t actually have very accurate information as to how it will look like, you can already pre-order the handsets. nonetheless these handsets will not be the general iphone 6s and iphone 6s plus that most of the people will be buying in the coming weeks in their millions. to be true, these are actually premium versions and come at sky-high prices and their base model begins at just $3844. if you are eager to spend such a whopping amount of money you can pre-order next iphone versions’ 24k gold, platinum, swarovski editions through goldgenie. there is no denying the fact that there will be many thousand people who will not wait a minute before placing the order for such handsets. while most people will wait till september 9 when the iphone 6s and iphone 6s plus handsets will be launched in san francisco, the luxury versions are already up for pre-order. latest reports suggest that goldgenie is actually accepting preorders for the “elite” version of the apple iphone 6s and iphone 6s plus. these handsets look a lot different than the common iphone versions. the elite versions come with coating of platinum, gold and rose gold. the price range starts from $3,844. a report in the gsm arena says that the above mentioned price is for 64 gb variant of the apple iphone 6s elite and iphone 6s plus elite. however, in the case of 16 gb model, the price is 200 pounds lesser than the original price, whereas the 128 gb model will cost 200 pounds higher. iphone 6s release date, iphone 6s plus release date,\\xa0iphone 6s specs, iphone 6s plus\\xa0specs shortlink: posted by admin on sep 3, 2015. filed under business. you can follow any responses to this entry through the rss 2.0. both comments and pings are currently closed.'}\n",
      "\n",
      " - Index: news_data_custom\n",
      "   ID: 9ed6ab15-f989-4195-a97e-1ca47fbb2b11\n",
      "   Score: 226.13266\n",
      "   Source: {'id': '9ed6ab15-f989-4195-a97e-1ca47fbb2b11', 'source': 'IT-Code-News', 'published': '2015-09-10T10:24:41Z', 'title': 'IT NEWS HEAD LINES (LEGIT REVIEWS) 11/09/2015', 'media-type': 'Blog', 'content': 'all-new apple tv starts at $149 for 32gb modelapple brings innovation back to television with the all-new apple tv the app store, siri remote & tvos are coming to your living room san francisco — september 9, 2015 —...read more ...apple iphone 6s & iphone 6s plus coming september 25thapple introduces iphone 6s & iphone 6s plus next generation of multi-touch arrives in the most advanced iphones ever san francisco — september 9, 2015 — apple today...read more ...lian li pc-q21 mini-itx pc case announced for $75lian li introduces the pc-q21 series pc chassis mini tower chassis offers a tight fit but enough room for a full powered mini-itx system september 9, 2015, keelung, taiwan...read more ...nvidia geforce gtx 950 video card roundup – asus, evga and zotacnvidia geforce gtx 950 video card roundup the nvidia geforce gtx 900 series is without a doubt the the best selling desktop graphics card right now and the introduction of...read more ...available tags:apple tv , apple , tv , iphone 6 , iphone , iphone , nvidia , geforce , gtx , evga , zotac ,\\xa0'}\n",
      "\n"
     ]
    }
   ],
   "execution_count": 53
  }
 ],
 "metadata": {
  "kernelspec": {
   "display_name": "Python 3",
   "language": "python",
   "name": "python3"
  },
  "language_info": {
   "codemirror_mode": {
    "name": "ipython",
    "version": 2
   },
   "file_extension": ".py",
   "mimetype": "text/x-python",
   "name": "python",
   "nbconvert_exporter": "python",
   "pygments_lexer": "ipython2",
   "version": "2.7.6"
  }
 },
 "nbformat": 4,
 "nbformat_minor": 5
}
